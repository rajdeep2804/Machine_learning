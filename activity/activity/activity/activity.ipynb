{
 "cells": [
  {
   "cell_type": "code",
   "execution_count": 400,
   "id": "ebe80eb6",
   "metadata": {},
   "outputs": [],
   "source": [
    "import pandas as pd"
   ]
  },
  {
   "cell_type": "code",
   "execution_count": 401,
   "id": "9d800f18",
   "metadata": {},
   "outputs": [],
   "source": [
    "all_documents=pd.read_csv('activity_data.csv')"
   ]
  },
  {
   "cell_type": "code",
   "execution_count": 402,
   "id": "7b9817a0",
   "metadata": {},
   "outputs": [
    {
     "data": {
      "text/html": [
       "<div>\n",
       "<style scoped>\n",
       "    .dataframe tbody tr th:only-of-type {\n",
       "        vertical-align: middle;\n",
       "    }\n",
       "\n",
       "    .dataframe tbody tr th {\n",
       "        vertical-align: top;\n",
       "    }\n",
       "\n",
       "    .dataframe thead th {\n",
       "        text-align: right;\n",
       "    }\n",
       "</style>\n",
       "<table border=\"1\" class=\"dataframe\">\n",
       "  <thead>\n",
       "    <tr style=\"text-align: right;\">\n",
       "      <th></th>\n",
       "      <th>Unnamed: 0</th>\n",
       "      <th>user_id</th>\n",
       "      <th>activity</th>\n",
       "      <th>start_time</th>\n",
       "      <th>end_time</th>\n",
       "    </tr>\n",
       "  </thead>\n",
       "  <tbody>\n",
       "    <tr>\n",
       "      <th>0</th>\n",
       "      <td>0</td>\n",
       "      <td>348f8d18-a28a-4d50-bdea-3e409760bb81</td>\n",
       "      <td>pilates</td>\n",
       "      <td>2022-03-24 06:54:45</td>\n",
       "      <td>2022-03-24 07:01:46</td>\n",
       "    </tr>\n",
       "    <tr>\n",
       "      <th>1</th>\n",
       "      <td>1</td>\n",
       "      <td>9eb8b5f4-542a-441b-983b-5a276c2b9b1a</td>\n",
       "      <td>running</td>\n",
       "      <td>2022-03-24 07:02:33</td>\n",
       "      <td>2022-03-24 07:10:41</td>\n",
       "    </tr>\n",
       "    <tr>\n",
       "      <th>2</th>\n",
       "      <td>2</td>\n",
       "      <td>cef1e66a-97f8-46b3-8281-ec0e3969ac21</td>\n",
       "      <td>meditation</td>\n",
       "      <td>2022-03-24 07:11:17</td>\n",
       "      <td>2022-03-24 07:19:11</td>\n",
       "    </tr>\n",
       "    <tr>\n",
       "      <th>3</th>\n",
       "      <td>3</td>\n",
       "      <td>4548b498-4553-4b74-a847-28122af1e3c6</td>\n",
       "      <td>pilates</td>\n",
       "      <td>2022-03-24 07:23:35</td>\n",
       "      <td>2022-03-24 07:30:24</td>\n",
       "    </tr>\n",
       "    <tr>\n",
       "      <th>4</th>\n",
       "      <td>4</td>\n",
       "      <td>a96a87c8-c79a-463e-bb6b-fd1b63755b95</td>\n",
       "      <td>walking</td>\n",
       "      <td>2022-03-24 07:30:47</td>\n",
       "      <td>2022-03-24 07:36:54</td>\n",
       "    </tr>\n",
       "    <tr>\n",
       "      <th>...</th>\n",
       "      <td>...</td>\n",
       "      <td>...</td>\n",
       "      <td>...</td>\n",
       "      <td>...</td>\n",
       "      <td>...</td>\n",
       "    </tr>\n",
       "    <tr>\n",
       "      <th>4995</th>\n",
       "      <td>4995</td>\n",
       "      <td>6627d077-3dc2-4659-9d95-9c56d3775c11</td>\n",
       "      <td>running</td>\n",
       "      <td>2022-05-06 17:48:42</td>\n",
       "      <td>2022-05-06 17:56:45</td>\n",
       "    </tr>\n",
       "    <tr>\n",
       "      <th>4996</th>\n",
       "      <td>4996</td>\n",
       "      <td>afd0c7f4-364c-48a1-91aa-2f3bb3783a54</td>\n",
       "      <td>running</td>\n",
       "      <td>2022-05-06 18:02:25</td>\n",
       "      <td>2022-05-06 18:10:15</td>\n",
       "    </tr>\n",
       "    <tr>\n",
       "      <th>4997</th>\n",
       "      <td>4997</td>\n",
       "      <td>114b8f03-b997-4c9f-abc0-fe196dcf48e8</td>\n",
       "      <td>running</td>\n",
       "      <td>2022-05-06 18:10:00</td>\n",
       "      <td>2022-05-06 18:19:45</td>\n",
       "    </tr>\n",
       "    <tr>\n",
       "      <th>4998</th>\n",
       "      <td>4998</td>\n",
       "      <td>63d377e5-1fdf-4128-8618-31e887e62432</td>\n",
       "      <td>running</td>\n",
       "      <td>2022-05-06 18:24:36</td>\n",
       "      <td>2022-05-06 18:33:17</td>\n",
       "    </tr>\n",
       "    <tr>\n",
       "      <th>4999</th>\n",
       "      <td>4999</td>\n",
       "      <td>10cbe053-86c3-46ae-9e4d-5ed30d38d42b</td>\n",
       "      <td>walking</td>\n",
       "      <td>2022-05-06 18:40:11</td>\n",
       "      <td>2022-05-06 18:49:47</td>\n",
       "    </tr>\n",
       "  </tbody>\n",
       "</table>\n",
       "<p>5000 rows × 5 columns</p>\n",
       "</div>"
      ],
      "text/plain": [
       "      Unnamed: 0                               user_id    activity  \\\n",
       "0              0  348f8d18-a28a-4d50-bdea-3e409760bb81     pilates   \n",
       "1              1  9eb8b5f4-542a-441b-983b-5a276c2b9b1a     running   \n",
       "2              2  cef1e66a-97f8-46b3-8281-ec0e3969ac21  meditation   \n",
       "3              3  4548b498-4553-4b74-a847-28122af1e3c6     pilates   \n",
       "4              4  a96a87c8-c79a-463e-bb6b-fd1b63755b95     walking   \n",
       "...          ...                                   ...         ...   \n",
       "4995        4995  6627d077-3dc2-4659-9d95-9c56d3775c11     running   \n",
       "4996        4996  afd0c7f4-364c-48a1-91aa-2f3bb3783a54     running   \n",
       "4997        4997  114b8f03-b997-4c9f-abc0-fe196dcf48e8     running   \n",
       "4998        4998  63d377e5-1fdf-4128-8618-31e887e62432     running   \n",
       "4999        4999  10cbe053-86c3-46ae-9e4d-5ed30d38d42b     walking   \n",
       "\n",
       "               start_time             end_time  \n",
       "0     2022-03-24 06:54:45  2022-03-24 07:01:46  \n",
       "1     2022-03-24 07:02:33  2022-03-24 07:10:41  \n",
       "2     2022-03-24 07:11:17  2022-03-24 07:19:11  \n",
       "3     2022-03-24 07:23:35  2022-03-24 07:30:24  \n",
       "4     2022-03-24 07:30:47  2022-03-24 07:36:54  \n",
       "...                   ...                  ...  \n",
       "4995  2022-05-06 17:48:42  2022-05-06 17:56:45  \n",
       "4996  2022-05-06 18:02:25  2022-05-06 18:10:15  \n",
       "4997  2022-05-06 18:10:00  2022-05-06 18:19:45  \n",
       "4998  2022-05-06 18:24:36  2022-05-06 18:33:17  \n",
       "4999  2022-05-06 18:40:11  2022-05-06 18:49:47  \n",
       "\n",
       "[5000 rows x 5 columns]"
      ]
     },
     "execution_count": 402,
     "metadata": {},
     "output_type": "execute_result"
    }
   ],
   "source": [
    "all_documents"
   ]
  },
  {
   "cell_type": "code",
   "execution_count": 403,
   "id": "63637f7a",
   "metadata": {},
   "outputs": [],
   "source": [
    "def CountFrequency(my_list):\n",
    " \n",
    "    # Creating an empty dictionary\n",
    "    freq = {}\n",
    "    for item in my_list:\n",
    "        if (item in freq):\n",
    "            freq[item] += 1\n",
    "        else:\n",
    "            freq[item] = 1\n",
    "    return freq"
   ]
  },
  {
   "cell_type": "code",
   "execution_count": 404,
   "id": "898bb9c9",
   "metadata": {},
   "outputs": [],
   "source": [
    "activity_fre = []\n",
    "for i in range(len(all_documents)):\n",
    "    meta = all_documents[\"user_id\"][i]\n",
    "    activity_fre.append(meta)"
   ]
  },
  {
   "cell_type": "code",
   "execution_count": 405,
   "id": "c1fe6184",
   "metadata": {},
   "outputs": [],
   "source": [
    "user_activity = CountFrequency(activity_fre)"
   ]
  },
  {
   "cell_type": "code",
   "execution_count": 406,
   "id": "36554fb5",
   "metadata": {},
   "outputs": [
    {
     "name": "stdout",
     "output_type": "stream",
     "text": [
      "{'348f8d18-a28a-4d50-bdea-3e409760bb81': 170, '9eb8b5f4-542a-441b-983b-5a276c2b9b1a': 168, 'cef1e66a-97f8-46b3-8281-ec0e3969ac21': 71, '4548b498-4553-4b74-a847-28122af1e3c6': 162, 'a96a87c8-c79a-463e-bb6b-fd1b63755b95': 113, 'b365b0f0-4695-4dd7-9779-d2436c2a5198': 166, '41d2e277-46f9-4c15-8bbc-6e26bfcdfe30': 139, '57aeab35-015a-49df-8b92-c2a63e744f45': 120, '9eb2a35d-7e1f-4232-b210-5ea94af5f219': 152, '49bd1de9-45f8-4397-80f5-2cc628b9de44': 69, '63d377e5-1fdf-4128-8618-31e887e62432': 100, '8c0b856f-b979-4d1b-9933-856661874f41': 106, 'a09dc520-40f5-4997-bec8-354320cc99a4': 167, 'd2fae8ab-b49a-41c8-a5fe-d6ec474ccf5b': 88, 'f270972b-ea6c-4146-aa76-33143dfc44b1': 159, '114b8f03-b997-4c9f-abc0-fe196dcf48e8': 148, '64e19970-d38b-431a-89a3-c7f8764b4dce': 178, '7d9acb03-5a81-4dcc-8d16-634e64bd942d': 141, '1682a0bd-ec3c-42e2-99cb-500048b0e418': 93, '77542bc0-4b6e-4e28-8b68-4bb8188f5649': 67, 'ccff4a22-d936-48d1-b195-1619226e1c28': 126, 'afd0c7f4-364c-48a1-91aa-2f3bb3783a54': 132, 'a5ecd4a3-59ea-4666-bc25-f44b0de05f42': 107, '63e51cc4-fcb5-4a3d-b6ac-4f6d6a8d0225': 137, 'f81f5ea0-dd7d-4924-ab57-01ba6cd1a014': 154, 'e03d5854-730f-46e4-8056-8e7e103783e6': 110, '8b7f187a-074f-4aa1-8ec7-600457b745ff': 124, 'd4665e30-5866-4224-b1ba-a49a72a6f948': 52, '2f77f801-b448-40cf-9f0a-8cf91354453d': 124, '75052213-43b2-4827-a3d7-d670bcc8c3cc': 34, '10cbe053-86c3-46ae-9e4d-5ed30d38d42b': 107, 'aa5d9447-2e09-44ad-92c1-73fa9117858d': 42, 'b57e60ea-9832-4074-88a7-4da955764106': 37, '82f2b2af-d0d0-45b8-92ed-68400e1b4548': 87, 'f3bb6923-7e0a-4e46-920b-45b0459f33d9': 63, 'd6e1c55a-8717-4b0c-aed0-5293c3149d65': 102, '6627d077-3dc2-4659-9d95-9c56d3775c11': 78, 'd52126f9-3be7-464f-b038-efde16d5aaea': 99, 'f90dc92d-85fa-4f40-a6a8-3c9424df5a3e': 16, '1a212835-a7d8-4849-849c-3c21c9f54dc5': 28, 'b2742235-3a2a-4243-aaa7-5a8579c902ba': 143, '9a8bb681-6b7f-40aa-b71a-abd03e8813f3': 26, '2a8df99f-d13b-4bc5-be7f-bbc5ac1bd34e': 101, '6b8dc516-bfe9-4c28-91d0-5829f2f3d5e5': 80, '41000934-a253-409b-a6bc-2335cc57f54e': 47, 'a3aa913d-fe9a-424c-ac26-42ec19e67494': 106, '9008fb68-548d-48a6-9f6e-5f2ea83dc587': 30, 'e4e8ba2d-96cd-4177-811d-d589a1db84b1': 111, 'fc3be842-ef01-4e9f-b8cb-6a24c3b4e056': 19, '291c02d8-9e20-41a3-8cc8-2e0e294556fb': 1}\n"
     ]
    }
   ],
   "source": [
    "print(user_activity)"
   ]
  },
  {
   "cell_type": "code",
   "execution_count": 422,
   "id": "61eb0364",
   "metadata": {},
   "outputs": [
    {
     "name": "stdout",
     "output_type": "stream",
     "text": [
      "71\n",
      "69\n",
      "67\n",
      "52\n",
      "34\n",
      "42\n",
      "37\n",
      "63\n",
      "16\n",
      "28\n",
      "26\n",
      "47\n",
      "30\n",
      "19\n",
      "1\n"
     ]
    }
   ],
   "source": [
    "min_val = 78\n",
    "val = 0\n",
    "for user in user_activity.values():\n",
    "    val = int(user)\n",
    "    if min_val > val:\n",
    "        max_val = val\n",
    "        print(user)"
   ]
  },
  {
   "cell_type": "code",
   "execution_count": 423,
   "id": "0a3928fe",
   "metadata": {},
   "outputs": [],
   "source": [
    "activity_fre = []\n",
    "for i in range(len(all_documents)):\n",
    "    meta = all_documents[\"activity\"][i]\n",
    "    activity_fre.append(meta)"
   ]
  },
  {
   "cell_type": "code",
   "execution_count": 424,
   "id": "1dbf9775",
   "metadata": {},
   "outputs": [
    {
     "data": {
      "text/plain": [
       "{'pilates': 583,\n",
       " 'running': 1324,\n",
       " 'meditation': 975,\n",
       " 'walking': 1574,\n",
       " 'aerobics': 544}"
      ]
     },
     "execution_count": 424,
     "metadata": {},
     "output_type": "execute_result"
    }
   ],
   "source": [
    "CountFrequency(activity_fre)"
   ]
  },
  {
   "cell_type": "code",
   "execution_count": 425,
   "id": "6e2bd7bd",
   "metadata": {},
   "outputs": [],
   "source": [
    "def get_sec(time_str):\n",
    "    \"\"\"Get seconds from time.\"\"\"\n",
    "    h, m, s = time_str.split(':')\n",
    "    return int(h) * 3600 + int(m) * 60 + int(s)"
   ]
  },
  {
   "cell_type": "code",
   "execution_count": 474,
   "id": "25a9fb7b",
   "metadata": {},
   "outputs": [],
   "source": [
    "def activity_time_each(user, activity ):\n",
    "    activity_time = []\n",
    "    for i in range(len(all_documents)):\n",
    "        if str(all_documents[\"user_id\"][i]) == user:\n",
    "            meta = all_documents[\"activity\"][i]\n",
    "            if meta == activity:\n",
    "                s1 = all_documents[\"start_time\"][i]\n",
    "                s2 = all_documents[\"end_time\"][i] # for example\n",
    "                s1 = s1[-8:]\n",
    "                s2 = s2[-8:]\n",
    "                FMT = '%H:%M:%S'\n",
    "                tdelta = datetime.strptime(s2, FMT) - datetime.strptime(s1, FMT)\n",
    "                tdelta = str(tdelta)\n",
    "                try:\n",
    "                    run_time = get_sec(tdelta)\n",
    "                    activity_time.append(run_time)\n",
    "                except:\n",
    "                    print(s1, s2)\n",
    "                    print(\"An exception occurred\")\n",
    "\n",
    "    return activity_time\n",
    "    "
   ]
  },
  {
   "cell_type": "code",
   "execution_count": 487,
   "id": "302583b5",
   "metadata": {},
   "outputs": [],
   "source": [
    "indi_activity_time = activity_time_each('fc3be842-ef01-4e9f-b8cb-6a24c3b4e056', 'walking' )"
   ]
  },
  {
   "cell_type": "code",
   "execution_count": 488,
   "id": "556614a6",
   "metadata": {},
   "outputs": [
    {
     "name": "stdout",
     "output_type": "stream",
     "text": [
      "5\n"
     ]
    }
   ],
   "source": [
    "sum_run = 0\n",
    "print(len(indi_activity_time))\n",
    "for i in range(len(indi_activity_time)):\n",
    "    sum_run = sum_run + int(indi_activity_time[i])"
   ]
  },
  {
   "cell_type": "code",
   "execution_count": 489,
   "id": "a5ea4c25",
   "metadata": {},
   "outputs": [
    {
     "name": "stdout",
     "output_type": "stream",
     "text": [
      "2281\n"
     ]
    }
   ],
   "source": [
    "print(sum_run)"
   ]
  },
  {
   "cell_type": "code",
   "execution_count": 490,
   "id": "fb4575d2",
   "metadata": {},
   "outputs": [],
   "source": [
    "average_run = sum_run//(len(indi_activity_time))"
   ]
  },
  {
   "cell_type": "code",
   "execution_count": 491,
   "id": "c86cb6fe",
   "metadata": {},
   "outputs": [
    {
     "name": "stdout",
     "output_type": "stream",
     "text": [
      "average running in min :  7\n"
     ]
    }
   ],
   "source": [
    "print('average running in min : ', average_run//60)"
   ]
  },
  {
   "cell_type": "code",
   "execution_count": 392,
   "id": "4388402d",
   "metadata": {},
   "outputs": [
    {
     "name": "stdout",
     "output_type": "stream",
     "text": [
      "average pilates in min :  6.0\n"
     ]
    }
   ],
   "source": [
    "print('average pilates in min : ', float(average_run//60))"
   ]
  },
  {
   "cell_type": "code",
   "execution_count": 415,
   "id": "60fb75aa",
   "metadata": {},
   "outputs": [
    {
     "name": "stdout",
     "output_type": "stream",
     "text": [
      "average meditation in min :  8\n"
     ]
    }
   ],
   "source": [
    "print('average meditation in min : ', average_run//60)"
   ]
  },
  {
   "cell_type": "code",
   "execution_count": 421,
   "id": "5190bb0f",
   "metadata": {},
   "outputs": [
    {
     "name": "stdout",
     "output_type": "stream",
     "text": [
      "average walking in min :  7\n"
     ]
    }
   ],
   "source": [
    "print('average walking in min : ', average_run//60)"
   ]
  },
  {
   "cell_type": "code",
   "execution_count": 213,
   "id": "ae94012d",
   "metadata": {},
   "outputs": [
    {
     "name": "stdout",
     "output_type": "stream",
     "text": [
      "average aerobics in min :  7\n"
     ]
    }
   ],
   "source": [
    "print('average aerobics in min : ', average_run//60)"
   ]
  },
  {
   "cell_type": "code",
   "execution_count": null,
   "id": "47f3599d",
   "metadata": {},
   "outputs": [],
   "source": []
  }
 ],
 "metadata": {
  "kernelspec": {
   "display_name": "Python 3 (ipykernel)",
   "language": "python",
   "name": "python3"
  },
  "language_info": {
   "codemirror_mode": {
    "name": "ipython",
    "version": 3
   },
   "file_extension": ".py",
   "mimetype": "text/x-python",
   "name": "python",
   "nbconvert_exporter": "python",
   "pygments_lexer": "ipython3",
   "version": "3.8.10"
  }
 },
 "nbformat": 4,
 "nbformat_minor": 5
}
