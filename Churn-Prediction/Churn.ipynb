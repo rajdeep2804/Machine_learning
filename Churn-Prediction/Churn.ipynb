{
 "cells": [
  {
   "cell_type": "markdown",
   "metadata": {},
   "source": [
    "### Churn Prediction"
   ]
  },
  {
   "cell_type": "markdown",
   "metadata": {},
   "source": [
    "### Attribute Information: ### \n",
    "\n",
    "The dataset depicts the details of the telecom customer, like, services that each customer has signed for, customer account information , and their demographic info etc.\n",
    "\n",
    "\n",
    "#### Demographics Data : ####\n",
    "\t•\tHouseholdID : Each Household id\n",
    "\t•    Country : Country. (For this attribute, missing values are denoted as “?”)\n",
    "\t•\tState : State (For this attribute, missing values are denoted as “?”)\n",
    "\t•\tRetired : Whether retired\n",
    "\t•\tHasPartner : Demographic information - whether the customer has partner (1-Yes; 2-No)\n",
    "\t•\tHasDependents : Demographic information - whether the customer has dependents (1-Yes; 2-No)\n",
    "\t•\tEducation : Education qualification\n",
    "\t•\tGender : Demographic information – gender\n",
    "\n",
    "#### Account Information :\n",
    "\t•\tCustomerID : CustomerID\n",
    "    •   BaseCharges : Customer account information (Charges for Base plan)\n",
    "\t•\tDOC : Date of data collection\n",
    "\t•\tTotalCharges : Customer account information (Total).(For this attribute, missing values are denoted as “MISSINGVAL”                        also)\n",
    "\t•\tDOE : Date of entry as customer\n",
    "\t•\tElectronicBilling : Customer account information - whether electronic billing\n",
    "\t•\tContractType : Contract type (For this attribute, \tmissing values are denoted as “NA”)\n",
    "\t•\tPaymentMethod : payment method\n",
    "\n",
    "#### Data of ServicedOptedFor : \n",
    "\t•\tCustomerID : CustomerID\n",
    "\t•\tTypeOfService : Service signed for    \n",
    "\t•\tSeviceDetails : \n",
    "\n",
    "#### Churn Data : \t\n",
    "\t•\tCustomerID : Customer ID\n",
    "\t•\tChurn : Whether the customer churns  (Target)\n"
   ]
  },
  {
   "cell_type": "code",
   "execution_count": 9,
   "metadata": {},
   "outputs": [],
   "source": [
    "# import modules\n",
    "import pandas as pd\n",
    "import numpy as np"
   ]
  },
  {
   "cell_type": "markdown",
   "metadata": {},
   "source": [
    "#### Loading the data"
   ]
  },
  {
   "cell_type": "code",
   "execution_count": 11,
   "metadata": {},
   "outputs": [],
   "source": [
    "# Train\n",
    "train = pd.read_csv(\"TrainData/Train.csv\")\n",
    "accinfo = pd.read_csv('TrainData/Train_AccountInfo.csv',na_values=['NA','MISSINGVAL'])\n",
    "demographics = pd.read_csv('TrainData/Train_Demographics.csv',na_values='?')\n",
    "services = pd.read_csv('TrainData/Train_ServicesOptedFor.csv')"
   ]
  },
  {
   "cell_type": "code",
   "execution_count": 12,
   "metadata": {},
   "outputs": [
    {
     "ename": "FileNotFoundError",
     "evalue": "[Errno 2] No such file or directory: 'TestData/Test.csv'",
     "output_type": "error",
     "traceback": [
      "\u001b[0;31m---------------------------------------------------------------------------\u001b[0m",
      "\u001b[0;31mFileNotFoundError\u001b[0m                         Traceback (most recent call last)",
      "\u001b[0;32m/tmp/ipykernel_290734/1389525469.py\u001b[0m in \u001b[0;36m<module>\u001b[0;34m\u001b[0m\n\u001b[1;32m      1\u001b[0m \u001b[0;31m# Test\u001b[0m\u001b[0;34m\u001b[0m\u001b[0;34m\u001b[0m\u001b[0;34m\u001b[0m\u001b[0m\n\u001b[0;32m----> 2\u001b[0;31m \u001b[0mtest\u001b[0m \u001b[0;34m=\u001b[0m \u001b[0mpd\u001b[0m\u001b[0;34m.\u001b[0m\u001b[0mread_csv\u001b[0m\u001b[0;34m(\u001b[0m\u001b[0;34m'TestData/Test.csv'\u001b[0m\u001b[0;34m)\u001b[0m\u001b[0;34m\u001b[0m\u001b[0;34m\u001b[0m\u001b[0m\n\u001b[0m\u001b[1;32m      3\u001b[0m \u001b[0mtaccinfo\u001b[0m \u001b[0;34m=\u001b[0m \u001b[0mpd\u001b[0m\u001b[0;34m.\u001b[0m\u001b[0mread_csv\u001b[0m\u001b[0;34m(\u001b[0m\u001b[0;34m'TestData/Test_Accountinfo.csv'\u001b[0m\u001b[0;34m,\u001b[0m\u001b[0mna_values\u001b[0m\u001b[0;34m=\u001b[0m\u001b[0;34m[\u001b[0m\u001b[0;34m'NA'\u001b[0m\u001b[0;34m,\u001b[0m\u001b[0;34m'MISSINGVAL'\u001b[0m\u001b[0;34m]\u001b[0m\u001b[0;34m)\u001b[0m\u001b[0;34m\u001b[0m\u001b[0;34m\u001b[0m\u001b[0m\n\u001b[1;32m      4\u001b[0m \u001b[0mtdemographics\u001b[0m \u001b[0;34m=\u001b[0m \u001b[0mpd\u001b[0m\u001b[0;34m.\u001b[0m\u001b[0mread_csv\u001b[0m\u001b[0;34m(\u001b[0m\u001b[0;34m'TestData/Test_Demographics.csv'\u001b[0m\u001b[0;34m,\u001b[0m\u001b[0mna_values\u001b[0m\u001b[0;34m=\u001b[0m\u001b[0;34m'?'\u001b[0m\u001b[0;34m)\u001b[0m\u001b[0;34m\u001b[0m\u001b[0;34m\u001b[0m\u001b[0m\n\u001b[1;32m      5\u001b[0m \u001b[0mtservices\u001b[0m \u001b[0;34m=\u001b[0m \u001b[0mpd\u001b[0m\u001b[0;34m.\u001b[0m\u001b[0mread_csv\u001b[0m\u001b[0;34m(\u001b[0m\u001b[0;34m'TestData/Test_ServicesOptedFor.csv'\u001b[0m\u001b[0;34m)\u001b[0m\u001b[0;34m\u001b[0m\u001b[0;34m\u001b[0m\u001b[0m\n",
      "\u001b[0;32m~/.local/lib/python3.8/site-packages/pandas/util/_decorators.py\u001b[0m in \u001b[0;36mwrapper\u001b[0;34m(*args, **kwargs)\u001b[0m\n\u001b[1;32m    309\u001b[0m                     \u001b[0mstacklevel\u001b[0m\u001b[0;34m=\u001b[0m\u001b[0mstacklevel\u001b[0m\u001b[0;34m,\u001b[0m\u001b[0;34m\u001b[0m\u001b[0;34m\u001b[0m\u001b[0m\n\u001b[1;32m    310\u001b[0m                 )\n\u001b[0;32m--> 311\u001b[0;31m             \u001b[0;32mreturn\u001b[0m \u001b[0mfunc\u001b[0m\u001b[0;34m(\u001b[0m\u001b[0;34m*\u001b[0m\u001b[0margs\u001b[0m\u001b[0;34m,\u001b[0m \u001b[0;34m**\u001b[0m\u001b[0mkwargs\u001b[0m\u001b[0;34m)\u001b[0m\u001b[0;34m\u001b[0m\u001b[0;34m\u001b[0m\u001b[0m\n\u001b[0m\u001b[1;32m    312\u001b[0m \u001b[0;34m\u001b[0m\u001b[0m\n\u001b[1;32m    313\u001b[0m         \u001b[0;32mreturn\u001b[0m \u001b[0mwrapper\u001b[0m\u001b[0;34m\u001b[0m\u001b[0;34m\u001b[0m\u001b[0m\n",
      "\u001b[0;32m~/.local/lib/python3.8/site-packages/pandas/io/parsers/readers.py\u001b[0m in \u001b[0;36mread_csv\u001b[0;34m(filepath_or_buffer, sep, delimiter, header, names, index_col, usecols, squeeze, prefix, mangle_dupe_cols, dtype, engine, converters, true_values, false_values, skipinitialspace, skiprows, skipfooter, nrows, na_values, keep_default_na, na_filter, verbose, skip_blank_lines, parse_dates, infer_datetime_format, keep_date_col, date_parser, dayfirst, cache_dates, iterator, chunksize, compression, thousands, decimal, lineterminator, quotechar, quoting, doublequote, escapechar, comment, encoding, encoding_errors, dialect, error_bad_lines, warn_bad_lines, on_bad_lines, delim_whitespace, low_memory, memory_map, float_precision, storage_options)\u001b[0m\n\u001b[1;32m    584\u001b[0m     \u001b[0mkwds\u001b[0m\u001b[0;34m.\u001b[0m\u001b[0mupdate\u001b[0m\u001b[0;34m(\u001b[0m\u001b[0mkwds_defaults\u001b[0m\u001b[0;34m)\u001b[0m\u001b[0;34m\u001b[0m\u001b[0;34m\u001b[0m\u001b[0m\n\u001b[1;32m    585\u001b[0m \u001b[0;34m\u001b[0m\u001b[0m\n\u001b[0;32m--> 586\u001b[0;31m     \u001b[0;32mreturn\u001b[0m \u001b[0m_read\u001b[0m\u001b[0;34m(\u001b[0m\u001b[0mfilepath_or_buffer\u001b[0m\u001b[0;34m,\u001b[0m \u001b[0mkwds\u001b[0m\u001b[0;34m)\u001b[0m\u001b[0;34m\u001b[0m\u001b[0;34m\u001b[0m\u001b[0m\n\u001b[0m\u001b[1;32m    587\u001b[0m \u001b[0;34m\u001b[0m\u001b[0m\n\u001b[1;32m    588\u001b[0m \u001b[0;34m\u001b[0m\u001b[0m\n",
      "\u001b[0;32m~/.local/lib/python3.8/site-packages/pandas/io/parsers/readers.py\u001b[0m in \u001b[0;36m_read\u001b[0;34m(filepath_or_buffer, kwds)\u001b[0m\n\u001b[1;32m    480\u001b[0m \u001b[0;34m\u001b[0m\u001b[0m\n\u001b[1;32m    481\u001b[0m     \u001b[0;31m# Create the parser.\u001b[0m\u001b[0;34m\u001b[0m\u001b[0;34m\u001b[0m\u001b[0;34m\u001b[0m\u001b[0m\n\u001b[0;32m--> 482\u001b[0;31m     \u001b[0mparser\u001b[0m \u001b[0;34m=\u001b[0m \u001b[0mTextFileReader\u001b[0m\u001b[0;34m(\u001b[0m\u001b[0mfilepath_or_buffer\u001b[0m\u001b[0;34m,\u001b[0m \u001b[0;34m**\u001b[0m\u001b[0mkwds\u001b[0m\u001b[0;34m)\u001b[0m\u001b[0;34m\u001b[0m\u001b[0;34m\u001b[0m\u001b[0m\n\u001b[0m\u001b[1;32m    483\u001b[0m \u001b[0;34m\u001b[0m\u001b[0m\n\u001b[1;32m    484\u001b[0m     \u001b[0;32mif\u001b[0m \u001b[0mchunksize\u001b[0m \u001b[0;32mor\u001b[0m \u001b[0miterator\u001b[0m\u001b[0;34m:\u001b[0m\u001b[0;34m\u001b[0m\u001b[0;34m\u001b[0m\u001b[0m\n",
      "\u001b[0;32m~/.local/lib/python3.8/site-packages/pandas/io/parsers/readers.py\u001b[0m in \u001b[0;36m__init__\u001b[0;34m(self, f, engine, **kwds)\u001b[0m\n\u001b[1;32m    809\u001b[0m             \u001b[0mself\u001b[0m\u001b[0;34m.\u001b[0m\u001b[0moptions\u001b[0m\u001b[0;34m[\u001b[0m\u001b[0;34m\"has_index_names\"\u001b[0m\u001b[0;34m]\u001b[0m \u001b[0;34m=\u001b[0m \u001b[0mkwds\u001b[0m\u001b[0;34m[\u001b[0m\u001b[0;34m\"has_index_names\"\u001b[0m\u001b[0;34m]\u001b[0m\u001b[0;34m\u001b[0m\u001b[0;34m\u001b[0m\u001b[0m\n\u001b[1;32m    810\u001b[0m \u001b[0;34m\u001b[0m\u001b[0m\n\u001b[0;32m--> 811\u001b[0;31m         \u001b[0mself\u001b[0m\u001b[0;34m.\u001b[0m\u001b[0m_engine\u001b[0m \u001b[0;34m=\u001b[0m \u001b[0mself\u001b[0m\u001b[0;34m.\u001b[0m\u001b[0m_make_engine\u001b[0m\u001b[0;34m(\u001b[0m\u001b[0mself\u001b[0m\u001b[0;34m.\u001b[0m\u001b[0mengine\u001b[0m\u001b[0;34m)\u001b[0m\u001b[0;34m\u001b[0m\u001b[0;34m\u001b[0m\u001b[0m\n\u001b[0m\u001b[1;32m    812\u001b[0m \u001b[0;34m\u001b[0m\u001b[0m\n\u001b[1;32m    813\u001b[0m     \u001b[0;32mdef\u001b[0m \u001b[0mclose\u001b[0m\u001b[0;34m(\u001b[0m\u001b[0mself\u001b[0m\u001b[0;34m)\u001b[0m\u001b[0;34m:\u001b[0m\u001b[0;34m\u001b[0m\u001b[0;34m\u001b[0m\u001b[0m\n",
      "\u001b[0;32m~/.local/lib/python3.8/site-packages/pandas/io/parsers/readers.py\u001b[0m in \u001b[0;36m_make_engine\u001b[0;34m(self, engine)\u001b[0m\n\u001b[1;32m   1038\u001b[0m             )\n\u001b[1;32m   1039\u001b[0m         \u001b[0;31m# error: Too many arguments for \"ParserBase\"\u001b[0m\u001b[0;34m\u001b[0m\u001b[0;34m\u001b[0m\u001b[0;34m\u001b[0m\u001b[0m\n\u001b[0;32m-> 1040\u001b[0;31m         \u001b[0;32mreturn\u001b[0m \u001b[0mmapping\u001b[0m\u001b[0;34m[\u001b[0m\u001b[0mengine\u001b[0m\u001b[0;34m]\u001b[0m\u001b[0;34m(\u001b[0m\u001b[0mself\u001b[0m\u001b[0;34m.\u001b[0m\u001b[0mf\u001b[0m\u001b[0;34m,\u001b[0m \u001b[0;34m**\u001b[0m\u001b[0mself\u001b[0m\u001b[0;34m.\u001b[0m\u001b[0moptions\u001b[0m\u001b[0;34m)\u001b[0m  \u001b[0;31m# type: ignore[call-arg]\u001b[0m\u001b[0;34m\u001b[0m\u001b[0;34m\u001b[0m\u001b[0m\n\u001b[0m\u001b[1;32m   1041\u001b[0m \u001b[0;34m\u001b[0m\u001b[0m\n\u001b[1;32m   1042\u001b[0m     \u001b[0;32mdef\u001b[0m \u001b[0m_failover_to_python\u001b[0m\u001b[0;34m(\u001b[0m\u001b[0mself\u001b[0m\u001b[0;34m)\u001b[0m\u001b[0;34m:\u001b[0m\u001b[0;34m\u001b[0m\u001b[0;34m\u001b[0m\u001b[0m\n",
      "\u001b[0;32m~/.local/lib/python3.8/site-packages/pandas/io/parsers/c_parser_wrapper.py\u001b[0m in \u001b[0;36m__init__\u001b[0;34m(self, src, **kwds)\u001b[0m\n\u001b[1;32m     49\u001b[0m \u001b[0;34m\u001b[0m\u001b[0m\n\u001b[1;32m     50\u001b[0m         \u001b[0;31m# open handles\u001b[0m\u001b[0;34m\u001b[0m\u001b[0;34m\u001b[0m\u001b[0;34m\u001b[0m\u001b[0m\n\u001b[0;32m---> 51\u001b[0;31m         \u001b[0mself\u001b[0m\u001b[0;34m.\u001b[0m\u001b[0m_open_handles\u001b[0m\u001b[0;34m(\u001b[0m\u001b[0msrc\u001b[0m\u001b[0;34m,\u001b[0m \u001b[0mkwds\u001b[0m\u001b[0;34m)\u001b[0m\u001b[0;34m\u001b[0m\u001b[0;34m\u001b[0m\u001b[0m\n\u001b[0m\u001b[1;32m     52\u001b[0m         \u001b[0;32massert\u001b[0m \u001b[0mself\u001b[0m\u001b[0;34m.\u001b[0m\u001b[0mhandles\u001b[0m \u001b[0;32mis\u001b[0m \u001b[0;32mnot\u001b[0m \u001b[0;32mNone\u001b[0m\u001b[0;34m\u001b[0m\u001b[0;34m\u001b[0m\u001b[0m\n\u001b[1;32m     53\u001b[0m \u001b[0;34m\u001b[0m\u001b[0m\n",
      "\u001b[0;32m~/.local/lib/python3.8/site-packages/pandas/io/parsers/base_parser.py\u001b[0m in \u001b[0;36m_open_handles\u001b[0;34m(self, src, kwds)\u001b[0m\n\u001b[1;32m    220\u001b[0m         \u001b[0mLet\u001b[0m \u001b[0mthe\u001b[0m \u001b[0mreaders\u001b[0m \u001b[0mopen\u001b[0m \u001b[0mIOHandles\u001b[0m \u001b[0mafter\u001b[0m \u001b[0mthey\u001b[0m \u001b[0mare\u001b[0m \u001b[0mdone\u001b[0m \u001b[0;32mwith\u001b[0m \u001b[0mtheir\u001b[0m \u001b[0mpotential\u001b[0m \u001b[0mraises\u001b[0m\u001b[0;34m.\u001b[0m\u001b[0;34m\u001b[0m\u001b[0;34m\u001b[0m\u001b[0m\n\u001b[1;32m    221\u001b[0m         \"\"\"\n\u001b[0;32m--> 222\u001b[0;31m         self.handles = get_handle(\n\u001b[0m\u001b[1;32m    223\u001b[0m             \u001b[0msrc\u001b[0m\u001b[0;34m,\u001b[0m\u001b[0;34m\u001b[0m\u001b[0;34m\u001b[0m\u001b[0m\n\u001b[1;32m    224\u001b[0m             \u001b[0;34m\"r\"\u001b[0m\u001b[0;34m,\u001b[0m\u001b[0;34m\u001b[0m\u001b[0;34m\u001b[0m\u001b[0m\n",
      "\u001b[0;32m~/.local/lib/python3.8/site-packages/pandas/io/common.py\u001b[0m in \u001b[0;36mget_handle\u001b[0;34m(path_or_buf, mode, encoding, compression, memory_map, is_text, errors, storage_options)\u001b[0m\n\u001b[1;32m    700\u001b[0m         \u001b[0;32mif\u001b[0m \u001b[0mioargs\u001b[0m\u001b[0;34m.\u001b[0m\u001b[0mencoding\u001b[0m \u001b[0;32mand\u001b[0m \u001b[0;34m\"b\"\u001b[0m \u001b[0;32mnot\u001b[0m \u001b[0;32min\u001b[0m \u001b[0mioargs\u001b[0m\u001b[0;34m.\u001b[0m\u001b[0mmode\u001b[0m\u001b[0;34m:\u001b[0m\u001b[0;34m\u001b[0m\u001b[0;34m\u001b[0m\u001b[0m\n\u001b[1;32m    701\u001b[0m             \u001b[0;31m# Encoding\u001b[0m\u001b[0;34m\u001b[0m\u001b[0;34m\u001b[0m\u001b[0;34m\u001b[0m\u001b[0m\n\u001b[0;32m--> 702\u001b[0;31m             handle = open(\n\u001b[0m\u001b[1;32m    703\u001b[0m                 \u001b[0mhandle\u001b[0m\u001b[0;34m,\u001b[0m\u001b[0;34m\u001b[0m\u001b[0;34m\u001b[0m\u001b[0m\n\u001b[1;32m    704\u001b[0m                 \u001b[0mioargs\u001b[0m\u001b[0;34m.\u001b[0m\u001b[0mmode\u001b[0m\u001b[0;34m,\u001b[0m\u001b[0;34m\u001b[0m\u001b[0;34m\u001b[0m\u001b[0m\n",
      "\u001b[0;31mFileNotFoundError\u001b[0m: [Errno 2] No such file or directory: 'TestData/Test.csv'"
     ]
    }
   ],
   "source": [
    "# Test\n",
    "test = pd.read_csv('TestData/Test.csv')\n",
    "taccinfo = pd.read_csv('TestData/Test_Accountinfo.csv',na_values=['NA','MISSINGVAL'])\n",
    "tdemographics = pd.read_csv('TestData/Test_Demographics.csv',na_values='?')\n",
    "tservices = pd.read_csv('TestData/Test_ServicesOptedFor.csv')"
   ]
  },
  {
   "cell_type": "markdown",
   "metadata": {},
   "source": [
    "#### Dimensions"
   ]
  },
  {
   "cell_type": "code",
   "execution_count": 4,
   "metadata": {},
   "outputs": [
    {
     "name": "stdout",
     "output_type": "stream",
     "text": [
      "(5298, 2)\n",
      "(5298, 8)\n",
      "(5298, 8)\n",
      "(47682, 3)\n"
     ]
    }
   ],
   "source": [
    "# Shapes of the train data \n",
    "print(train.shape)\n",
    "print(accinfo.shape)\n",
    "print(demographics.shape)\n",
    "print(services.shape)"
   ]
  },
  {
   "cell_type": "code",
   "execution_count": 5,
   "metadata": {},
   "outputs": [
    {
     "name": "stdout",
     "output_type": "stream",
     "text": [
      "(1769, 1)\n",
      "(1769, 8)\n",
      "(1769, 8)\n",
      "(15921, 3)\n"
     ]
    }
   ],
   "source": [
    "# Shapes of test data\n",
    "print(test.shape)\n",
    "print(taccinfo.shape)\n",
    "print(tdemographics.shape)\n",
    "print(tservices.shape)"
   ]
  },
  {
   "cell_type": "markdown",
   "metadata": {},
   "source": [
    "From the data, we know that we have CustomerID as PrimaryKey "
   ]
  },
  {
   "cell_type": "code",
   "execution_count": 6,
   "metadata": {},
   "outputs": [
    {
     "name": "stdout",
     "output_type": "stream",
     "text": [
      "5298\n",
      "5298\n",
      "5298\n",
      "5298\n"
     ]
    }
   ],
   "source": [
    "# unique columns in datasets\n",
    "print(len(train.CustomerID.unique()))\n",
    "print(len(accinfo.CustomerID.unique()))\n",
    "print(len(demographics.HouseholdID.unique()))\n",
    "print(len(services.CustomerID.unique()))"
   ]
  },
  {
   "cell_type": "markdown",
   "metadata": {},
   "source": [
    "###### Merging the data frames by CustomerID"
   ]
  },
  {
   "cell_type": "code",
   "execution_count": 7,
   "metadata": {
    "collapsed": true
   },
   "outputs": [],
   "source": [
    "# Train\n",
    "n1 = pd.merge(train,accinfo,on='CustomerID')"
   ]
  },
  {
   "cell_type": "code",
   "execution_count": 8,
   "metadata": {
    "collapsed": true
   },
   "outputs": [],
   "source": [
    "# We have HouseholdID in demographics which is CustomerID so renaming the column. \n",
    "demographics.columns = ['CustomerID', 'Country', 'State', 'Retired', 'HasPartner',\n",
    "       'HasDependents', 'Education', 'Gender']"
   ]
  },
  {
   "cell_type": "code",
   "execution_count": 9,
   "metadata": {
    "collapsed": true
   },
   "outputs": [],
   "source": [
    "new = pd.merge(n1,demographics,on='CustomerID')"
   ]
  },
  {
   "cell_type": "code",
   "execution_count": 10,
   "metadata": {},
   "outputs": [
    {
     "data": {
      "text/plain": [
       "(5298, 16)"
      ]
     },
     "execution_count": 10,
     "metadata": {},
     "output_type": "execute_result"
    }
   ],
   "source": [
    "# Dimensions\n",
    "new.shape"
   ]
  },
  {
   "cell_type": "code",
   "execution_count": 11,
   "metadata": {
    "collapsed": true
   },
   "outputs": [],
   "source": [
    "# Test\n",
    "tdemographics.columns = ['CustomerID', 'Country', 'State', 'Retired', 'HasPartner',\n",
    "       'HasDependents', 'Education', 'Gender']"
   ]
  },
  {
   "cell_type": "code",
   "execution_count": 12,
   "metadata": {
    "collapsed": true
   },
   "outputs": [],
   "source": [
    "tnew = pd.merge(taccinfo,tdemographics,on='CustomerID')"
   ]
  },
  {
   "cell_type": "code",
   "execution_count": 13,
   "metadata": {},
   "outputs": [
    {
     "data": {
      "text/plain": [
       "(1769, 15)"
      ]
     },
     "execution_count": 13,
     "metadata": {},
     "output_type": "execute_result"
    }
   ],
   "source": [
    "tnew.shape"
   ]
  },
  {
   "cell_type": "markdown",
   "metadata": {},
   "source": [
    "** Services ** have shape (15921, 3)"
   ]
  },
  {
   "cell_type": "code",
   "execution_count": 14,
   "metadata": {},
   "outputs": [
    {
     "data": {
      "text/plain": [
       "No                     17410\n",
       "Yes                    13390\n",
       "No internet service     6936\n",
       "1                       4792\n",
       "Fiber optic             2313\n",
       "DSL                     1829\n",
       "0                        506\n",
       "No phone service         506\n",
       "Name: SeviceDetails, dtype: int64"
      ]
     },
     "execution_count": 14,
     "metadata": {},
     "output_type": "execute_result"
    }
   ],
   "source": [
    "# count - categories \n",
    "services.SeviceDetails.value_counts()"
   ]
  },
  {
   "cell_type": "code",
   "execution_count": 15,
   "metadata": {
    "collapsed": true
   },
   "outputs": [],
   "source": [
    "# Changing the attribute types to category\n",
    "services.SeviceDetails = services.SeviceDetails.astype('category')"
   ]
  },
  {
   "cell_type": "code",
   "execution_count": 16,
   "metadata": {
    "collapsed": true
   },
   "outputs": [],
   "source": [
    "# Test\n",
    "tservices.SeviceDetails = tservices.SeviceDetails.astype('category')"
   ]
  },
  {
   "cell_type": "markdown",
   "metadata": {},
   "source": [
    "* Dataframe is in long format, we should make it into wide foramt "
   ]
  },
  {
   "cell_type": "code",
   "execution_count": 17,
   "metadata": {
    "scrolled": true
   },
   "outputs": [
    {
     "data": {
      "text/plain": [
       "4    17410\n",
       "7    13390\n",
       "5     6936\n",
       "1     4792\n",
       "3     2313\n",
       "2     1829\n",
       "6      506\n",
       "0      506\n",
       "Name: SeviceDetails, dtype: int64"
      ]
     },
     "execution_count": 17,
     "metadata": {},
     "output_type": "execute_result"
    }
   ],
   "source": [
    "# Label Encoding\n",
    "services.SeviceDetails = services.SeviceDetails.cat.codes\n",
    "services.SeviceDetails.value_counts()"
   ]
  },
  {
   "cell_type": "code",
   "execution_count": 18,
   "metadata": {},
   "outputs": [
    {
     "data": {
      "text/plain": [
       "4    6336\n",
       "7    3991\n",
       "5    2256\n",
       "1    1593\n",
       "3     797\n",
       "2     596\n",
       "6     176\n",
       "0     176\n",
       "Name: SeviceDetails, dtype: int64"
      ]
     },
     "execution_count": 18,
     "metadata": {},
     "output_type": "execute_result"
    }
   ],
   "source": [
    "tservices.SeviceDetails = tservices.SeviceDetails.cat.codes\n",
    "tservices.SeviceDetails.value_counts()"
   ]
  },
  {
   "cell_type": "code",
   "execution_count": 19,
   "metadata": {
    "collapsed": true
   },
   "outputs": [],
   "source": [
    "# creating a multilevel index with values as serviceDetails\n",
    "n = services.pivot_table(index=\"CustomerID\", columns=\"TypeOfService\",values = \"SeviceDetails\")"
   ]
  },
  {
   "cell_type": "code",
   "execution_count": 20,
   "metadata": {},
   "outputs": [
    {
     "data": {
      "text/html": [
       "<div>\n",
       "<style>\n",
       "    .dataframe thead tr:only-child th {\n",
       "        text-align: right;\n",
       "    }\n",
       "\n",
       "    .dataframe thead th {\n",
       "        text-align: left;\n",
       "    }\n",
       "\n",
       "    .dataframe tbody tr th {\n",
       "        vertical-align: top;\n",
       "    }\n",
       "</style>\n",
       "<table border=\"1\" class=\"dataframe\">\n",
       "  <thead>\n",
       "    <tr style=\"text-align: right;\">\n",
       "      <th>TypeOfService</th>\n",
       "      <th>DeviceProtection</th>\n",
       "      <th>HasPhoneService</th>\n",
       "      <th>InternetServiceCategory</th>\n",
       "      <th>MultipleLines</th>\n",
       "      <th>OnlineBackup</th>\n",
       "      <th>OnlineSecurity</th>\n",
       "      <th>StreamingMovies</th>\n",
       "      <th>StreamingTelevision</th>\n",
       "      <th>TechnicalSupport</th>\n",
       "    </tr>\n",
       "    <tr>\n",
       "      <th>CustomerID</th>\n",
       "      <th></th>\n",
       "      <th></th>\n",
       "      <th></th>\n",
       "      <th></th>\n",
       "      <th></th>\n",
       "      <th></th>\n",
       "      <th></th>\n",
       "      <th></th>\n",
       "      <th></th>\n",
       "    </tr>\n",
       "  </thead>\n",
       "  <tbody>\n",
       "    <tr>\n",
       "      <th>Cust1201</th>\n",
       "      <td>7</td>\n",
       "      <td>1</td>\n",
       "      <td>3</td>\n",
       "      <td>4</td>\n",
       "      <td>4</td>\n",
       "      <td>4</td>\n",
       "      <td>7</td>\n",
       "      <td>7</td>\n",
       "      <td>4</td>\n",
       "    </tr>\n",
       "    <tr>\n",
       "      <th>Cust1202</th>\n",
       "      <td>5</td>\n",
       "      <td>1</td>\n",
       "      <td>4</td>\n",
       "      <td>4</td>\n",
       "      <td>5</td>\n",
       "      <td>5</td>\n",
       "      <td>5</td>\n",
       "      <td>5</td>\n",
       "      <td>5</td>\n",
       "    </tr>\n",
       "    <tr>\n",
       "      <th>Cust1203</th>\n",
       "      <td>4</td>\n",
       "      <td>1</td>\n",
       "      <td>3</td>\n",
       "      <td>4</td>\n",
       "      <td>4</td>\n",
       "      <td>4</td>\n",
       "      <td>7</td>\n",
       "      <td>4</td>\n",
       "      <td>4</td>\n",
       "    </tr>\n",
       "    <tr>\n",
       "      <th>Cust1204</th>\n",
       "      <td>4</td>\n",
       "      <td>1</td>\n",
       "      <td>2</td>\n",
       "      <td>7</td>\n",
       "      <td>7</td>\n",
       "      <td>7</td>\n",
       "      <td>4</td>\n",
       "      <td>4</td>\n",
       "      <td>7</td>\n",
       "    </tr>\n",
       "    <tr>\n",
       "      <th>Cust1205</th>\n",
       "      <td>4</td>\n",
       "      <td>1</td>\n",
       "      <td>3</td>\n",
       "      <td>7</td>\n",
       "      <td>4</td>\n",
       "      <td>4</td>\n",
       "      <td>4</td>\n",
       "      <td>4</td>\n",
       "      <td>4</td>\n",
       "    </tr>\n",
       "  </tbody>\n",
       "</table>\n",
       "</div>"
      ],
      "text/plain": [
       "TypeOfService  DeviceProtection  HasPhoneService  InternetServiceCategory  \\\n",
       "CustomerID                                                                  \n",
       "Cust1201                      7                1                        3   \n",
       "Cust1202                      5                1                        4   \n",
       "Cust1203                      4                1                        3   \n",
       "Cust1204                      4                1                        2   \n",
       "Cust1205                      4                1                        3   \n",
       "\n",
       "TypeOfService  MultipleLines  OnlineBackup  OnlineSecurity  StreamingMovies  \\\n",
       "CustomerID                                                                    \n",
       "Cust1201                   4             4               4                7   \n",
       "Cust1202                   4             5               5                5   \n",
       "Cust1203                   4             4               4                7   \n",
       "Cust1204                   7             7               7                4   \n",
       "Cust1205                   7             4               4                4   \n",
       "\n",
       "TypeOfService  StreamingTelevision  TechnicalSupport  \n",
       "CustomerID                                            \n",
       "Cust1201                         7                 4  \n",
       "Cust1202                         5                 5  \n",
       "Cust1203                         4                 4  \n",
       "Cust1204                         4                 7  \n",
       "Cust1205                         4                 4  "
      ]
     },
     "execution_count": 20,
     "metadata": {},
     "output_type": "execute_result"
    }
   ],
   "source": [
    "n.head()"
   ]
  },
  {
   "cell_type": "code",
   "execution_count": 21,
   "metadata": {
    "collapsed": true,
    "scrolled": true
   },
   "outputs": [],
   "source": [
    "ser = np.matrix(n)"
   ]
  },
  {
   "cell_type": "code",
   "execution_count": 22,
   "metadata": {},
   "outputs": [
    {
     "data": {
      "text/html": [
       "<div>\n",
       "<style>\n",
       "    .dataframe thead tr:only-child th {\n",
       "        text-align: right;\n",
       "    }\n",
       "\n",
       "    .dataframe thead th {\n",
       "        text-align: left;\n",
       "    }\n",
       "\n",
       "    .dataframe tbody tr th {\n",
       "        vertical-align: top;\n",
       "    }\n",
       "</style>\n",
       "<table border=\"1\" class=\"dataframe\">\n",
       "  <thead>\n",
       "    <tr style=\"text-align: right;\">\n",
       "      <th>TypeOfService</th>\n",
       "      <th>DeviceProtection</th>\n",
       "      <th>HasPhoneService</th>\n",
       "      <th>InternetServiceCategory</th>\n",
       "      <th>MultipleLines</th>\n",
       "      <th>OnlineBackup</th>\n",
       "      <th>OnlineSecurity</th>\n",
       "      <th>StreamingMovies</th>\n",
       "      <th>StreamingTelevision</th>\n",
       "      <th>TechnicalSupport</th>\n",
       "    </tr>\n",
       "  </thead>\n",
       "  <tbody>\n",
       "    <tr>\n",
       "      <th>0</th>\n",
       "      <td>7</td>\n",
       "      <td>1</td>\n",
       "      <td>3</td>\n",
       "      <td>4</td>\n",
       "      <td>4</td>\n",
       "      <td>4</td>\n",
       "      <td>7</td>\n",
       "      <td>7</td>\n",
       "      <td>4</td>\n",
       "    </tr>\n",
       "    <tr>\n",
       "      <th>1</th>\n",
       "      <td>5</td>\n",
       "      <td>1</td>\n",
       "      <td>4</td>\n",
       "      <td>4</td>\n",
       "      <td>5</td>\n",
       "      <td>5</td>\n",
       "      <td>5</td>\n",
       "      <td>5</td>\n",
       "      <td>5</td>\n",
       "    </tr>\n",
       "    <tr>\n",
       "      <th>2</th>\n",
       "      <td>4</td>\n",
       "      <td>1</td>\n",
       "      <td>3</td>\n",
       "      <td>4</td>\n",
       "      <td>4</td>\n",
       "      <td>4</td>\n",
       "      <td>7</td>\n",
       "      <td>4</td>\n",
       "      <td>4</td>\n",
       "    </tr>\n",
       "    <tr>\n",
       "      <th>3</th>\n",
       "      <td>4</td>\n",
       "      <td>1</td>\n",
       "      <td>2</td>\n",
       "      <td>7</td>\n",
       "      <td>7</td>\n",
       "      <td>7</td>\n",
       "      <td>4</td>\n",
       "      <td>4</td>\n",
       "      <td>7</td>\n",
       "    </tr>\n",
       "    <tr>\n",
       "      <th>4</th>\n",
       "      <td>4</td>\n",
       "      <td>1</td>\n",
       "      <td>3</td>\n",
       "      <td>7</td>\n",
       "      <td>4</td>\n",
       "      <td>4</td>\n",
       "      <td>4</td>\n",
       "      <td>4</td>\n",
       "      <td>4</td>\n",
       "    </tr>\n",
       "  </tbody>\n",
       "</table>\n",
       "</div>"
      ],
      "text/plain": [
       "TypeOfService  DeviceProtection  HasPhoneService  InternetServiceCategory  \\\n",
       "0                             7                1                        3   \n",
       "1                             5                1                        4   \n",
       "2                             4                1                        3   \n",
       "3                             4                1                        2   \n",
       "4                             4                1                        3   \n",
       "\n",
       "TypeOfService  MultipleLines  OnlineBackup  OnlineSecurity  StreamingMovies  \\\n",
       "0                          4             4               4                7   \n",
       "1                          4             5               5                5   \n",
       "2                          4             4               4                7   \n",
       "3                          7             7               7                4   \n",
       "4                          7             4               4                4   \n",
       "\n",
       "TypeOfService  StreamingTelevision  TechnicalSupport  \n",
       "0                                7                 4  \n",
       "1                                5                 5  \n",
       "2                                4                 4  \n",
       "3                                4                 7  \n",
       "4                                4                 4  "
      ]
     },
     "execution_count": 22,
     "metadata": {},
     "output_type": "execute_result"
    }
   ],
   "source": [
    "ser = pd.DataFrame(ser,columns=n.columns)\n",
    "ser.head()"
   ]
  },
  {
   "cell_type": "code",
   "execution_count": 23,
   "metadata": {
    "collapsed": true
   },
   "outputs": [],
   "source": [
    "tn = tservices.pivot_table(index=\"CustomerID\", columns=\"TypeOfService\",values = \"SeviceDetails\")"
   ]
  },
  {
   "cell_type": "code",
   "execution_count": 24,
   "metadata": {
    "collapsed": true
   },
   "outputs": [],
   "source": [
    "tser = np.matrix(tn)"
   ]
  },
  {
   "cell_type": "code",
   "execution_count": 25,
   "metadata": {},
   "outputs": [
    {
     "data": {
      "text/html": [
       "<div>\n",
       "<style>\n",
       "    .dataframe thead tr:only-child th {\n",
       "        text-align: right;\n",
       "    }\n",
       "\n",
       "    .dataframe thead th {\n",
       "        text-align: left;\n",
       "    }\n",
       "\n",
       "    .dataframe tbody tr th {\n",
       "        vertical-align: top;\n",
       "    }\n",
       "</style>\n",
       "<table border=\"1\" class=\"dataframe\">\n",
       "  <thead>\n",
       "    <tr style=\"text-align: right;\">\n",
       "      <th>TypeOfService</th>\n",
       "      <th>DeviceProtection</th>\n",
       "      <th>HasPhoneService</th>\n",
       "      <th>InternetServiceCategory</th>\n",
       "      <th>MultipleLines</th>\n",
       "      <th>OnlineBackup</th>\n",
       "      <th>OnlineSecurity</th>\n",
       "      <th>StreamingMovies</th>\n",
       "      <th>StreamingTelevision</th>\n",
       "      <th>TechnicalSupport</th>\n",
       "    </tr>\n",
       "  </thead>\n",
       "  <tbody>\n",
       "    <tr>\n",
       "      <th>0</th>\n",
       "      <td>7</td>\n",
       "      <td>1</td>\n",
       "      <td>2</td>\n",
       "      <td>4</td>\n",
       "      <td>4</td>\n",
       "      <td>7</td>\n",
       "      <td>4</td>\n",
       "      <td>4</td>\n",
       "      <td>4</td>\n",
       "    </tr>\n",
       "    <tr>\n",
       "      <th>1</th>\n",
       "      <td>4</td>\n",
       "      <td>1</td>\n",
       "      <td>2</td>\n",
       "      <td>4</td>\n",
       "      <td>7</td>\n",
       "      <td>7</td>\n",
       "      <td>4</td>\n",
       "      <td>4</td>\n",
       "      <td>4</td>\n",
       "    </tr>\n",
       "    <tr>\n",
       "      <th>2</th>\n",
       "      <td>4</td>\n",
       "      <td>1</td>\n",
       "      <td>2</td>\n",
       "      <td>4</td>\n",
       "      <td>4</td>\n",
       "      <td>7</td>\n",
       "      <td>4</td>\n",
       "      <td>4</td>\n",
       "      <td>4</td>\n",
       "    </tr>\n",
       "    <tr>\n",
       "      <th>3</th>\n",
       "      <td>7</td>\n",
       "      <td>1</td>\n",
       "      <td>3</td>\n",
       "      <td>4</td>\n",
       "      <td>7</td>\n",
       "      <td>4</td>\n",
       "      <td>7</td>\n",
       "      <td>4</td>\n",
       "      <td>4</td>\n",
       "    </tr>\n",
       "    <tr>\n",
       "      <th>4</th>\n",
       "      <td>7</td>\n",
       "      <td>0</td>\n",
       "      <td>2</td>\n",
       "      <td>6</td>\n",
       "      <td>4</td>\n",
       "      <td>4</td>\n",
       "      <td>7</td>\n",
       "      <td>4</td>\n",
       "      <td>4</td>\n",
       "    </tr>\n",
       "  </tbody>\n",
       "</table>\n",
       "</div>"
      ],
      "text/plain": [
       "TypeOfService  DeviceProtection  HasPhoneService  InternetServiceCategory  \\\n",
       "0                             7                1                        2   \n",
       "1                             4                1                        2   \n",
       "2                             4                1                        2   \n",
       "3                             7                1                        3   \n",
       "4                             7                0                        2   \n",
       "\n",
       "TypeOfService  MultipleLines  OnlineBackup  OnlineSecurity  StreamingMovies  \\\n",
       "0                          4             4               7                4   \n",
       "1                          4             7               7                4   \n",
       "2                          4             4               7                4   \n",
       "3                          4             7               4                7   \n",
       "4                          6             4               4                7   \n",
       "\n",
       "TypeOfService  StreamingTelevision  TechnicalSupport  \n",
       "0                                4                 4  \n",
       "1                                4                 4  \n",
       "2                                4                 4  \n",
       "3                                4                 4  \n",
       "4                                4                 4  "
      ]
     },
     "execution_count": 25,
     "metadata": {},
     "output_type": "execute_result"
    }
   ],
   "source": [
    "tser = pd.DataFrame(tser,columns=tn.columns)\n",
    "tser.head()"
   ]
  },
  {
   "cell_type": "code",
   "execution_count": 26,
   "metadata": {
    "collapsed": true
   },
   "outputs": [],
   "source": [
    "# concatinating the data frames\n",
    "final = pd.concat([new,ser],1) # train \n",
    "tfinal = pd.concat([tnew,tser],1) # test"
   ]
  },
  {
   "cell_type": "code",
   "execution_count": 27,
   "metadata": {},
   "outputs": [
    {
     "data": {
      "text/html": [
       "<div>\n",
       "<style>\n",
       "    .dataframe thead tr:only-child th {\n",
       "        text-align: right;\n",
       "    }\n",
       "\n",
       "    .dataframe thead th {\n",
       "        text-align: left;\n",
       "    }\n",
       "\n",
       "    .dataframe tbody tr th {\n",
       "        vertical-align: top;\n",
       "    }\n",
       "</style>\n",
       "<table border=\"1\" class=\"dataframe\">\n",
       "  <thead>\n",
       "    <tr style=\"text-align: right;\">\n",
       "      <th></th>\n",
       "      <th>CustomerID</th>\n",
       "      <th>Churn</th>\n",
       "      <th>BaseCharges</th>\n",
       "      <th>DOC</th>\n",
       "      <th>TotalCharges</th>\n",
       "      <th>DOE</th>\n",
       "      <th>ElectronicBilling</th>\n",
       "      <th>ContractType</th>\n",
       "      <th>PaymentMethod</th>\n",
       "      <th>Country</th>\n",
       "      <th>...</th>\n",
       "      <th>Gender</th>\n",
       "      <th>DeviceProtection</th>\n",
       "      <th>HasPhoneService</th>\n",
       "      <th>InternetServiceCategory</th>\n",
       "      <th>MultipleLines</th>\n",
       "      <th>OnlineBackup</th>\n",
       "      <th>OnlineSecurity</th>\n",
       "      <th>StreamingMovies</th>\n",
       "      <th>StreamingTelevision</th>\n",
       "      <th>TechnicalSupport</th>\n",
       "    </tr>\n",
       "  </thead>\n",
       "  <tbody>\n",
       "    <tr>\n",
       "      <th>0</th>\n",
       "      <td>Cust1201</td>\n",
       "      <td>No</td>\n",
       "      <td>478.50</td>\n",
       "      <td>05-01-2012</td>\n",
       "      <td>5920.00</td>\n",
       "      <td>10-Jan-11</td>\n",
       "      <td>No</td>\n",
       "      <td>One year</td>\n",
       "      <td>Electronic check</td>\n",
       "      <td>India</td>\n",
       "      <td>...</td>\n",
       "      <td>Male</td>\n",
       "      <td>7</td>\n",
       "      <td>1</td>\n",
       "      <td>3</td>\n",
       "      <td>4</td>\n",
       "      <td>4</td>\n",
       "      <td>4</td>\n",
       "      <td>7</td>\n",
       "      <td>7</td>\n",
       "      <td>4</td>\n",
       "    </tr>\n",
       "    <tr>\n",
       "      <th>1</th>\n",
       "      <td>Cust1202</td>\n",
       "      <td>No</td>\n",
       "      <td>103.25</td>\n",
       "      <td>05-01-2012</td>\n",
       "      <td>103.25</td>\n",
       "      <td>06-Dec-11</td>\n",
       "      <td>No</td>\n",
       "      <td>Month-to-month</td>\n",
       "      <td>Electronic check</td>\n",
       "      <td>India</td>\n",
       "      <td>...</td>\n",
       "      <td>Male</td>\n",
       "      <td>5</td>\n",
       "      <td>1</td>\n",
       "      <td>4</td>\n",
       "      <td>4</td>\n",
       "      <td>5</td>\n",
       "      <td>5</td>\n",
       "      <td>5</td>\n",
       "      <td>5</td>\n",
       "      <td>5</td>\n",
       "    </tr>\n",
       "    <tr>\n",
       "      <th>2</th>\n",
       "      <td>Cust1203</td>\n",
       "      <td>No</td>\n",
       "      <td>399.75</td>\n",
       "      <td>05-01-2012</td>\n",
       "      <td>5217.00</td>\n",
       "      <td>10-Jan-11</td>\n",
       "      <td>Yes</td>\n",
       "      <td>Month-to-month</td>\n",
       "      <td>Bank transfer (automatic)</td>\n",
       "      <td>India</td>\n",
       "      <td>...</td>\n",
       "      <td>Male</td>\n",
       "      <td>4</td>\n",
       "      <td>1</td>\n",
       "      <td>3</td>\n",
       "      <td>4</td>\n",
       "      <td>4</td>\n",
       "      <td>4</td>\n",
       "      <td>7</td>\n",
       "      <td>4</td>\n",
       "      <td>4</td>\n",
       "    </tr>\n",
       "    <tr>\n",
       "      <th>3</th>\n",
       "      <td>Cust1204</td>\n",
       "      <td>No</td>\n",
       "      <td>324.75</td>\n",
       "      <td>05-01-2012</td>\n",
       "      <td>22757.50</td>\n",
       "      <td>06-Apr-06</td>\n",
       "      <td>No</td>\n",
       "      <td>One year</td>\n",
       "      <td>Bank transfer (automatic)</td>\n",
       "      <td>India</td>\n",
       "      <td>...</td>\n",
       "      <td>Male</td>\n",
       "      <td>4</td>\n",
       "      <td>1</td>\n",
       "      <td>2</td>\n",
       "      <td>7</td>\n",
       "      <td>7</td>\n",
       "      <td>7</td>\n",
       "      <td>4</td>\n",
       "      <td>4</td>\n",
       "      <td>7</td>\n",
       "    </tr>\n",
       "    <tr>\n",
       "      <th>4</th>\n",
       "      <td>Cust1205</td>\n",
       "      <td>Yes</td>\n",
       "      <td>372.50</td>\n",
       "      <td>05-01-2012</td>\n",
       "      <td>372.50</td>\n",
       "      <td>06-Dec-11</td>\n",
       "      <td>Yes</td>\n",
       "      <td>Month-to-month</td>\n",
       "      <td>Electronic check</td>\n",
       "      <td>India</td>\n",
       "      <td>...</td>\n",
       "      <td>Female</td>\n",
       "      <td>4</td>\n",
       "      <td>1</td>\n",
       "      <td>3</td>\n",
       "      <td>7</td>\n",
       "      <td>4</td>\n",
       "      <td>4</td>\n",
       "      <td>4</td>\n",
       "      <td>4</td>\n",
       "      <td>4</td>\n",
       "    </tr>\n",
       "  </tbody>\n",
       "</table>\n",
       "<p>5 rows × 25 columns</p>\n",
       "</div>"
      ],
      "text/plain": [
       "  CustomerID Churn  BaseCharges         DOC  TotalCharges        DOE  \\\n",
       "0   Cust1201    No       478.50  05-01-2012       5920.00  10-Jan-11   \n",
       "1   Cust1202    No       103.25  05-01-2012        103.25  06-Dec-11   \n",
       "2   Cust1203    No       399.75  05-01-2012       5217.00  10-Jan-11   \n",
       "3   Cust1204    No       324.75  05-01-2012      22757.50  06-Apr-06   \n",
       "4   Cust1205   Yes       372.50  05-01-2012        372.50  06-Dec-11   \n",
       "\n",
       "  ElectronicBilling    ContractType              PaymentMethod Country  \\\n",
       "0                No        One year           Electronic check   India   \n",
       "1                No  Month-to-month           Electronic check   India   \n",
       "2               Yes  Month-to-month  Bank transfer (automatic)   India   \n",
       "3                No        One year  Bank transfer (automatic)   India   \n",
       "4               Yes  Month-to-month           Electronic check   India   \n",
       "\n",
       "         ...         Gender  DeviceProtection  HasPhoneService  \\\n",
       "0        ...           Male                 7                1   \n",
       "1        ...           Male                 5                1   \n",
       "2        ...           Male                 4                1   \n",
       "3        ...           Male                 4                1   \n",
       "4        ...         Female                 4                1   \n",
       "\n",
       "   InternetServiceCategory MultipleLines OnlineBackup  OnlineSecurity  \\\n",
       "0                        3             4            4               4   \n",
       "1                        4             4            5               5   \n",
       "2                        3             4            4               4   \n",
       "3                        2             7            7               7   \n",
       "4                        3             7            4               4   \n",
       "\n",
       "   StreamingMovies  StreamingTelevision  TechnicalSupport  \n",
       "0                7                    7                 4  \n",
       "1                5                    5                 5  \n",
       "2                7                    4                 4  \n",
       "3                4                    4                 7  \n",
       "4                4                    4                 4  \n",
       "\n",
       "[5 rows x 25 columns]"
      ]
     },
     "execution_count": 27,
     "metadata": {},
     "output_type": "execute_result"
    }
   ],
   "source": [
    "final.head() # view"
   ]
  },
  {
   "cell_type": "code",
   "execution_count": 28,
   "metadata": {},
   "outputs": [
    {
     "data": {
      "text/html": [
       "<div>\n",
       "<style>\n",
       "    .dataframe thead tr:only-child th {\n",
       "        text-align: right;\n",
       "    }\n",
       "\n",
       "    .dataframe thead th {\n",
       "        text-align: left;\n",
       "    }\n",
       "\n",
       "    .dataframe tbody tr th {\n",
       "        vertical-align: top;\n",
       "    }\n",
       "</style>\n",
       "<table border=\"1\" class=\"dataframe\">\n",
       "  <thead>\n",
       "    <tr style=\"text-align: right;\">\n",
       "      <th></th>\n",
       "      <th>CustomerID</th>\n",
       "      <th>BaseCharges</th>\n",
       "      <th>DOC</th>\n",
       "      <th>TotalCharges</th>\n",
       "      <th>DOE</th>\n",
       "      <th>ElectronicBilling</th>\n",
       "      <th>ContractType</th>\n",
       "      <th>PaymentMethod</th>\n",
       "      <th>Country</th>\n",
       "      <th>State</th>\n",
       "      <th>...</th>\n",
       "      <th>Gender</th>\n",
       "      <th>DeviceProtection</th>\n",
       "      <th>HasPhoneService</th>\n",
       "      <th>InternetServiceCategory</th>\n",
       "      <th>MultipleLines</th>\n",
       "      <th>OnlineBackup</th>\n",
       "      <th>OnlineSecurity</th>\n",
       "      <th>StreamingMovies</th>\n",
       "      <th>StreamingTelevision</th>\n",
       "      <th>TechnicalSupport</th>\n",
       "    </tr>\n",
       "  </thead>\n",
       "  <tbody>\n",
       "    <tr>\n",
       "      <th>0</th>\n",
       "      <td>Cust12767</td>\n",
       "      <td>447.75</td>\n",
       "      <td>5-1-2012</td>\n",
       "      <td>10935.75</td>\n",
       "      <td>15-Jan-10</td>\n",
       "      <td>Yes</td>\n",
       "      <td>Month-to-month</td>\n",
       "      <td>Electronic check</td>\n",
       "      <td>India</td>\n",
       "      <td>Maharashtra</td>\n",
       "      <td>...</td>\n",
       "      <td>Male</td>\n",
       "      <td>7</td>\n",
       "      <td>1</td>\n",
       "      <td>2</td>\n",
       "      <td>4</td>\n",
       "      <td>4</td>\n",
       "      <td>7</td>\n",
       "      <td>4</td>\n",
       "      <td>4</td>\n",
       "      <td>4</td>\n",
       "    </tr>\n",
       "    <tr>\n",
       "      <th>1</th>\n",
       "      <td>Cust11911</td>\n",
       "      <td>253.50</td>\n",
       "      <td>5-1-2012</td>\n",
       "      <td>1072.75</td>\n",
       "      <td>7-Sep-11</td>\n",
       "      <td>No</td>\n",
       "      <td>Month-to-month</td>\n",
       "      <td>Electronic check</td>\n",
       "      <td>India</td>\n",
       "      <td>Maharashtra</td>\n",
       "      <td>...</td>\n",
       "      <td>Female</td>\n",
       "      <td>4</td>\n",
       "      <td>1</td>\n",
       "      <td>2</td>\n",
       "      <td>4</td>\n",
       "      <td>7</td>\n",
       "      <td>7</td>\n",
       "      <td>4</td>\n",
       "      <td>4</td>\n",
       "      <td>4</td>\n",
       "    </tr>\n",
       "    <tr>\n",
       "      <th>2</th>\n",
       "      <td>Cust12382</td>\n",
       "      <td>478.00</td>\n",
       "      <td>5-1-2012</td>\n",
       "      <td>23917.50</td>\n",
       "      <td>27-Dec-07</td>\n",
       "      <td>Yes</td>\n",
       "      <td>Month-to-month</td>\n",
       "      <td>Electronic check</td>\n",
       "      <td>India</td>\n",
       "      <td>Maharashtra</td>\n",
       "      <td>...</td>\n",
       "      <td>Female</td>\n",
       "      <td>4</td>\n",
       "      <td>1</td>\n",
       "      <td>2</td>\n",
       "      <td>4</td>\n",
       "      <td>4</td>\n",
       "      <td>7</td>\n",
       "      <td>4</td>\n",
       "      <td>4</td>\n",
       "      <td>4</td>\n",
       "    </tr>\n",
       "    <tr>\n",
       "      <th>3</th>\n",
       "      <td>Cust11422</td>\n",
       "      <td>278.50</td>\n",
       "      <td>5-1-2012</td>\n",
       "      <td>1297.00</td>\n",
       "      <td>8-Aug-11</td>\n",
       "      <td>Yes</td>\n",
       "      <td>Month-to-month</td>\n",
       "      <td>Mailed check</td>\n",
       "      <td>India</td>\n",
       "      <td>Maharashtra</td>\n",
       "      <td>...</td>\n",
       "      <td>Male</td>\n",
       "      <td>7</td>\n",
       "      <td>1</td>\n",
       "      <td>3</td>\n",
       "      <td>4</td>\n",
       "      <td>7</td>\n",
       "      <td>4</td>\n",
       "      <td>7</td>\n",
       "      <td>4</td>\n",
       "      <td>4</td>\n",
       "    </tr>\n",
       "    <tr>\n",
       "      <th>4</th>\n",
       "      <td>Cust11471</td>\n",
       "      <td>426.00</td>\n",
       "      <td>5-1-2012</td>\n",
       "      <td>7769.50</td>\n",
       "      <td>14-Jul-10</td>\n",
       "      <td>Yes</td>\n",
       "      <td>Month-to-month</td>\n",
       "      <td>Electronic check</td>\n",
       "      <td>India</td>\n",
       "      <td>Maharashtra</td>\n",
       "      <td>...</td>\n",
       "      <td>Female</td>\n",
       "      <td>7</td>\n",
       "      <td>0</td>\n",
       "      <td>2</td>\n",
       "      <td>6</td>\n",
       "      <td>4</td>\n",
       "      <td>4</td>\n",
       "      <td>7</td>\n",
       "      <td>4</td>\n",
       "      <td>4</td>\n",
       "    </tr>\n",
       "  </tbody>\n",
       "</table>\n",
       "<p>5 rows × 24 columns</p>\n",
       "</div>"
      ],
      "text/plain": [
       "  CustomerID  BaseCharges       DOC  TotalCharges        DOE  \\\n",
       "0  Cust12767       447.75  5-1-2012      10935.75  15-Jan-10   \n",
       "1  Cust11911       253.50  5-1-2012       1072.75   7-Sep-11   \n",
       "2  Cust12382       478.00  5-1-2012      23917.50  27-Dec-07   \n",
       "3  Cust11422       278.50  5-1-2012       1297.00   8-Aug-11   \n",
       "4  Cust11471       426.00  5-1-2012       7769.50  14-Jul-10   \n",
       "\n",
       "  ElectronicBilling    ContractType     PaymentMethod Country        State  \\\n",
       "0               Yes  Month-to-month  Electronic check   India  Maharashtra   \n",
       "1                No  Month-to-month  Electronic check   India  Maharashtra   \n",
       "2               Yes  Month-to-month  Electronic check   India  Maharashtra   \n",
       "3               Yes  Month-to-month      Mailed check   India  Maharashtra   \n",
       "4               Yes  Month-to-month  Electronic check   India  Maharashtra   \n",
       "\n",
       "         ...         Gender  DeviceProtection  HasPhoneService  \\\n",
       "0        ...           Male                 7                1   \n",
       "1        ...         Female                 4                1   \n",
       "2        ...         Female                 4                1   \n",
       "3        ...           Male                 7                1   \n",
       "4        ...         Female                 7                0   \n",
       "\n",
       "  InternetServiceCategory MultipleLines  OnlineBackup  OnlineSecurity  \\\n",
       "0                       2             4             4               7   \n",
       "1                       2             4             7               7   \n",
       "2                       2             4             4               7   \n",
       "3                       3             4             7               4   \n",
       "4                       2             6             4               4   \n",
       "\n",
       "   StreamingMovies  StreamingTelevision  TechnicalSupport  \n",
       "0                4                    4                 4  \n",
       "1                4                    4                 4  \n",
       "2                4                    4                 4  \n",
       "3                7                    4                 4  \n",
       "4                7                    4                 4  \n",
       "\n",
       "[5 rows x 24 columns]"
      ]
     },
     "execution_count": 28,
     "metadata": {},
     "output_type": "execute_result"
    }
   ],
   "source": [
    "tfinal.head()"
   ]
  },
  {
   "cell_type": "markdown",
   "metadata": {},
   "source": [
    "#### Missing Values"
   ]
  },
  {
   "cell_type": "code",
   "execution_count": 29,
   "metadata": {},
   "outputs": [
    {
     "name": "stdout",
     "output_type": "stream",
     "text": [
      "CustomerID                  0\n",
      "Churn                       0\n",
      "BaseCharges                 0\n",
      "DOC                         0\n",
      "TotalCharges               10\n",
      "DOE                         0\n",
      "ElectronicBilling           0\n",
      "ContractType                5\n",
      "PaymentMethod               0\n",
      "Country                     5\n",
      "State                       8\n",
      "Retired                     0\n",
      "HasPartner                  0\n",
      "HasDependents               0\n",
      "Education                  10\n",
      "Gender                      4\n",
      "DeviceProtection            0\n",
      "HasPhoneService             0\n",
      "InternetServiceCategory     0\n",
      "MultipleLines               0\n",
      "OnlineBackup                0\n",
      "OnlineSecurity              0\n",
      "StreamingMovies             0\n",
      "StreamingTelevision         0\n",
      "TechnicalSupport            0\n",
      "dtype: int64\n",
      "\n",
      " Total:\t\t 42\n"
     ]
    }
   ],
   "source": [
    "print(final.isnull().sum())\n",
    "print('\\n Total:\\t\\t', final.isnull().any(1).sum())"
   ]
  },
  {
   "cell_type": "code",
   "execution_count": 30,
   "metadata": {
    "collapsed": true
   },
   "outputs": [],
   "source": [
    "# Drop the columns with no variance and unique values\n",
    "final = final.drop(['CustomerID','Country','State'],1)\n",
    "tfinal = tfinal.drop(['CustomerID','Country','State'],1)"
   ]
  },
  {
   "cell_type": "code",
   "execution_count": 31,
   "metadata": {},
   "outputs": [
    {
     "name": "stdout",
     "output_type": "stream",
     "text": [
      "Churn                       0\n",
      "BaseCharges                 0\n",
      "DOC                         0\n",
      "TotalCharges               10\n",
      "DOE                         0\n",
      "ElectronicBilling           0\n",
      "ContractType                5\n",
      "PaymentMethod               0\n",
      "Retired                     0\n",
      "HasPartner                  0\n",
      "HasDependents               0\n",
      "Education                  10\n",
      "Gender                      4\n",
      "DeviceProtection            0\n",
      "HasPhoneService             0\n",
      "InternetServiceCategory     0\n",
      "MultipleLines               0\n",
      "OnlineBackup                0\n",
      "OnlineSecurity              0\n",
      "StreamingMovies             0\n",
      "StreamingTelevision         0\n",
      "TechnicalSupport            0\n",
      "dtype: int64\n",
      "\n",
      " Total:\t\t 29\n"
     ]
    }
   ],
   "source": [
    "print(final.isnull().sum())\n",
    "print('\\n Total:\\t\\t', final.isnull().any(1).sum())"
   ]
  },
  {
   "cell_type": "code",
   "execution_count": 32,
   "metadata": {
    "scrolled": true
   },
   "outputs": [
    {
     "data": {
      "text/html": [
       "<div>\n",
       "<style>\n",
       "    .dataframe thead tr:only-child th {\n",
       "        text-align: right;\n",
       "    }\n",
       "\n",
       "    .dataframe thead th {\n",
       "        text-align: left;\n",
       "    }\n",
       "\n",
       "    .dataframe tbody tr th {\n",
       "        vertical-align: top;\n",
       "    }\n",
       "</style>\n",
       "<table border=\"1\" class=\"dataframe\">\n",
       "  <thead>\n",
       "    <tr style=\"text-align: right;\">\n",
       "      <th></th>\n",
       "      <th>Churn</th>\n",
       "      <th>BaseCharges</th>\n",
       "      <th>DOC</th>\n",
       "      <th>TotalCharges</th>\n",
       "      <th>DOE</th>\n",
       "      <th>ElectronicBilling</th>\n",
       "      <th>ContractType</th>\n",
       "      <th>PaymentMethod</th>\n",
       "      <th>Retired</th>\n",
       "      <th>HasPartner</th>\n",
       "      <th>...</th>\n",
       "      <th>Gender</th>\n",
       "      <th>DeviceProtection</th>\n",
       "      <th>HasPhoneService</th>\n",
       "      <th>InternetServiceCategory</th>\n",
       "      <th>MultipleLines</th>\n",
       "      <th>OnlineBackup</th>\n",
       "      <th>OnlineSecurity</th>\n",
       "      <th>StreamingMovies</th>\n",
       "      <th>StreamingTelevision</th>\n",
       "      <th>TechnicalSupport</th>\n",
       "    </tr>\n",
       "  </thead>\n",
       "  <tbody>\n",
       "    <tr>\n",
       "      <th>503</th>\n",
       "      <td>No</td>\n",
       "      <td>98.50</td>\n",
       "      <td>05-01-2012</td>\n",
       "      <td>NaN</td>\n",
       "      <td>05-Jan-12</td>\n",
       "      <td>Yes</td>\n",
       "      <td>One year</td>\n",
       "      <td>Mailed check</td>\n",
       "      <td>0</td>\n",
       "      <td>1</td>\n",
       "      <td>...</td>\n",
       "      <td>Male</td>\n",
       "      <td>5</td>\n",
       "      <td>1</td>\n",
       "      <td>4</td>\n",
       "      <td>4</td>\n",
       "      <td>5</td>\n",
       "      <td>5</td>\n",
       "      <td>5</td>\n",
       "      <td>5</td>\n",
       "      <td>5</td>\n",
       "    </tr>\n",
       "    <tr>\n",
       "      <th>640</th>\n",
       "      <td>No</td>\n",
       "      <td>302.50</td>\n",
       "      <td>05-01-2012</td>\n",
       "      <td>15607.25</td>\n",
       "      <td>28-Oct-07</td>\n",
       "      <td>No</td>\n",
       "      <td>NaN</td>\n",
       "      <td>Credit card (automatic)</td>\n",
       "      <td>0</td>\n",
       "      <td>1</td>\n",
       "      <td>...</td>\n",
       "      <td>Male</td>\n",
       "      <td>4</td>\n",
       "      <td>1</td>\n",
       "      <td>2</td>\n",
       "      <td>4</td>\n",
       "      <td>7</td>\n",
       "      <td>7</td>\n",
       "      <td>4</td>\n",
       "      <td>4</td>\n",
       "      <td>7</td>\n",
       "    </tr>\n",
       "    <tr>\n",
       "      <th>682</th>\n",
       "      <td>No</td>\n",
       "      <td>128.75</td>\n",
       "      <td>05-01-2012</td>\n",
       "      <td>NaN</td>\n",
       "      <td>05-Jan-12</td>\n",
       "      <td>No</td>\n",
       "      <td>Two year</td>\n",
       "      <td>Mailed check</td>\n",
       "      <td>0</td>\n",
       "      <td>1</td>\n",
       "      <td>...</td>\n",
       "      <td>Male</td>\n",
       "      <td>5</td>\n",
       "      <td>1</td>\n",
       "      <td>4</td>\n",
       "      <td>7</td>\n",
       "      <td>5</td>\n",
       "      <td>5</td>\n",
       "      <td>5</td>\n",
       "      <td>5</td>\n",
       "      <td>5</td>\n",
       "    </tr>\n",
       "    <tr>\n",
       "      <th>687</th>\n",
       "      <td>No</td>\n",
       "      <td>148.75</td>\n",
       "      <td>05-01-2012</td>\n",
       "      <td>1509.50</td>\n",
       "      <td>11-Mar-11</td>\n",
       "      <td>No</td>\n",
       "      <td>Month-to-month</td>\n",
       "      <td>Mailed check</td>\n",
       "      <td>0</td>\n",
       "      <td>2</td>\n",
       "      <td>...</td>\n",
       "      <td>Female</td>\n",
       "      <td>4</td>\n",
       "      <td>0</td>\n",
       "      <td>2</td>\n",
       "      <td>6</td>\n",
       "      <td>4</td>\n",
       "      <td>7</td>\n",
       "      <td>4</td>\n",
       "      <td>4</td>\n",
       "      <td>4</td>\n",
       "    </tr>\n",
       "    <tr>\n",
       "      <th>879</th>\n",
       "      <td>No</td>\n",
       "      <td>239.25</td>\n",
       "      <td>05-01-2012</td>\n",
       "      <td>9432.00</td>\n",
       "      <td>22-Oct-08</td>\n",
       "      <td>Yes</td>\n",
       "      <td>One year</td>\n",
       "      <td>Electronic check</td>\n",
       "      <td>0</td>\n",
       "      <td>2</td>\n",
       "      <td>...</td>\n",
       "      <td>Female</td>\n",
       "      <td>4</td>\n",
       "      <td>1</td>\n",
       "      <td>2</td>\n",
       "      <td>4</td>\n",
       "      <td>4</td>\n",
       "      <td>7</td>\n",
       "      <td>4</td>\n",
       "      <td>4</td>\n",
       "      <td>4</td>\n",
       "    </tr>\n",
       "    <tr>\n",
       "      <th>958</th>\n",
       "      <td>No</td>\n",
       "      <td>121.50</td>\n",
       "      <td>05-01-2012</td>\n",
       "      <td>8216.25</td>\n",
       "      <td>05-Feb-06</td>\n",
       "      <td>No</td>\n",
       "      <td>Two year</td>\n",
       "      <td>Bank transfer (automatic)</td>\n",
       "      <td>0</td>\n",
       "      <td>1</td>\n",
       "      <td>...</td>\n",
       "      <td>Male</td>\n",
       "      <td>5</td>\n",
       "      <td>1</td>\n",
       "      <td>4</td>\n",
       "      <td>7</td>\n",
       "      <td>5</td>\n",
       "      <td>5</td>\n",
       "      <td>5</td>\n",
       "      <td>5</td>\n",
       "      <td>5</td>\n",
       "    </tr>\n",
       "    <tr>\n",
       "      <th>1138</th>\n",
       "      <td>No</td>\n",
       "      <td>276.50</td>\n",
       "      <td>05-01-2012</td>\n",
       "      <td>7653.00</td>\n",
       "      <td>19-Jul-09</td>\n",
       "      <td>Yes</td>\n",
       "      <td>Month-to-month</td>\n",
       "      <td>Bank transfer (automatic)</td>\n",
       "      <td>0</td>\n",
       "      <td>2</td>\n",
       "      <td>...</td>\n",
       "      <td>Female</td>\n",
       "      <td>4</td>\n",
       "      <td>1</td>\n",
       "      <td>2</td>\n",
       "      <td>4</td>\n",
       "      <td>7</td>\n",
       "      <td>7</td>\n",
       "      <td>4</td>\n",
       "      <td>4</td>\n",
       "      <td>4</td>\n",
       "    </tr>\n",
       "    <tr>\n",
       "      <th>1161</th>\n",
       "      <td>No</td>\n",
       "      <td>445.50</td>\n",
       "      <td>05-01-2012</td>\n",
       "      <td>9747.00</td>\n",
       "      <td>16-Mar-10</td>\n",
       "      <td>Yes</td>\n",
       "      <td>Month-to-month</td>\n",
       "      <td>Credit card (automatic)</td>\n",
       "      <td>0</td>\n",
       "      <td>2</td>\n",
       "      <td>...</td>\n",
       "      <td>NaN</td>\n",
       "      <td>4</td>\n",
       "      <td>1</td>\n",
       "      <td>3</td>\n",
       "      <td>7</td>\n",
       "      <td>7</td>\n",
       "      <td>4</td>\n",
       "      <td>4</td>\n",
       "      <td>7</td>\n",
       "      <td>4</td>\n",
       "    </tr>\n",
       "    <tr>\n",
       "      <th>1241</th>\n",
       "      <td>No</td>\n",
       "      <td>386.75</td>\n",
       "      <td>05-01-2012</td>\n",
       "      <td>27750.50</td>\n",
       "      <td>07-Mar-06</td>\n",
       "      <td>No</td>\n",
       "      <td>Two year</td>\n",
       "      <td>Credit card (automatic)</td>\n",
       "      <td>0</td>\n",
       "      <td>2</td>\n",
       "      <td>...</td>\n",
       "      <td>Female</td>\n",
       "      <td>7</td>\n",
       "      <td>1</td>\n",
       "      <td>2</td>\n",
       "      <td>4</td>\n",
       "      <td>7</td>\n",
       "      <td>7</td>\n",
       "      <td>4</td>\n",
       "      <td>7</td>\n",
       "      <td>7</td>\n",
       "    </tr>\n",
       "    <tr>\n",
       "      <th>1496</th>\n",
       "      <td>No</td>\n",
       "      <td>98.75</td>\n",
       "      <td>05-01-2012</td>\n",
       "      <td>NaN</td>\n",
       "      <td>06-Dec-11</td>\n",
       "      <td>No</td>\n",
       "      <td>Month-to-month</td>\n",
       "      <td>Mailed check</td>\n",
       "      <td>0</td>\n",
       "      <td>2</td>\n",
       "      <td>...</td>\n",
       "      <td>Male</td>\n",
       "      <td>5</td>\n",
       "      <td>1</td>\n",
       "      <td>4</td>\n",
       "      <td>4</td>\n",
       "      <td>5</td>\n",
       "      <td>5</td>\n",
       "      <td>5</td>\n",
       "      <td>5</td>\n",
       "      <td>5</td>\n",
       "    </tr>\n",
       "    <tr>\n",
       "      <th>1613</th>\n",
       "      <td>Yes</td>\n",
       "      <td>323.50</td>\n",
       "      <td>05-01-2012</td>\n",
       "      <td>5465.50</td>\n",
       "      <td>13-Aug-10</td>\n",
       "      <td>Yes</td>\n",
       "      <td>Month-to-month</td>\n",
       "      <td>Mailed check</td>\n",
       "      <td>0</td>\n",
       "      <td>2</td>\n",
       "      <td>...</td>\n",
       "      <td>NaN</td>\n",
       "      <td>4</td>\n",
       "      <td>1</td>\n",
       "      <td>2</td>\n",
       "      <td>4</td>\n",
       "      <td>4</td>\n",
       "      <td>4</td>\n",
       "      <td>7</td>\n",
       "      <td>7</td>\n",
       "      <td>4</td>\n",
       "    </tr>\n",
       "    <tr>\n",
       "      <th>1644</th>\n",
       "      <td>No</td>\n",
       "      <td>280.25</td>\n",
       "      <td>05-01-2012</td>\n",
       "      <td>NaN</td>\n",
       "      <td>05-Jan-12</td>\n",
       "      <td>No</td>\n",
       "      <td>Two year</td>\n",
       "      <td>Credit card (automatic)</td>\n",
       "      <td>0</td>\n",
       "      <td>1</td>\n",
       "      <td>...</td>\n",
       "      <td>Female</td>\n",
       "      <td>7</td>\n",
       "      <td>0</td>\n",
       "      <td>2</td>\n",
       "      <td>6</td>\n",
       "      <td>7</td>\n",
       "      <td>7</td>\n",
       "      <td>4</td>\n",
       "      <td>7</td>\n",
       "      <td>7</td>\n",
       "    </tr>\n",
       "    <tr>\n",
       "      <th>2044</th>\n",
       "      <td>No</td>\n",
       "      <td>126.75</td>\n",
       "      <td>05-01-2012</td>\n",
       "      <td>NaN</td>\n",
       "      <td>05-Jan-12</td>\n",
       "      <td>No</td>\n",
       "      <td>Two year</td>\n",
       "      <td>Mailed check</td>\n",
       "      <td>0</td>\n",
       "      <td>1</td>\n",
       "      <td>...</td>\n",
       "      <td>Male</td>\n",
       "      <td>5</td>\n",
       "      <td>1</td>\n",
       "      <td>4</td>\n",
       "      <td>7</td>\n",
       "      <td>5</td>\n",
       "      <td>5</td>\n",
       "      <td>5</td>\n",
       "      <td>5</td>\n",
       "      <td>5</td>\n",
       "    </tr>\n",
       "    <tr>\n",
       "      <th>2176</th>\n",
       "      <td>No</td>\n",
       "      <td>309.50</td>\n",
       "      <td>05-01-2012</td>\n",
       "      <td>NaN</td>\n",
       "      <td>05-Jan-12</td>\n",
       "      <td>Yes</td>\n",
       "      <td>Two year</td>\n",
       "      <td>Bank transfer (automatic)</td>\n",
       "      <td>0</td>\n",
       "      <td>2</td>\n",
       "      <td>...</td>\n",
       "      <td>Male</td>\n",
       "      <td>4</td>\n",
       "      <td>1</td>\n",
       "      <td>2</td>\n",
       "      <td>7</td>\n",
       "      <td>7</td>\n",
       "      <td>7</td>\n",
       "      <td>4</td>\n",
       "      <td>4</td>\n",
       "      <td>7</td>\n",
       "    </tr>\n",
       "    <tr>\n",
       "      <th>2614</th>\n",
       "      <td>Yes</td>\n",
       "      <td>124.00</td>\n",
       "      <td>05-01-2012</td>\n",
       "      <td>124.00</td>\n",
       "      <td>06-Dec-11</td>\n",
       "      <td>Yes</td>\n",
       "      <td>Month-to-month</td>\n",
       "      <td>Electronic check</td>\n",
       "      <td>0</td>\n",
       "      <td>1</td>\n",
       "      <td>...</td>\n",
       "      <td>Female</td>\n",
       "      <td>4</td>\n",
       "      <td>0</td>\n",
       "      <td>2</td>\n",
       "      <td>6</td>\n",
       "      <td>4</td>\n",
       "      <td>4</td>\n",
       "      <td>4</td>\n",
       "      <td>4</td>\n",
       "      <td>4</td>\n",
       "    </tr>\n",
       "    <tr>\n",
       "      <th>2631</th>\n",
       "      <td>No</td>\n",
       "      <td>336.25</td>\n",
       "      <td>05-01-2012</td>\n",
       "      <td>4161.50</td>\n",
       "      <td>10-Jan-11</td>\n",
       "      <td>Yes</td>\n",
       "      <td>NaN</td>\n",
       "      <td>Electronic check</td>\n",
       "      <td>0</td>\n",
       "      <td>2</td>\n",
       "      <td>...</td>\n",
       "      <td>Male</td>\n",
       "      <td>4</td>\n",
       "      <td>1</td>\n",
       "      <td>2</td>\n",
       "      <td>7</td>\n",
       "      <td>7</td>\n",
       "      <td>7</td>\n",
       "      <td>4</td>\n",
       "      <td>4</td>\n",
       "      <td>7</td>\n",
       "    </tr>\n",
       "    <tr>\n",
       "      <th>2866</th>\n",
       "      <td>No</td>\n",
       "      <td>100.00</td>\n",
       "      <td>05-01-2012</td>\n",
       "      <td>NaN</td>\n",
       "      <td>05-Jan-12</td>\n",
       "      <td>No</td>\n",
       "      <td>Two year</td>\n",
       "      <td>Mailed check</td>\n",
       "      <td>0</td>\n",
       "      <td>1</td>\n",
       "      <td>...</td>\n",
       "      <td>Female</td>\n",
       "      <td>5</td>\n",
       "      <td>1</td>\n",
       "      <td>4</td>\n",
       "      <td>4</td>\n",
       "      <td>5</td>\n",
       "      <td>5</td>\n",
       "      <td>5</td>\n",
       "      <td>5</td>\n",
       "      <td>5</td>\n",
       "    </tr>\n",
       "    <tr>\n",
       "      <th>2880</th>\n",
       "      <td>No</td>\n",
       "      <td>99.00</td>\n",
       "      <td>05-01-2012</td>\n",
       "      <td>6988.25</td>\n",
       "      <td>06-Apr-06</td>\n",
       "      <td>No</td>\n",
       "      <td>Two year</td>\n",
       "      <td>Bank transfer (automatic)</td>\n",
       "      <td>0</td>\n",
       "      <td>1</td>\n",
       "      <td>...</td>\n",
       "      <td>Female</td>\n",
       "      <td>5</td>\n",
       "      <td>1</td>\n",
       "      <td>4</td>\n",
       "      <td>4</td>\n",
       "      <td>5</td>\n",
       "      <td>5</td>\n",
       "      <td>5</td>\n",
       "      <td>5</td>\n",
       "      <td>5</td>\n",
       "    </tr>\n",
       "    <tr>\n",
       "      <th>3078</th>\n",
       "      <td>No</td>\n",
       "      <td>404.25</td>\n",
       "      <td>05-01-2012</td>\n",
       "      <td>NaN</td>\n",
       "      <td>05-Jan-12</td>\n",
       "      <td>No</td>\n",
       "      <td>Two year</td>\n",
       "      <td>Mailed check</td>\n",
       "      <td>0</td>\n",
       "      <td>1</td>\n",
       "      <td>...</td>\n",
       "      <td>Female</td>\n",
       "      <td>7</td>\n",
       "      <td>1</td>\n",
       "      <td>2</td>\n",
       "      <td>4</td>\n",
       "      <td>7</td>\n",
       "      <td>7</td>\n",
       "      <td>7</td>\n",
       "      <td>7</td>\n",
       "      <td>4</td>\n",
       "    </tr>\n",
       "    <tr>\n",
       "      <th>3265</th>\n",
       "      <td>No</td>\n",
       "      <td>262.75</td>\n",
       "      <td>05-01-2012</td>\n",
       "      <td>NaN</td>\n",
       "      <td>05-Jan-12</td>\n",
       "      <td>Yes</td>\n",
       "      <td>Two year</td>\n",
       "      <td>Bank transfer (automatic)</td>\n",
       "      <td>0</td>\n",
       "      <td>1</td>\n",
       "      <td>...</td>\n",
       "      <td>Female</td>\n",
       "      <td>7</td>\n",
       "      <td>0</td>\n",
       "      <td>2</td>\n",
       "      <td>6</td>\n",
       "      <td>4</td>\n",
       "      <td>7</td>\n",
       "      <td>4</td>\n",
       "      <td>7</td>\n",
       "      <td>7</td>\n",
       "    </tr>\n",
       "    <tr>\n",
       "      <th>3334</th>\n",
       "      <td>No</td>\n",
       "      <td>96.25</td>\n",
       "      <td>05-01-2012</td>\n",
       "      <td>NaN</td>\n",
       "      <td>06-Dec-11</td>\n",
       "      <td>Yes</td>\n",
       "      <td>Month-to-month</td>\n",
       "      <td>Bank transfer (automatic)</td>\n",
       "      <td>0</td>\n",
       "      <td>2</td>\n",
       "      <td>...</td>\n",
       "      <td>Female</td>\n",
       "      <td>5</td>\n",
       "      <td>1</td>\n",
       "      <td>4</td>\n",
       "      <td>4</td>\n",
       "      <td>5</td>\n",
       "      <td>5</td>\n",
       "      <td>5</td>\n",
       "      <td>5</td>\n",
       "      <td>5</td>\n",
       "    </tr>\n",
       "    <tr>\n",
       "      <th>3461</th>\n",
       "      <td>No</td>\n",
       "      <td>427.50</td>\n",
       "      <td>05-01-2012</td>\n",
       "      <td>23567.00</td>\n",
       "      <td>30-Jun-07</td>\n",
       "      <td>No</td>\n",
       "      <td>Month-to-month</td>\n",
       "      <td>Bank transfer (automatic)</td>\n",
       "      <td>0</td>\n",
       "      <td>1</td>\n",
       "      <td>...</td>\n",
       "      <td>NaN</td>\n",
       "      <td>4</td>\n",
       "      <td>1</td>\n",
       "      <td>3</td>\n",
       "      <td>7</td>\n",
       "      <td>4</td>\n",
       "      <td>4</td>\n",
       "      <td>7</td>\n",
       "      <td>4</td>\n",
       "      <td>4</td>\n",
       "    </tr>\n",
       "    <tr>\n",
       "      <th>3676</th>\n",
       "      <td>Yes</td>\n",
       "      <td>444.50</td>\n",
       "      <td>05-01-2012</td>\n",
       "      <td>2270.75</td>\n",
       "      <td>08-Aug-11</td>\n",
       "      <td>Yes</td>\n",
       "      <td>Month-to-month</td>\n",
       "      <td>Mailed check</td>\n",
       "      <td>0</td>\n",
       "      <td>1</td>\n",
       "      <td>...</td>\n",
       "      <td>Female</td>\n",
       "      <td>7</td>\n",
       "      <td>1</td>\n",
       "      <td>3</td>\n",
       "      <td>4</td>\n",
       "      <td>4</td>\n",
       "      <td>7</td>\n",
       "      <td>7</td>\n",
       "      <td>4</td>\n",
       "      <td>4</td>\n",
       "    </tr>\n",
       "    <tr>\n",
       "      <th>3751</th>\n",
       "      <td>No</td>\n",
       "      <td>97.50</td>\n",
       "      <td>05-01-2012</td>\n",
       "      <td>534.00</td>\n",
       "      <td>09-Jul-11</td>\n",
       "      <td>No</td>\n",
       "      <td>NaN</td>\n",
       "      <td>Bank transfer (automatic)</td>\n",
       "      <td>1</td>\n",
       "      <td>2</td>\n",
       "      <td>...</td>\n",
       "      <td>Female</td>\n",
       "      <td>5</td>\n",
       "      <td>1</td>\n",
       "      <td>4</td>\n",
       "      <td>4</td>\n",
       "      <td>5</td>\n",
       "      <td>5</td>\n",
       "      <td>5</td>\n",
       "      <td>5</td>\n",
       "      <td>5</td>\n",
       "    </tr>\n",
       "    <tr>\n",
       "      <th>4005</th>\n",
       "      <td>Yes</td>\n",
       "      <td>499.75</td>\n",
       "      <td>05-01-2012</td>\n",
       "      <td>5663.75</td>\n",
       "      <td>10-Jan-11</td>\n",
       "      <td>Yes</td>\n",
       "      <td>NaN</td>\n",
       "      <td>Mailed check</td>\n",
       "      <td>0</td>\n",
       "      <td>2</td>\n",
       "      <td>...</td>\n",
       "      <td>Male</td>\n",
       "      <td>4</td>\n",
       "      <td>1</td>\n",
       "      <td>3</td>\n",
       "      <td>7</td>\n",
       "      <td>4</td>\n",
       "      <td>4</td>\n",
       "      <td>7</td>\n",
       "      <td>7</td>\n",
       "      <td>7</td>\n",
       "    </tr>\n",
       "    <tr>\n",
       "      <th>4024</th>\n",
       "      <td>No</td>\n",
       "      <td>122.75</td>\n",
       "      <td>05-01-2012</td>\n",
       "      <td>6019.75</td>\n",
       "      <td>26-Jan-08</td>\n",
       "      <td>No</td>\n",
       "      <td>One year</td>\n",
       "      <td>Bank transfer (automatic)</td>\n",
       "      <td>0</td>\n",
       "      <td>2</td>\n",
       "      <td>...</td>\n",
       "      <td>NaN</td>\n",
       "      <td>5</td>\n",
       "      <td>1</td>\n",
       "      <td>4</td>\n",
       "      <td>7</td>\n",
       "      <td>5</td>\n",
       "      <td>5</td>\n",
       "      <td>5</td>\n",
       "      <td>5</td>\n",
       "      <td>5</td>\n",
       "    </tr>\n",
       "    <tr>\n",
       "      <th>4689</th>\n",
       "      <td>No</td>\n",
       "      <td>549.25</td>\n",
       "      <td>05-01-2012</td>\n",
       "      <td>35014.75</td>\n",
       "      <td>02-Nov-06</td>\n",
       "      <td>Yes</td>\n",
       "      <td>NaN</td>\n",
       "      <td>Credit card (automatic)</td>\n",
       "      <td>0</td>\n",
       "      <td>2</td>\n",
       "      <td>...</td>\n",
       "      <td>Female</td>\n",
       "      <td>7</td>\n",
       "      <td>1</td>\n",
       "      <td>3</td>\n",
       "      <td>7</td>\n",
       "      <td>7</td>\n",
       "      <td>4</td>\n",
       "      <td>7</td>\n",
       "      <td>7</td>\n",
       "      <td>7</td>\n",
       "    </tr>\n",
       "    <tr>\n",
       "      <th>4961</th>\n",
       "      <td>No</td>\n",
       "      <td>509.50</td>\n",
       "      <td>05-01-2012</td>\n",
       "      <td>13405.75</td>\n",
       "      <td>17-Oct-09</td>\n",
       "      <td>Yes</td>\n",
       "      <td>One year</td>\n",
       "      <td>Credit card (automatic)</td>\n",
       "      <td>0</td>\n",
       "      <td>1</td>\n",
       "      <td>...</td>\n",
       "      <td>Female</td>\n",
       "      <td>4</td>\n",
       "      <td>1</td>\n",
       "      <td>3</td>\n",
       "      <td>4</td>\n",
       "      <td>4</td>\n",
       "      <td>7</td>\n",
       "      <td>7</td>\n",
       "      <td>7</td>\n",
       "      <td>7</td>\n",
       "    </tr>\n",
       "    <tr>\n",
       "      <th>4979</th>\n",
       "      <td>No</td>\n",
       "      <td>421.50</td>\n",
       "      <td>05-01-2012</td>\n",
       "      <td>12193.00</td>\n",
       "      <td>19-Jul-09</td>\n",
       "      <td>Yes</td>\n",
       "      <td>Month-to-month</td>\n",
       "      <td>Credit card (automatic)</td>\n",
       "      <td>0</td>\n",
       "      <td>2</td>\n",
       "      <td>...</td>\n",
       "      <td>Male</td>\n",
       "      <td>7</td>\n",
       "      <td>1</td>\n",
       "      <td>3</td>\n",
       "      <td>4</td>\n",
       "      <td>7</td>\n",
       "      <td>7</td>\n",
       "      <td>4</td>\n",
       "      <td>4</td>\n",
       "      <td>4</td>\n",
       "    </tr>\n",
       "  </tbody>\n",
       "</table>\n",
       "<p>29 rows × 22 columns</p>\n",
       "</div>"
      ],
      "text/plain": [
       "     Churn  BaseCharges         DOC  TotalCharges        DOE  \\\n",
       "503     No        98.50  05-01-2012           NaN  05-Jan-12   \n",
       "640     No       302.50  05-01-2012      15607.25  28-Oct-07   \n",
       "682     No       128.75  05-01-2012           NaN  05-Jan-12   \n",
       "687     No       148.75  05-01-2012       1509.50  11-Mar-11   \n",
       "879     No       239.25  05-01-2012       9432.00  22-Oct-08   \n",
       "958     No       121.50  05-01-2012       8216.25  05-Feb-06   \n",
       "1138    No       276.50  05-01-2012       7653.00  19-Jul-09   \n",
       "1161    No       445.50  05-01-2012       9747.00  16-Mar-10   \n",
       "1241    No       386.75  05-01-2012      27750.50  07-Mar-06   \n",
       "1496    No        98.75  05-01-2012           NaN  06-Dec-11   \n",
       "1613   Yes       323.50  05-01-2012       5465.50  13-Aug-10   \n",
       "1644    No       280.25  05-01-2012           NaN  05-Jan-12   \n",
       "2044    No       126.75  05-01-2012           NaN  05-Jan-12   \n",
       "2176    No       309.50  05-01-2012           NaN  05-Jan-12   \n",
       "2614   Yes       124.00  05-01-2012        124.00  06-Dec-11   \n",
       "2631    No       336.25  05-01-2012       4161.50  10-Jan-11   \n",
       "2866    No       100.00  05-01-2012           NaN  05-Jan-12   \n",
       "2880    No        99.00  05-01-2012       6988.25  06-Apr-06   \n",
       "3078    No       404.25  05-01-2012           NaN  05-Jan-12   \n",
       "3265    No       262.75  05-01-2012           NaN  05-Jan-12   \n",
       "3334    No        96.25  05-01-2012           NaN  06-Dec-11   \n",
       "3461    No       427.50  05-01-2012      23567.00  30-Jun-07   \n",
       "3676   Yes       444.50  05-01-2012       2270.75  08-Aug-11   \n",
       "3751    No        97.50  05-01-2012        534.00  09-Jul-11   \n",
       "4005   Yes       499.75  05-01-2012       5663.75  10-Jan-11   \n",
       "4024    No       122.75  05-01-2012       6019.75  26-Jan-08   \n",
       "4689    No       549.25  05-01-2012      35014.75  02-Nov-06   \n",
       "4961    No       509.50  05-01-2012      13405.75  17-Oct-09   \n",
       "4979    No       421.50  05-01-2012      12193.00  19-Jul-09   \n",
       "\n",
       "     ElectronicBilling    ContractType              PaymentMethod  Retired  \\\n",
       "503                Yes        One year               Mailed check        0   \n",
       "640                 No             NaN    Credit card (automatic)        0   \n",
       "682                 No        Two year               Mailed check        0   \n",
       "687                 No  Month-to-month               Mailed check        0   \n",
       "879                Yes        One year           Electronic check        0   \n",
       "958                 No        Two year  Bank transfer (automatic)        0   \n",
       "1138               Yes  Month-to-month  Bank transfer (automatic)        0   \n",
       "1161               Yes  Month-to-month    Credit card (automatic)        0   \n",
       "1241                No        Two year    Credit card (automatic)        0   \n",
       "1496                No  Month-to-month               Mailed check        0   \n",
       "1613               Yes  Month-to-month               Mailed check        0   \n",
       "1644                No        Two year    Credit card (automatic)        0   \n",
       "2044                No        Two year               Mailed check        0   \n",
       "2176               Yes        Two year  Bank transfer (automatic)        0   \n",
       "2614               Yes  Month-to-month           Electronic check        0   \n",
       "2631               Yes             NaN           Electronic check        0   \n",
       "2866                No        Two year               Mailed check        0   \n",
       "2880                No        Two year  Bank transfer (automatic)        0   \n",
       "3078                No        Two year               Mailed check        0   \n",
       "3265               Yes        Two year  Bank transfer (automatic)        0   \n",
       "3334               Yes  Month-to-month  Bank transfer (automatic)        0   \n",
       "3461                No  Month-to-month  Bank transfer (automatic)        0   \n",
       "3676               Yes  Month-to-month               Mailed check        0   \n",
       "3751                No             NaN  Bank transfer (automatic)        1   \n",
       "4005               Yes             NaN               Mailed check        0   \n",
       "4024                No        One year  Bank transfer (automatic)        0   \n",
       "4689               Yes             NaN    Credit card (automatic)        0   \n",
       "4961               Yes        One year    Credit card (automatic)        0   \n",
       "4979               Yes  Month-to-month    Credit card (automatic)        0   \n",
       "\n",
       "      HasPartner        ...         Gender DeviceProtection HasPhoneService  \\\n",
       "503            1        ...           Male                5               1   \n",
       "640            1        ...           Male                4               1   \n",
       "682            1        ...           Male                5               1   \n",
       "687            2        ...         Female                4               0   \n",
       "879            2        ...         Female                4               1   \n",
       "958            1        ...           Male                5               1   \n",
       "1138           2        ...         Female                4               1   \n",
       "1161           2        ...            NaN                4               1   \n",
       "1241           2        ...         Female                7               1   \n",
       "1496           2        ...           Male                5               1   \n",
       "1613           2        ...            NaN                4               1   \n",
       "1644           1        ...         Female                7               0   \n",
       "2044           1        ...           Male                5               1   \n",
       "2176           2        ...           Male                4               1   \n",
       "2614           1        ...         Female                4               0   \n",
       "2631           2        ...           Male                4               1   \n",
       "2866           1        ...         Female                5               1   \n",
       "2880           1        ...         Female                5               1   \n",
       "3078           1        ...         Female                7               1   \n",
       "3265           1        ...         Female                7               0   \n",
       "3334           2        ...         Female                5               1   \n",
       "3461           1        ...            NaN                4               1   \n",
       "3676           1        ...         Female                7               1   \n",
       "3751           2        ...         Female                5               1   \n",
       "4005           2        ...           Male                4               1   \n",
       "4024           2        ...            NaN                5               1   \n",
       "4689           2        ...         Female                7               1   \n",
       "4961           1        ...         Female                4               1   \n",
       "4979           2        ...           Male                7               1   \n",
       "\n",
       "      InternetServiceCategory  MultipleLines  OnlineBackup  OnlineSecurity  \\\n",
       "503                         4              4             5               5   \n",
       "640                         2              4             7               7   \n",
       "682                         4              7             5               5   \n",
       "687                         2              6             4               7   \n",
       "879                         2              4             4               7   \n",
       "958                         4              7             5               5   \n",
       "1138                        2              4             7               7   \n",
       "1161                        3              7             7               4   \n",
       "1241                        2              4             7               7   \n",
       "1496                        4              4             5               5   \n",
       "1613                        2              4             4               4   \n",
       "1644                        2              6             7               7   \n",
       "2044                        4              7             5               5   \n",
       "2176                        2              7             7               7   \n",
       "2614                        2              6             4               4   \n",
       "2631                        2              7             7               7   \n",
       "2866                        4              4             5               5   \n",
       "2880                        4              4             5               5   \n",
       "3078                        2              4             7               7   \n",
       "3265                        2              6             4               7   \n",
       "3334                        4              4             5               5   \n",
       "3461                        3              7             4               4   \n",
       "3676                        3              4             4               7   \n",
       "3751                        4              4             5               5   \n",
       "4005                        3              7             4               4   \n",
       "4024                        4              7             5               5   \n",
       "4689                        3              7             7               4   \n",
       "4961                        3              4             4               7   \n",
       "4979                        3              4             7               7   \n",
       "\n",
       "      StreamingMovies  StreamingTelevision  TechnicalSupport  \n",
       "503                 5                    5                 5  \n",
       "640                 4                    4                 7  \n",
       "682                 5                    5                 5  \n",
       "687                 4                    4                 4  \n",
       "879                 4                    4                 4  \n",
       "958                 5                    5                 5  \n",
       "1138                4                    4                 4  \n",
       "1161                4                    7                 4  \n",
       "1241                4                    7                 7  \n",
       "1496                5                    5                 5  \n",
       "1613                7                    7                 4  \n",
       "1644                4                    7                 7  \n",
       "2044                5                    5                 5  \n",
       "2176                4                    4                 7  \n",
       "2614                4                    4                 4  \n",
       "2631                4                    4                 7  \n",
       "2866                5                    5                 5  \n",
       "2880                5                    5                 5  \n",
       "3078                7                    7                 4  \n",
       "3265                4                    7                 7  \n",
       "3334                5                    5                 5  \n",
       "3461                7                    4                 4  \n",
       "3676                7                    4                 4  \n",
       "3751                5                    5                 5  \n",
       "4005                7                    7                 7  \n",
       "4024                5                    5                 5  \n",
       "4689                7                    7                 7  \n",
       "4961                7                    7                 7  \n",
       "4979                4                    4                 4  \n",
       "\n",
       "[29 rows x 22 columns]"
      ]
     },
     "execution_count": 32,
     "metadata": {},
     "output_type": "execute_result"
    }
   ],
   "source": [
    "# Missing values are missing at random, so there is no pattern in it.\n",
    "final[final.isnull().any(1)]"
   ]
  },
  {
   "cell_type": "code",
   "execution_count": 33,
   "metadata": {
    "collapsed": true
   },
   "outputs": [],
   "source": [
    "final = final.dropna() # Drop missing values "
   ]
  },
  {
   "cell_type": "code",
   "execution_count": 34,
   "metadata": {
    "collapsed": true
   },
   "outputs": [],
   "source": [
    "final.to_csv('f.csv',index=False)\n",
    "final = pd.read_csv('f.csv')"
   ]
  },
  {
   "cell_type": "code",
   "execution_count": 35,
   "metadata": {
    "scrolled": true
   },
   "outputs": [
    {
     "data": {
      "text/html": [
       "<div>\n",
       "<style>\n",
       "    .dataframe thead tr:only-child th {\n",
       "        text-align: right;\n",
       "    }\n",
       "\n",
       "    .dataframe thead th {\n",
       "        text-align: left;\n",
       "    }\n",
       "\n",
       "    .dataframe tbody tr th {\n",
       "        vertical-align: top;\n",
       "    }\n",
       "</style>\n",
       "<table border=\"1\" class=\"dataframe\">\n",
       "  <thead>\n",
       "    <tr style=\"text-align: right;\">\n",
       "      <th></th>\n",
       "      <th>Churn</th>\n",
       "      <th>BaseCharges</th>\n",
       "      <th>DOC</th>\n",
       "      <th>TotalCharges</th>\n",
       "      <th>DOE</th>\n",
       "      <th>ElectronicBilling</th>\n",
       "      <th>ContractType</th>\n",
       "      <th>PaymentMethod</th>\n",
       "      <th>Retired</th>\n",
       "      <th>HasPartner</th>\n",
       "      <th>...</th>\n",
       "      <th>Gender</th>\n",
       "      <th>DeviceProtection</th>\n",
       "      <th>HasPhoneService</th>\n",
       "      <th>InternetServiceCategory</th>\n",
       "      <th>MultipleLines</th>\n",
       "      <th>OnlineBackup</th>\n",
       "      <th>OnlineSecurity</th>\n",
       "      <th>StreamingMovies</th>\n",
       "      <th>StreamingTelevision</th>\n",
       "      <th>TechnicalSupport</th>\n",
       "    </tr>\n",
       "  </thead>\n",
       "  <tbody>\n",
       "    <tr>\n",
       "      <th>0</th>\n",
       "      <td>No</td>\n",
       "      <td>478.50</td>\n",
       "      <td>05-01-2012</td>\n",
       "      <td>5920.00</td>\n",
       "      <td>10-Jan-11</td>\n",
       "      <td>No</td>\n",
       "      <td>One year</td>\n",
       "      <td>Electronic check</td>\n",
       "      <td>0</td>\n",
       "      <td>2</td>\n",
       "      <td>...</td>\n",
       "      <td>Male</td>\n",
       "      <td>7</td>\n",
       "      <td>1</td>\n",
       "      <td>3</td>\n",
       "      <td>4</td>\n",
       "      <td>4</td>\n",
       "      <td>4</td>\n",
       "      <td>7</td>\n",
       "      <td>7</td>\n",
       "      <td>4</td>\n",
       "    </tr>\n",
       "    <tr>\n",
       "      <th>1</th>\n",
       "      <td>No</td>\n",
       "      <td>103.25</td>\n",
       "      <td>05-01-2012</td>\n",
       "      <td>103.25</td>\n",
       "      <td>06-Dec-11</td>\n",
       "      <td>No</td>\n",
       "      <td>Month-to-month</td>\n",
       "      <td>Electronic check</td>\n",
       "      <td>0</td>\n",
       "      <td>2</td>\n",
       "      <td>...</td>\n",
       "      <td>Male</td>\n",
       "      <td>5</td>\n",
       "      <td>1</td>\n",
       "      <td>4</td>\n",
       "      <td>4</td>\n",
       "      <td>5</td>\n",
       "      <td>5</td>\n",
       "      <td>5</td>\n",
       "      <td>5</td>\n",
       "      <td>5</td>\n",
       "    </tr>\n",
       "    <tr>\n",
       "      <th>2</th>\n",
       "      <td>No</td>\n",
       "      <td>399.75</td>\n",
       "      <td>05-01-2012</td>\n",
       "      <td>5217.00</td>\n",
       "      <td>10-Jan-11</td>\n",
       "      <td>Yes</td>\n",
       "      <td>Month-to-month</td>\n",
       "      <td>Bank transfer (automatic)</td>\n",
       "      <td>0</td>\n",
       "      <td>2</td>\n",
       "      <td>...</td>\n",
       "      <td>Male</td>\n",
       "      <td>4</td>\n",
       "      <td>1</td>\n",
       "      <td>3</td>\n",
       "      <td>4</td>\n",
       "      <td>4</td>\n",
       "      <td>4</td>\n",
       "      <td>7</td>\n",
       "      <td>4</td>\n",
       "      <td>4</td>\n",
       "    </tr>\n",
       "    <tr>\n",
       "      <th>3</th>\n",
       "      <td>No</td>\n",
       "      <td>324.75</td>\n",
       "      <td>05-01-2012</td>\n",
       "      <td>22757.50</td>\n",
       "      <td>06-Apr-06</td>\n",
       "      <td>No</td>\n",
       "      <td>One year</td>\n",
       "      <td>Bank transfer (automatic)</td>\n",
       "      <td>0</td>\n",
       "      <td>2</td>\n",
       "      <td>...</td>\n",
       "      <td>Male</td>\n",
       "      <td>4</td>\n",
       "      <td>1</td>\n",
       "      <td>2</td>\n",
       "      <td>7</td>\n",
       "      <td>7</td>\n",
       "      <td>7</td>\n",
       "      <td>4</td>\n",
       "      <td>4</td>\n",
       "      <td>7</td>\n",
       "    </tr>\n",
       "    <tr>\n",
       "      <th>4</th>\n",
       "      <td>Yes</td>\n",
       "      <td>372.50</td>\n",
       "      <td>05-01-2012</td>\n",
       "      <td>372.50</td>\n",
       "      <td>06-Dec-11</td>\n",
       "      <td>Yes</td>\n",
       "      <td>Month-to-month</td>\n",
       "      <td>Electronic check</td>\n",
       "      <td>0</td>\n",
       "      <td>2</td>\n",
       "      <td>...</td>\n",
       "      <td>Female</td>\n",
       "      <td>4</td>\n",
       "      <td>1</td>\n",
       "      <td>3</td>\n",
       "      <td>7</td>\n",
       "      <td>4</td>\n",
       "      <td>4</td>\n",
       "      <td>4</td>\n",
       "      <td>4</td>\n",
       "      <td>4</td>\n",
       "    </tr>\n",
       "  </tbody>\n",
       "</table>\n",
       "<p>5 rows × 22 columns</p>\n",
       "</div>"
      ],
      "text/plain": [
       "  Churn  BaseCharges         DOC  TotalCharges        DOE ElectronicBilling  \\\n",
       "0    No       478.50  05-01-2012       5920.00  10-Jan-11                No   \n",
       "1    No       103.25  05-01-2012        103.25  06-Dec-11                No   \n",
       "2    No       399.75  05-01-2012       5217.00  10-Jan-11               Yes   \n",
       "3    No       324.75  05-01-2012      22757.50  06-Apr-06                No   \n",
       "4   Yes       372.50  05-01-2012        372.50  06-Dec-11               Yes   \n",
       "\n",
       "     ContractType              PaymentMethod  Retired  HasPartner  \\\n",
       "0        One year           Electronic check        0           2   \n",
       "1  Month-to-month           Electronic check        0           2   \n",
       "2  Month-to-month  Bank transfer (automatic)        0           2   \n",
       "3        One year  Bank transfer (automatic)        0           2   \n",
       "4  Month-to-month           Electronic check        0           2   \n",
       "\n",
       "         ...         Gender DeviceProtection HasPhoneService  \\\n",
       "0        ...           Male                7               1   \n",
       "1        ...           Male                5               1   \n",
       "2        ...           Male                4               1   \n",
       "3        ...           Male                4               1   \n",
       "4        ...         Female                4               1   \n",
       "\n",
       "   InternetServiceCategory  MultipleLines  OnlineBackup  OnlineSecurity  \\\n",
       "0                        3              4             4               4   \n",
       "1                        4              4             5               5   \n",
       "2                        3              4             4               4   \n",
       "3                        2              7             7               7   \n",
       "4                        3              7             4               4   \n",
       "\n",
       "   StreamingMovies  StreamingTelevision  TechnicalSupport  \n",
       "0                7                    7                 4  \n",
       "1                5                    5                 5  \n",
       "2                7                    4                 4  \n",
       "3                4                    4                 7  \n",
       "4                4                    4                 4  \n",
       "\n",
       "[5 rows x 22 columns]"
      ]
     },
     "execution_count": 35,
     "metadata": {},
     "output_type": "execute_result"
    }
   ],
   "source": [
    "final.head()"
   ]
  },
  {
   "cell_type": "markdown",
   "metadata": {},
   "source": [
    "#### Type Casting"
   ]
  },
  {
   "cell_type": "code",
   "execution_count": 36,
   "metadata": {
    "collapsed": true
   },
   "outputs": [],
   "source": [
    "num = [ 'BaseCharges',  'TotalCharges' ]\n",
    "date = ['DOC', 'DOE']      \n",
    "cat = ['Churn','ElectronicBilling','ContractType', 'PaymentMethod', \n",
    "       'Retired', 'HasPartner', 'HasDependents', 'Education',\n",
    "        'Gender','DeviceProtection', 'HasPhoneService',\n",
    "       'InternetServiceCategory', 'MultipleLines', 'OnlineBackup',\n",
    "       'OnlineSecurity', 'StreamingMovies', 'StreamingTelevision',\n",
    "       'TechnicalSupport']"
   ]
  },
  {
   "cell_type": "markdown",
   "metadata": {},
   "source": [
    "##### Categorical"
   ]
  },
  {
   "cell_type": "code",
   "execution_count": 37,
   "metadata": {
    "collapsed": true
   },
   "outputs": [],
   "source": [
    "# Changing attributes to category\n",
    "for i in cat:\n",
    "    final[i] = final[i].astype('category')"
   ]
  },
  {
   "cell_type": "code",
   "execution_count": 38,
   "metadata": {
    "collapsed": true
   },
   "outputs": [],
   "source": [
    "# Label Encoding for categorical attributes\n",
    "for i in cat:\n",
    "    final[i] = final[i].cat.codes\n",
    "for i in cat:\n",
    "    final[i] = final[i].astype('category')"
   ]
  },
  {
   "cell_type": "code",
   "execution_count": 39,
   "metadata": {
    "collapsed": true
   },
   "outputs": [],
   "source": [
    "# Test\n",
    "for i in cat[1:]:\n",
    "    tfinal[i] = tfinal[i].astype('category')"
   ]
  },
  {
   "cell_type": "code",
   "execution_count": 40,
   "metadata": {
    "collapsed": true
   },
   "outputs": [],
   "source": [
    "for i in cat[1:]:\n",
    "    tfinal[i] = tfinal[i].cat.codes\n",
    "for i in cat[1:]:\n",
    "    tfinal[i] = tfinal[i].astype('category')"
   ]
  },
  {
   "cell_type": "code",
   "execution_count": 41,
   "metadata": {
    "collapsed": true
   },
   "outputs": [],
   "source": [
    "final.to_csv('fin.csv')# write data"
   ]
  },
  {
   "cell_type": "code",
   "execution_count": 42,
   "metadata": {},
   "outputs": [
    {
     "data": {
      "text/html": [
       "<div>\n",
       "<style>\n",
       "    .dataframe thead tr:only-child th {\n",
       "        text-align: right;\n",
       "    }\n",
       "\n",
       "    .dataframe thead th {\n",
       "        text-align: left;\n",
       "    }\n",
       "\n",
       "    .dataframe tbody tr th {\n",
       "        vertical-align: top;\n",
       "    }\n",
       "</style>\n",
       "<table border=\"1\" class=\"dataframe\">\n",
       "  <thead>\n",
       "    <tr style=\"text-align: right;\">\n",
       "      <th></th>\n",
       "      <th>Churn</th>\n",
       "      <th>BaseCharges</th>\n",
       "      <th>DOC</th>\n",
       "      <th>TotalCharges</th>\n",
       "      <th>DOE</th>\n",
       "      <th>ElectronicBilling</th>\n",
       "      <th>ContractType</th>\n",
       "      <th>PaymentMethod</th>\n",
       "      <th>Retired</th>\n",
       "      <th>HasPartner</th>\n",
       "      <th>...</th>\n",
       "      <th>Gender</th>\n",
       "      <th>DeviceProtection</th>\n",
       "      <th>HasPhoneService</th>\n",
       "      <th>InternetServiceCategory</th>\n",
       "      <th>MultipleLines</th>\n",
       "      <th>OnlineBackup</th>\n",
       "      <th>OnlineSecurity</th>\n",
       "      <th>StreamingMovies</th>\n",
       "      <th>StreamingTelevision</th>\n",
       "      <th>TechnicalSupport</th>\n",
       "    </tr>\n",
       "  </thead>\n",
       "  <tbody>\n",
       "    <tr>\n",
       "      <th>0</th>\n",
       "      <td>0</td>\n",
       "      <td>478.50</td>\n",
       "      <td>05-01-2012</td>\n",
       "      <td>5920.00</td>\n",
       "      <td>10-Jan-11</td>\n",
       "      <td>0</td>\n",
       "      <td>1</td>\n",
       "      <td>2</td>\n",
       "      <td>0</td>\n",
       "      <td>1</td>\n",
       "      <td>...</td>\n",
       "      <td>1</td>\n",
       "      <td>2</td>\n",
       "      <td>1</td>\n",
       "      <td>1</td>\n",
       "      <td>0</td>\n",
       "      <td>0</td>\n",
       "      <td>0</td>\n",
       "      <td>2</td>\n",
       "      <td>2</td>\n",
       "      <td>0</td>\n",
       "    </tr>\n",
       "    <tr>\n",
       "      <th>1</th>\n",
       "      <td>0</td>\n",
       "      <td>103.25</td>\n",
       "      <td>05-01-2012</td>\n",
       "      <td>103.25</td>\n",
       "      <td>06-Dec-11</td>\n",
       "      <td>0</td>\n",
       "      <td>0</td>\n",
       "      <td>2</td>\n",
       "      <td>0</td>\n",
       "      <td>1</td>\n",
       "      <td>...</td>\n",
       "      <td>1</td>\n",
       "      <td>1</td>\n",
       "      <td>1</td>\n",
       "      <td>2</td>\n",
       "      <td>0</td>\n",
       "      <td>1</td>\n",
       "      <td>1</td>\n",
       "      <td>1</td>\n",
       "      <td>1</td>\n",
       "      <td>1</td>\n",
       "    </tr>\n",
       "    <tr>\n",
       "      <th>2</th>\n",
       "      <td>0</td>\n",
       "      <td>399.75</td>\n",
       "      <td>05-01-2012</td>\n",
       "      <td>5217.00</td>\n",
       "      <td>10-Jan-11</td>\n",
       "      <td>1</td>\n",
       "      <td>0</td>\n",
       "      <td>0</td>\n",
       "      <td>0</td>\n",
       "      <td>1</td>\n",
       "      <td>...</td>\n",
       "      <td>1</td>\n",
       "      <td>0</td>\n",
       "      <td>1</td>\n",
       "      <td>1</td>\n",
       "      <td>0</td>\n",
       "      <td>0</td>\n",
       "      <td>0</td>\n",
       "      <td>2</td>\n",
       "      <td>0</td>\n",
       "      <td>0</td>\n",
       "    </tr>\n",
       "    <tr>\n",
       "      <th>3</th>\n",
       "      <td>0</td>\n",
       "      <td>324.75</td>\n",
       "      <td>05-01-2012</td>\n",
       "      <td>22757.50</td>\n",
       "      <td>06-Apr-06</td>\n",
       "      <td>0</td>\n",
       "      <td>1</td>\n",
       "      <td>0</td>\n",
       "      <td>0</td>\n",
       "      <td>1</td>\n",
       "      <td>...</td>\n",
       "      <td>1</td>\n",
       "      <td>0</td>\n",
       "      <td>1</td>\n",
       "      <td>0</td>\n",
       "      <td>2</td>\n",
       "      <td>2</td>\n",
       "      <td>2</td>\n",
       "      <td>0</td>\n",
       "      <td>0</td>\n",
       "      <td>2</td>\n",
       "    </tr>\n",
       "    <tr>\n",
       "      <th>4</th>\n",
       "      <td>1</td>\n",
       "      <td>372.50</td>\n",
       "      <td>05-01-2012</td>\n",
       "      <td>372.50</td>\n",
       "      <td>06-Dec-11</td>\n",
       "      <td>1</td>\n",
       "      <td>0</td>\n",
       "      <td>2</td>\n",
       "      <td>0</td>\n",
       "      <td>1</td>\n",
       "      <td>...</td>\n",
       "      <td>0</td>\n",
       "      <td>0</td>\n",
       "      <td>1</td>\n",
       "      <td>1</td>\n",
       "      <td>2</td>\n",
       "      <td>0</td>\n",
       "      <td>0</td>\n",
       "      <td>0</td>\n",
       "      <td>0</td>\n",
       "      <td>0</td>\n",
       "    </tr>\n",
       "  </tbody>\n",
       "</table>\n",
       "<p>5 rows × 22 columns</p>\n",
       "</div>"
      ],
      "text/plain": [
       "  Churn  BaseCharges         DOC  TotalCharges        DOE ElectronicBilling  \\\n",
       "0     0       478.50  05-01-2012       5920.00  10-Jan-11                 0   \n",
       "1     0       103.25  05-01-2012        103.25  06-Dec-11                 0   \n",
       "2     0       399.75  05-01-2012       5217.00  10-Jan-11                 1   \n",
       "3     0       324.75  05-01-2012      22757.50  06-Apr-06                 0   \n",
       "4     1       372.50  05-01-2012        372.50  06-Dec-11                 1   \n",
       "\n",
       "  ContractType PaymentMethod Retired HasPartner       ...        Gender  \\\n",
       "0            1             2       0          1       ...             1   \n",
       "1            0             2       0          1       ...             1   \n",
       "2            0             0       0          1       ...             1   \n",
       "3            1             0       0          1       ...             1   \n",
       "4            0             2       0          1       ...             0   \n",
       "\n",
       "  DeviceProtection HasPhoneService InternetServiceCategory MultipleLines  \\\n",
       "0                2               1                       1             0   \n",
       "1                1               1                       2             0   \n",
       "2                0               1                       1             0   \n",
       "3                0               1                       0             2   \n",
       "4                0               1                       1             2   \n",
       "\n",
       "  OnlineBackup OnlineSecurity StreamingMovies StreamingTelevision  \\\n",
       "0            0              0               2                   2   \n",
       "1            1              1               1                   1   \n",
       "2            0              0               2                   0   \n",
       "3            2              2               0                   0   \n",
       "4            0              0               0                   0   \n",
       "\n",
       "  TechnicalSupport  \n",
       "0                0  \n",
       "1                1  \n",
       "2                0  \n",
       "3                2  \n",
       "4                0  \n",
       "\n",
       "[5 rows x 22 columns]"
      ]
     },
     "execution_count": 42,
     "metadata": {},
     "output_type": "execute_result"
    }
   ],
   "source": [
    "final.head()"
   ]
  },
  {
   "cell_type": "markdown",
   "metadata": {},
   "source": [
    "### UniVariate Analysis:"
   ]
  },
  {
   "cell_type": "code",
   "execution_count": 43,
   "metadata": {
    "collapsed": true
   },
   "outputs": [],
   "source": [
    "import matplotlib.pyplot as plt\n",
    "%matplotlib inline"
   ]
  },
  {
   "cell_type": "code",
   "execution_count": 44,
   "metadata": {},
   "outputs": [
    {
     "data": {
      "image/png": "[encoded data removed]",
      "text/plain": [
       "<matplotlib.figure.Figure at 0x1ba56e64240>"
      ]
     },
     "metadata": {},
     "output_type": "display_data"
    },
    {
     "data": {
      "image/png": "[encoded data removed]",
      "text/plain": [
       "<matplotlib.figure.Figure at 0x1ba58f22ef0>"
      ]
     },
     "metadata": {},
     "output_type": "display_data"
    },
    {
     "data": {
      "image/png": "[encoded data removed]",
      "text/plain": [
       "<matplotlib.figure.Figure at 0x1ba5901cb00>"
      ]
     },
     "metadata": {},
     "output_type": "display_data"
    },
    {
     "data": {
      "image/png": "[encoded data removed]",
      "text/plain": [
       "<matplotlib.figure.Figure at 0x1ba590ec2e8>"
      ]
     },
     "metadata": {},
     "output_type": "display_data"
    },
    {
     "data": {
      "image/png": "[encoded data removed]",
      "text/plain": [
       "<matplotlib.figure.Figure at 0x1ba59172128>"
      ]
     },
     "metadata": {},
     "output_type": "display_data"
    },
    {
     "data": {
      "image/png": "[encoded data removed]",
      "text/plain": [
       "<matplotlib.figure.Figure at 0x1ba5923e2b0>"
      ]
     },
     "metadata": {},
     "output_type": "display_data"
    },
    {
     "data": {
      "image/png": "[encoded data removed]",
      "text/plain": [
       "<matplotlib.figure.Figure at 0x1ba5903e940>"
      ]
     },
     "metadata": {},
     "output_type": "display_data"
    },
    {
     "data": {
      "image/png": "[encoded data removed]",
      "text/plain": [
       "<matplotlib.figure.Figure at 0x1ba59392cc0>"
      ]
     },
     "metadata": {},
     "output_type": "display_data"
    },
    {
     "data": {
      "image/png": "[encoded data removed]",
      "text/plain": [
       "<matplotlib.figure.Figure at 0x1ba59449780>"
      ]
     },
     "metadata": {},
     "output_type": "display_data"
    },
    {
     "data": {
      "image/png": "[encoded data removed]",
      "text/plain": [
       "<matplotlib.figure.Figure at 0x1ba594abb00>"
      ]
     },
     "metadata": {},
     "output_type": "display_data"
    },
    {
     "data": {
      "image/png": "[encoded data removed]",
      "text/plain": [
       "<matplotlib.figure.Figure at 0x1ba5956cd30>"
      ]
     },
     "metadata": {},
     "output_type": "display_data"
    },
    {
     "data": {
      "image/png": "[encoded data removed]",
      "text/plain": [
       "<matplotlib.figure.Figure at 0x1ba5960f9e8>"
      ]
     },
     "metadata": {},
     "output_type": "display_data"
    },
    {
     "data": {
      "image/png": "[encoded data removed]",
      "text/plain": [
       "<matplotlib.figure.Figure at 0x1ba596c1c18>"
      ]
     },
     "metadata": {},
     "output_type": "display_data"
    },
    {
     "data": {
      "image/png": "[encoded data removed]",
      "text/plain": [
       "<matplotlib.figure.Figure at 0x1ba594e4908>"
      ]
     },
     "metadata": {},
     "output_type": "display_data"
    },
    {
     "data": {
      "image/png": "[encoded data removed]",
      "text/plain": [
       "<matplotlib.figure.Figure at 0x1ba597f3240>"
      ]
     },
     "metadata": {},
     "output_type": "display_data"
    },
    {
     "data": {
      "image/png": "[encoded data removed]",
      "text/plain": [
       "<matplotlib.figure.Figure at 0x1ba59885940>"
      ]
     },
     "metadata": {},
     "output_type": "display_data"
    },
    {
     "data": {
      "image/png": "[encoded data removed]",
      "text/plain": [
       "<matplotlib.figure.Figure at 0x1ba598ecfd0>"
      ]
     },
     "metadata": {},
     "output_type": "display_data"
    },
    {
     "data": {
      "image/png": "[encoded data removed]",
      "text/plain": [
       "<matplotlib.figure.Figure at 0x1ba599e8be0>"
      ]
     },
     "metadata": {},
     "output_type": "display_data"
    }
   ],
   "source": [
    "# Plots for categorical attributes\n",
    "for i in cat:\n",
    "    pd.crosstab(final[i],columns='count').plot(kind = 'bar')\n",
    "    plt.savefig(i)"
   ]
  },
  {
   "cell_type": "markdown",
   "metadata": {},
   "source": [
    "### Numerical"
   ]
  },
  {
   "cell_type": "code",
   "execution_count": 45,
   "metadata": {
    "scrolled": false
   },
   "outputs": [
    {
     "data": {
      "image/png": "[encoded data removed]",
      "text/plain": [
       "<matplotlib.figure.Figure at 0x1ba5927e9b0>"
      ]
     },
     "metadata": {},
     "output_type": "display_data"
    }
   ],
   "source": [
    "for i in num:\n",
    "    final[i] = final[i].astype('int')\n",
    "# Base Charges plot    \n",
    "plt.figure()\n",
    "final.BaseCharges.hist(grid = False)\n",
    "plt.xlabel('BaseCharges')\n",
    "plt.ylabel('frequency')\n",
    "plt.savefig('base_hist.png')"
   ]
  },
  {
   "cell_type": "code",
   "execution_count": 46,
   "metadata": {},
   "outputs": [
    {
     "data": {
      "image/png": "[encoded data removed]",
      "text/plain": [
       "<matplotlib.figure.Figure at 0x1ba592d35c0>"
      ]
     },
     "metadata": {},
     "output_type": "display_data"
    }
   ],
   "source": [
    "# Total Charges plot\n",
    "plt.figure()\n",
    "final.TotalCharges.hist()\n",
    "plt.xlabel('TotalCharges')\n",
    "plt.ylabel('frequency')\n",
    "plt.savefig('tot_hist.png')"
   ]
  },
  {
   "cell_type": "code",
   "execution_count": 47,
   "metadata": {},
   "outputs": [
    {
     "data": {
      "image/png": "[encoded data removed]",
      "text/plain": [
       "<matplotlib.figure.Figure at 0x1ba592108d0>"
      ]
     },
     "metadata": {},
     "output_type": "display_data"
    },
    {
     "data": {
      "image/png": "[encoded data removed]",
      "text/plain": [
       "<matplotlib.figure.Figure at 0x1ba59ccaeb8>"
      ]
     },
     "metadata": {},
     "output_type": "display_data"
    },
    {
     "data": {
      "text/plain": [
       "<matplotlib.figure.Figure at 0x1ba59d6bba8>"
      ]
     },
     "metadata": {},
     "output_type": "display_data"
    }
   ],
   "source": [
    "# Box plots\n",
    "for i in num:\n",
    "    final.boxplot(i) \n",
    "    plt.show()\n",
    "    plt.savefig(i)"
   ]
  },
  {
   "cell_type": "markdown",
   "metadata": {},
   "source": [
    "### Date"
   ]
  },
  {
   "cell_type": "code",
   "execution_count": 48,
   "metadata": {
    "collapsed": true
   },
   "outputs": [],
   "source": [
    "import datetime"
   ]
  },
  {
   "cell_type": "code",
   "execution_count": 49,
   "metadata": {
    "collapsed": true
   },
   "outputs": [],
   "source": [
    "# Date time format\n",
    "final.DOC = pd.to_datetime(final.DOC)\n",
    "tfinal.DOC = pd.to_datetime(tfinal.DOC)"
   ]
  },
  {
   "cell_type": "code",
   "execution_count": 50,
   "metadata": {
    "collapsed": true
   },
   "outputs": [],
   "source": [
    "final.DOE = pd.to_datetime(final.DOE)\n",
    "tfinal.DOE = pd.to_datetime(tfinal.DOE)"
   ]
  },
  {
   "cell_type": "markdown",
   "metadata": {},
   "source": [
    "#### Feature Engineering"
   ]
  },
  {
   "cell_type": "code",
   "execution_count": 51,
   "metadata": {
    "collapsed": true
   },
   "outputs": [],
   "source": [
    "# Age is the lifetime of the customer \n",
    "final['Age'] = final.DOC - final.DOE\n",
    "tfinal['Age'] = tfinal.DOC - tfinal.DOE"
   ]
  },
  {
   "cell_type": "code",
   "execution_count": 52,
   "metadata": {
    "collapsed": true
   },
   "outputs": [],
   "source": [
    "# Converting to int, models does not accept timedelta\n",
    "final.Age = (final.Age / np.timedelta64(1, 'D')).astype(int)\n",
    "tfinal.Age = (tfinal.Age / np.timedelta64(1, 'D')).astype(int)"
   ]
  },
  {
   "cell_type": "code",
   "execution_count": 53,
   "metadata": {
    "scrolled": true
   },
   "outputs": [
    {
     "data": {
      "text/html": [
       "<div>\n",
       "<style>\n",
       "    .dataframe thead tr:only-child th {\n",
       "        text-align: right;\n",
       "    }\n",
       "\n",
       "    .dataframe thead th {\n",
       "        text-align: left;\n",
       "    }\n",
       "\n",
       "    .dataframe tbody tr th {\n",
       "        vertical-align: top;\n",
       "    }\n",
       "</style>\n",
       "<table border=\"1\" class=\"dataframe\">\n",
       "  <thead>\n",
       "    <tr style=\"text-align: right;\">\n",
       "      <th></th>\n",
       "      <th>BaseCharges</th>\n",
       "      <th>DOC</th>\n",
       "      <th>TotalCharges</th>\n",
       "      <th>DOE</th>\n",
       "      <th>ElectronicBilling</th>\n",
       "      <th>ContractType</th>\n",
       "      <th>PaymentMethod</th>\n",
       "      <th>Retired</th>\n",
       "      <th>HasPartner</th>\n",
       "      <th>HasDependents</th>\n",
       "      <th>...</th>\n",
       "      <th>DeviceProtection</th>\n",
       "      <th>HasPhoneService</th>\n",
       "      <th>InternetServiceCategory</th>\n",
       "      <th>MultipleLines</th>\n",
       "      <th>OnlineBackup</th>\n",
       "      <th>OnlineSecurity</th>\n",
       "      <th>StreamingMovies</th>\n",
       "      <th>StreamingTelevision</th>\n",
       "      <th>TechnicalSupport</th>\n",
       "      <th>Age</th>\n",
       "    </tr>\n",
       "  </thead>\n",
       "  <tbody>\n",
       "    <tr>\n",
       "      <th>0</th>\n",
       "      <td>447.75</td>\n",
       "      <td>2012-05-01</td>\n",
       "      <td>10935.75</td>\n",
       "      <td>2010-01-15</td>\n",
       "      <td>1</td>\n",
       "      <td>0</td>\n",
       "      <td>1</td>\n",
       "      <td>0</td>\n",
       "      <td>1</td>\n",
       "      <td>1</td>\n",
       "      <td>...</td>\n",
       "      <td>2</td>\n",
       "      <td>1</td>\n",
       "      <td>0</td>\n",
       "      <td>0</td>\n",
       "      <td>0</td>\n",
       "      <td>2</td>\n",
       "      <td>0</td>\n",
       "      <td>0</td>\n",
       "      <td>0</td>\n",
       "      <td>837</td>\n",
       "    </tr>\n",
       "    <tr>\n",
       "      <th>1</th>\n",
       "      <td>253.50</td>\n",
       "      <td>2012-05-01</td>\n",
       "      <td>1072.75</td>\n",
       "      <td>2011-09-07</td>\n",
       "      <td>0</td>\n",
       "      <td>0</td>\n",
       "      <td>1</td>\n",
       "      <td>0</td>\n",
       "      <td>1</td>\n",
       "      <td>1</td>\n",
       "      <td>...</td>\n",
       "      <td>0</td>\n",
       "      <td>1</td>\n",
       "      <td>0</td>\n",
       "      <td>0</td>\n",
       "      <td>2</td>\n",
       "      <td>2</td>\n",
       "      <td>0</td>\n",
       "      <td>0</td>\n",
       "      <td>0</td>\n",
       "      <td>237</td>\n",
       "    </tr>\n",
       "    <tr>\n",
       "      <th>2</th>\n",
       "      <td>478.00</td>\n",
       "      <td>2012-05-01</td>\n",
       "      <td>23917.50</td>\n",
       "      <td>2007-12-27</td>\n",
       "      <td>1</td>\n",
       "      <td>0</td>\n",
       "      <td>1</td>\n",
       "      <td>0</td>\n",
       "      <td>0</td>\n",
       "      <td>0</td>\n",
       "      <td>...</td>\n",
       "      <td>0</td>\n",
       "      <td>1</td>\n",
       "      <td>0</td>\n",
       "      <td>0</td>\n",
       "      <td>0</td>\n",
       "      <td>2</td>\n",
       "      <td>0</td>\n",
       "      <td>0</td>\n",
       "      <td>0</td>\n",
       "      <td>1587</td>\n",
       "    </tr>\n",
       "    <tr>\n",
       "      <th>3</th>\n",
       "      <td>278.50</td>\n",
       "      <td>2012-05-01</td>\n",
       "      <td>1297.00</td>\n",
       "      <td>2011-08-08</td>\n",
       "      <td>1</td>\n",
       "      <td>0</td>\n",
       "      <td>2</td>\n",
       "      <td>0</td>\n",
       "      <td>0</td>\n",
       "      <td>0</td>\n",
       "      <td>...</td>\n",
       "      <td>2</td>\n",
       "      <td>1</td>\n",
       "      <td>1</td>\n",
       "      <td>0</td>\n",
       "      <td>2</td>\n",
       "      <td>0</td>\n",
       "      <td>2</td>\n",
       "      <td>0</td>\n",
       "      <td>0</td>\n",
       "      <td>267</td>\n",
       "    </tr>\n",
       "    <tr>\n",
       "      <th>4</th>\n",
       "      <td>426.00</td>\n",
       "      <td>2012-05-01</td>\n",
       "      <td>7769.50</td>\n",
       "      <td>2010-07-14</td>\n",
       "      <td>1</td>\n",
       "      <td>0</td>\n",
       "      <td>1</td>\n",
       "      <td>0</td>\n",
       "      <td>1</td>\n",
       "      <td>1</td>\n",
       "      <td>...</td>\n",
       "      <td>2</td>\n",
       "      <td>0</td>\n",
       "      <td>0</td>\n",
       "      <td>1</td>\n",
       "      <td>0</td>\n",
       "      <td>0</td>\n",
       "      <td>2</td>\n",
       "      <td>0</td>\n",
       "      <td>0</td>\n",
       "      <td>657</td>\n",
       "    </tr>\n",
       "  </tbody>\n",
       "</table>\n",
       "<p>5 rows × 22 columns</p>\n",
       "</div>"
      ],
      "text/plain": [
       "   BaseCharges        DOC  TotalCharges        DOE ElectronicBilling  \\\n",
       "0       447.75 2012-05-01      10935.75 2010-01-15                 1   \n",
       "1       253.50 2012-05-01       1072.75 2011-09-07                 0   \n",
       "2       478.00 2012-05-01      23917.50 2007-12-27                 1   \n",
       "3       278.50 2012-05-01       1297.00 2011-08-08                 1   \n",
       "4       426.00 2012-05-01       7769.50 2010-07-14                 1   \n",
       "\n",
       "  ContractType PaymentMethod Retired HasPartner HasDependents  ...   \\\n",
       "0            0             1       0          1             1  ...    \n",
       "1            0             1       0          1             1  ...    \n",
       "2            0             1       0          0             0  ...    \n",
       "3            0             2       0          0             0  ...    \n",
       "4            0             1       0          1             1  ...    \n",
       "\n",
       "  DeviceProtection HasPhoneService InternetServiceCategory MultipleLines  \\\n",
       "0                2               1                       0             0   \n",
       "1                0               1                       0             0   \n",
       "2                0               1                       0             0   \n",
       "3                2               1                       1             0   \n",
       "4                2               0                       0             1   \n",
       "\n",
       "  OnlineBackup OnlineSecurity StreamingMovies StreamingTelevision  \\\n",
       "0            0              2               0                   0   \n",
       "1            2              2               0                   0   \n",
       "2            0              2               0                   0   \n",
       "3            2              0               2                   0   \n",
       "4            0              0               2                   0   \n",
       "\n",
       "  TechnicalSupport   Age  \n",
       "0                0   837  \n",
       "1                0   237  \n",
       "2                0  1587  \n",
       "3                0   267  \n",
       "4                0   657  \n",
       "\n",
       "[5 rows x 22 columns]"
      ]
     },
     "execution_count": 53,
     "metadata": {},
     "output_type": "execute_result"
    }
   ],
   "source": [
    "tfinal.head()"
   ]
  },
  {
   "cell_type": "markdown",
   "metadata": {},
   "source": [
    "** correlation **"
   ]
  },
  {
   "cell_type": "code",
   "execution_count": 54,
   "metadata": {},
   "outputs": [
    {
     "data": {
      "text/plain": [
       "<matplotlib.axes._subplots.AxesSubplot at 0x1ba59a1f588>"
      ]
     },
     "execution_count": 54,
     "metadata": {},
     "output_type": "execute_result"
    },
    {
     "data": {
      "image/png": "[encoded data removed]",
      "text/plain": [
       "<matplotlib.figure.Figure at 0x1ba599fe9e8>"
      ]
     },
     "metadata": {},
     "output_type": "display_data"
    }
   ],
   "source": [
    "import seaborn as sns \n",
    "sns.heatmap(final[['BaseCharges','Age','TotalCharges']].corr())"
   ]
  },
  {
   "cell_type": "markdown",
   "metadata": {},
   "source": [
    "#### Standardization"
   ]
  },
  {
   "cell_type": "code",
   "execution_count": 55,
   "metadata": {},
   "outputs": [
    {
     "data": {
      "text/plain": [
       "(1769, 2)"
      ]
     },
     "execution_count": 55,
     "metadata": {},
     "output_type": "execute_result"
    }
   ],
   "source": [
    "# Numerical variables\n",
    "num_var = final[['BaseCharges','Age' ]]\n",
    "num_var.shape\n",
    "tnum_var = tfinal[['BaseCharges', 'Age' ]]\n",
    "tnum_var.shape"
   ]
  },
  {
   "cell_type": "code",
   "execution_count": 56,
   "metadata": {
    "collapsed": true
   },
   "outputs": [],
   "source": [
    "from sklearn.preprocessing import MinMaxScaler\n",
    "scaler = MinMaxScaler()"
   ]
  },
  {
   "cell_type": "code",
   "execution_count": 57,
   "metadata": {
    "scrolled": true
   },
   "outputs": [
    {
     "data": {
      "text/html": [
       "<div>\n",
       "<style>\n",
       "    .dataframe thead tr:only-child th {\n",
       "        text-align: right;\n",
       "    }\n",
       "\n",
       "    .dataframe thead th {\n",
       "        text-align: left;\n",
       "    }\n",
       "\n",
       "    .dataframe tbody tr th {\n",
       "        vertical-align: top;\n",
       "    }\n",
       "</style>\n",
       "<table border=\"1\" class=\"dataframe\">\n",
       "  <thead>\n",
       "    <tr style=\"text-align: right;\">\n",
       "      <th></th>\n",
       "      <th>BaseCharges</th>\n",
       "      <th>Age</th>\n",
       "    </tr>\n",
       "  </thead>\n",
       "  <tbody>\n",
       "    <tr>\n",
       "      <th>0</th>\n",
       "      <td>0.770916</td>\n",
       "      <td>0.154930</td>\n",
       "    </tr>\n",
       "    <tr>\n",
       "      <th>1</th>\n",
       "      <td>0.023904</td>\n",
       "      <td>0.000000</td>\n",
       "    </tr>\n",
       "    <tr>\n",
       "      <th>2</th>\n",
       "      <td>0.613546</td>\n",
       "      <td>0.154930</td>\n",
       "    </tr>\n",
       "    <tr>\n",
       "      <th>3</th>\n",
       "      <td>0.464143</td>\n",
       "      <td>0.971831</td>\n",
       "    </tr>\n",
       "    <tr>\n",
       "      <th>4</th>\n",
       "      <td>0.559761</td>\n",
       "      <td>0.000000</td>\n",
       "    </tr>\n",
       "  </tbody>\n",
       "</table>\n",
       "</div>"
      ],
      "text/plain": [
       "   BaseCharges       Age\n",
       "0     0.770916  0.154930\n",
       "1     0.023904  0.000000\n",
       "2     0.613546  0.154930\n",
       "3     0.464143  0.971831\n",
       "4     0.559761  0.000000"
      ]
     },
     "execution_count": 57,
     "metadata": {},
     "output_type": "execute_result"
    }
   ],
   "source": [
    "num_scaled = pd.DataFrame(scaler.fit_transform(num_var),columns=num_var.columns)\n",
    "num_scaled.head()"
   ]
  },
  {
   "cell_type": "code",
   "execution_count": 58,
   "metadata": {},
   "outputs": [
    {
     "data": {
      "text/plain": [
       "BaseCharges    0\n",
       "Age            0\n",
       "dtype: int64"
      ]
     },
     "execution_count": 58,
     "metadata": {},
     "output_type": "execute_result"
    }
   ],
   "source": [
    "tnum_var.isnull().sum()"
   ]
  },
  {
   "cell_type": "code",
   "execution_count": 59,
   "metadata": {
    "collapsed": true
   },
   "outputs": [],
   "source": [
    "tnum_scaled = pd.DataFrame(scaler.fit_transform(tnum_var),columns=tnum_var.columns)"
   ]
  },
  {
   "cell_type": "code",
   "execution_count": 60,
   "metadata": {},
   "outputs": [
    {
     "data": {
      "text/plain": [
       "(1769, 2)"
      ]
     },
     "execution_count": 60,
     "metadata": {},
     "output_type": "execute_result"
    }
   ],
   "source": [
    "tnum_scaled.shape"
   ]
  },
  {
   "cell_type": "code",
   "execution_count": 61,
   "metadata": {
    "collapsed": true
   },
   "outputs": [],
   "source": [
    "# Dropping all the columns as we already have them\n",
    "final = final.drop(['TotalCharges','BaseCharges','Age'],1)"
   ]
  },
  {
   "cell_type": "code",
   "execution_count": 62,
   "metadata": {
    "collapsed": true
   },
   "outputs": [],
   "source": [
    "tfinal = tfinal.drop(['TotalCharges','BaseCharges','Age'],1)"
   ]
  },
  {
   "cell_type": "code",
   "execution_count": 63,
   "metadata": {
    "collapsed": true
   },
   "outputs": [],
   "source": [
    "final = pd.concat([num_scaled,final],1) # concatenation"
   ]
  },
  {
   "cell_type": "code",
   "execution_count": 64,
   "metadata": {},
   "outputs": [
    {
     "data": {
      "text/html": [
       "<div>\n",
       "<style>\n",
       "    .dataframe thead tr:only-child th {\n",
       "        text-align: right;\n",
       "    }\n",
       "\n",
       "    .dataframe thead th {\n",
       "        text-align: left;\n",
       "    }\n",
       "\n",
       "    .dataframe tbody tr th {\n",
       "        vertical-align: top;\n",
       "    }\n",
       "</style>\n",
       "<table border=\"1\" class=\"dataframe\">\n",
       "  <thead>\n",
       "    <tr style=\"text-align: right;\">\n",
       "      <th></th>\n",
       "      <th>BaseCharges</th>\n",
       "      <th>Age</th>\n",
       "      <th>Churn</th>\n",
       "      <th>DOC</th>\n",
       "      <th>DOE</th>\n",
       "      <th>ElectronicBilling</th>\n",
       "      <th>ContractType</th>\n",
       "      <th>PaymentMethod</th>\n",
       "      <th>Retired</th>\n",
       "      <th>HasPartner</th>\n",
       "      <th>...</th>\n",
       "      <th>Gender</th>\n",
       "      <th>DeviceProtection</th>\n",
       "      <th>HasPhoneService</th>\n",
       "      <th>InternetServiceCategory</th>\n",
       "      <th>MultipleLines</th>\n",
       "      <th>OnlineBackup</th>\n",
       "      <th>OnlineSecurity</th>\n",
       "      <th>StreamingMovies</th>\n",
       "      <th>StreamingTelevision</th>\n",
       "      <th>TechnicalSupport</th>\n",
       "    </tr>\n",
       "  </thead>\n",
       "  <tbody>\n",
       "    <tr>\n",
       "      <th>0</th>\n",
       "      <td>0.770916</td>\n",
       "      <td>0.154930</td>\n",
       "      <td>0</td>\n",
       "      <td>2012-05-01</td>\n",
       "      <td>2011-01-10</td>\n",
       "      <td>0</td>\n",
       "      <td>1</td>\n",
       "      <td>2</td>\n",
       "      <td>0</td>\n",
       "      <td>1</td>\n",
       "      <td>...</td>\n",
       "      <td>1</td>\n",
       "      <td>2</td>\n",
       "      <td>1</td>\n",
       "      <td>1</td>\n",
       "      <td>0</td>\n",
       "      <td>0</td>\n",
       "      <td>0</td>\n",
       "      <td>2</td>\n",
       "      <td>2</td>\n",
       "      <td>0</td>\n",
       "    </tr>\n",
       "    <tr>\n",
       "      <th>1</th>\n",
       "      <td>0.023904</td>\n",
       "      <td>0.000000</td>\n",
       "      <td>0</td>\n",
       "      <td>2012-05-01</td>\n",
       "      <td>2011-12-06</td>\n",
       "      <td>0</td>\n",
       "      <td>0</td>\n",
       "      <td>2</td>\n",
       "      <td>0</td>\n",
       "      <td>1</td>\n",
       "      <td>...</td>\n",
       "      <td>1</td>\n",
       "      <td>1</td>\n",
       "      <td>1</td>\n",
       "      <td>2</td>\n",
       "      <td>0</td>\n",
       "      <td>1</td>\n",
       "      <td>1</td>\n",
       "      <td>1</td>\n",
       "      <td>1</td>\n",
       "      <td>1</td>\n",
       "    </tr>\n",
       "    <tr>\n",
       "      <th>2</th>\n",
       "      <td>0.613546</td>\n",
       "      <td>0.154930</td>\n",
       "      <td>0</td>\n",
       "      <td>2012-05-01</td>\n",
       "      <td>2011-01-10</td>\n",
       "      <td>1</td>\n",
       "      <td>0</td>\n",
       "      <td>0</td>\n",
       "      <td>0</td>\n",
       "      <td>1</td>\n",
       "      <td>...</td>\n",
       "      <td>1</td>\n",
       "      <td>0</td>\n",
       "      <td>1</td>\n",
       "      <td>1</td>\n",
       "      <td>0</td>\n",
       "      <td>0</td>\n",
       "      <td>0</td>\n",
       "      <td>2</td>\n",
       "      <td>0</td>\n",
       "      <td>0</td>\n",
       "    </tr>\n",
       "    <tr>\n",
       "      <th>3</th>\n",
       "      <td>0.464143</td>\n",
       "      <td>0.971831</td>\n",
       "      <td>0</td>\n",
       "      <td>2012-05-01</td>\n",
       "      <td>2006-04-06</td>\n",
       "      <td>0</td>\n",
       "      <td>1</td>\n",
       "      <td>0</td>\n",
       "      <td>0</td>\n",
       "      <td>1</td>\n",
       "      <td>...</td>\n",
       "      <td>1</td>\n",
       "      <td>0</td>\n",
       "      <td>1</td>\n",
       "      <td>0</td>\n",
       "      <td>2</td>\n",
       "      <td>2</td>\n",
       "      <td>2</td>\n",
       "      <td>0</td>\n",
       "      <td>0</td>\n",
       "      <td>2</td>\n",
       "    </tr>\n",
       "    <tr>\n",
       "      <th>4</th>\n",
       "      <td>0.559761</td>\n",
       "      <td>0.000000</td>\n",
       "      <td>1</td>\n",
       "      <td>2012-05-01</td>\n",
       "      <td>2011-12-06</td>\n",
       "      <td>1</td>\n",
       "      <td>0</td>\n",
       "      <td>2</td>\n",
       "      <td>0</td>\n",
       "      <td>1</td>\n",
       "      <td>...</td>\n",
       "      <td>0</td>\n",
       "      <td>0</td>\n",
       "      <td>1</td>\n",
       "      <td>1</td>\n",
       "      <td>2</td>\n",
       "      <td>0</td>\n",
       "      <td>0</td>\n",
       "      <td>0</td>\n",
       "      <td>0</td>\n",
       "      <td>0</td>\n",
       "    </tr>\n",
       "  </tbody>\n",
       "</table>\n",
       "<p>5 rows × 22 columns</p>\n",
       "</div>"
      ],
      "text/plain": [
       "   BaseCharges       Age Churn        DOC        DOE ElectronicBilling  \\\n",
       "0     0.770916  0.154930     0 2012-05-01 2011-01-10                 0   \n",
       "1     0.023904  0.000000     0 2012-05-01 2011-12-06                 0   \n",
       "2     0.613546  0.154930     0 2012-05-01 2011-01-10                 1   \n",
       "3     0.464143  0.971831     0 2012-05-01 2006-04-06                 0   \n",
       "4     0.559761  0.000000     1 2012-05-01 2011-12-06                 1   \n",
       "\n",
       "  ContractType PaymentMethod Retired HasPartner       ...        Gender  \\\n",
       "0            1             2       0          1       ...             1   \n",
       "1            0             2       0          1       ...             1   \n",
       "2            0             0       0          1       ...             1   \n",
       "3            1             0       0          1       ...             1   \n",
       "4            0             2       0          1       ...             0   \n",
       "\n",
       "  DeviceProtection HasPhoneService InternetServiceCategory MultipleLines  \\\n",
       "0                2               1                       1             0   \n",
       "1                1               1                       2             0   \n",
       "2                0               1                       1             0   \n",
       "3                0               1                       0             2   \n",
       "4                0               1                       1             2   \n",
       "\n",
       "  OnlineBackup OnlineSecurity StreamingMovies StreamingTelevision  \\\n",
       "0            0              0               2                   2   \n",
       "1            1              1               1                   1   \n",
       "2            0              0               2                   0   \n",
       "3            2              2               0                   0   \n",
       "4            0              0               0                   0   \n",
       "\n",
       "  TechnicalSupport  \n",
       "0                0  \n",
       "1                1  \n",
       "2                0  \n",
       "3                2  \n",
       "4                0  \n",
       "\n",
       "[5 rows x 22 columns]"
      ]
     },
     "execution_count": 64,
     "metadata": {},
     "output_type": "execute_result"
    }
   ],
   "source": [
    "final.head()"
   ]
  },
  {
   "cell_type": "code",
   "execution_count": 65,
   "metadata": {
    "collapsed": true
   },
   "outputs": [],
   "source": [
    "tfinal = pd.concat([tnum_scaled,tfinal],1)"
   ]
  },
  {
   "cell_type": "code",
   "execution_count": 66,
   "metadata": {
    "scrolled": true
   },
   "outputs": [
    {
     "data": {
      "text/html": [
       "<div>\n",
       "<style>\n",
       "    .dataframe thead tr:only-child th {\n",
       "        text-align: right;\n",
       "    }\n",
       "\n",
       "    .dataframe thead th {\n",
       "        text-align: left;\n",
       "    }\n",
       "\n",
       "    .dataframe tbody tr th {\n",
       "        vertical-align: top;\n",
       "    }\n",
       "</style>\n",
       "<table border=\"1\" class=\"dataframe\">\n",
       "  <thead>\n",
       "    <tr style=\"text-align: right;\">\n",
       "      <th></th>\n",
       "      <th>BaseCharges</th>\n",
       "      <th>Age</th>\n",
       "      <th>DOC</th>\n",
       "      <th>DOE</th>\n",
       "      <th>ElectronicBilling</th>\n",
       "      <th>ContractType</th>\n",
       "      <th>PaymentMethod</th>\n",
       "      <th>Retired</th>\n",
       "      <th>HasPartner</th>\n",
       "      <th>HasDependents</th>\n",
       "      <th>...</th>\n",
       "      <th>Gender</th>\n",
       "      <th>DeviceProtection</th>\n",
       "      <th>HasPhoneService</th>\n",
       "      <th>InternetServiceCategory</th>\n",
       "      <th>MultipleLines</th>\n",
       "      <th>OnlineBackup</th>\n",
       "      <th>OnlineSecurity</th>\n",
       "      <th>StreamingMovies</th>\n",
       "      <th>StreamingTelevision</th>\n",
       "      <th>TechnicalSupport</th>\n",
       "    </tr>\n",
       "  </thead>\n",
       "  <tbody>\n",
       "    <tr>\n",
       "      <th>0</th>\n",
       "      <td>0.711856</td>\n",
       "      <td>0.333333</td>\n",
       "      <td>2012-05-01</td>\n",
       "      <td>2010-01-15</td>\n",
       "      <td>1</td>\n",
       "      <td>0</td>\n",
       "      <td>1</td>\n",
       "      <td>0</td>\n",
       "      <td>1</td>\n",
       "      <td>1</td>\n",
       "      <td>...</td>\n",
       "      <td>1</td>\n",
       "      <td>2</td>\n",
       "      <td>1</td>\n",
       "      <td>0</td>\n",
       "      <td>0</td>\n",
       "      <td>0</td>\n",
       "      <td>2</td>\n",
       "      <td>0</td>\n",
       "      <td>0</td>\n",
       "      <td>0</td>\n",
       "    </tr>\n",
       "    <tr>\n",
       "      <th>1</th>\n",
       "      <td>0.323162</td>\n",
       "      <td>0.055556</td>\n",
       "      <td>2012-05-01</td>\n",
       "      <td>2011-09-07</td>\n",
       "      <td>0</td>\n",
       "      <td>0</td>\n",
       "      <td>1</td>\n",
       "      <td>0</td>\n",
       "      <td>1</td>\n",
       "      <td>1</td>\n",
       "      <td>...</td>\n",
       "      <td>0</td>\n",
       "      <td>0</td>\n",
       "      <td>1</td>\n",
       "      <td>0</td>\n",
       "      <td>0</td>\n",
       "      <td>2</td>\n",
       "      <td>2</td>\n",
       "      <td>0</td>\n",
       "      <td>0</td>\n",
       "      <td>0</td>\n",
       "    </tr>\n",
       "    <tr>\n",
       "      <th>2</th>\n",
       "      <td>0.772386</td>\n",
       "      <td>0.680556</td>\n",
       "      <td>2012-05-01</td>\n",
       "      <td>2007-12-27</td>\n",
       "      <td>1</td>\n",
       "      <td>0</td>\n",
       "      <td>1</td>\n",
       "      <td>0</td>\n",
       "      <td>0</td>\n",
       "      <td>0</td>\n",
       "      <td>...</td>\n",
       "      <td>0</td>\n",
       "      <td>0</td>\n",
       "      <td>1</td>\n",
       "      <td>0</td>\n",
       "      <td>0</td>\n",
       "      <td>0</td>\n",
       "      <td>2</td>\n",
       "      <td>0</td>\n",
       "      <td>0</td>\n",
       "      <td>0</td>\n",
       "    </tr>\n",
       "    <tr>\n",
       "      <th>3</th>\n",
       "      <td>0.373187</td>\n",
       "      <td>0.069444</td>\n",
       "      <td>2012-05-01</td>\n",
       "      <td>2011-08-08</td>\n",
       "      <td>1</td>\n",
       "      <td>0</td>\n",
       "      <td>2</td>\n",
       "      <td>0</td>\n",
       "      <td>0</td>\n",
       "      <td>0</td>\n",
       "      <td>...</td>\n",
       "      <td>1</td>\n",
       "      <td>2</td>\n",
       "      <td>1</td>\n",
       "      <td>1</td>\n",
       "      <td>0</td>\n",
       "      <td>2</td>\n",
       "      <td>0</td>\n",
       "      <td>2</td>\n",
       "      <td>0</td>\n",
       "      <td>0</td>\n",
       "    </tr>\n",
       "    <tr>\n",
       "      <th>4</th>\n",
       "      <td>0.668334</td>\n",
       "      <td>0.250000</td>\n",
       "      <td>2012-05-01</td>\n",
       "      <td>2010-07-14</td>\n",
       "      <td>1</td>\n",
       "      <td>0</td>\n",
       "      <td>1</td>\n",
       "      <td>0</td>\n",
       "      <td>1</td>\n",
       "      <td>1</td>\n",
       "      <td>...</td>\n",
       "      <td>0</td>\n",
       "      <td>2</td>\n",
       "      <td>0</td>\n",
       "      <td>0</td>\n",
       "      <td>1</td>\n",
       "      <td>0</td>\n",
       "      <td>0</td>\n",
       "      <td>2</td>\n",
       "      <td>0</td>\n",
       "      <td>0</td>\n",
       "    </tr>\n",
       "  </tbody>\n",
       "</table>\n",
       "<p>5 rows × 21 columns</p>\n",
       "</div>"
      ],
      "text/plain": [
       "   BaseCharges       Age        DOC        DOE ElectronicBilling ContractType  \\\n",
       "0     0.711856  0.333333 2012-05-01 2010-01-15                 1            0   \n",
       "1     0.323162  0.055556 2012-05-01 2011-09-07                 0            0   \n",
       "2     0.772386  0.680556 2012-05-01 2007-12-27                 1            0   \n",
       "3     0.373187  0.069444 2012-05-01 2011-08-08                 1            0   \n",
       "4     0.668334  0.250000 2012-05-01 2010-07-14                 1            0   \n",
       "\n",
       "  PaymentMethod Retired HasPartner HasDependents       ...        Gender  \\\n",
       "0             1       0          1             1       ...             1   \n",
       "1             1       0          1             1       ...             0   \n",
       "2             1       0          0             0       ...             0   \n",
       "3             2       0          0             0       ...             1   \n",
       "4             1       0          1             1       ...             0   \n",
       "\n",
       "  DeviceProtection HasPhoneService InternetServiceCategory MultipleLines  \\\n",
       "0                2               1                       0             0   \n",
       "1                0               1                       0             0   \n",
       "2                0               1                       0             0   \n",
       "3                2               1                       1             0   \n",
       "4                2               0                       0             1   \n",
       "\n",
       "  OnlineBackup OnlineSecurity StreamingMovies StreamingTelevision  \\\n",
       "0            0              2               0                   0   \n",
       "1            2              2               0                   0   \n",
       "2            0              2               0                   0   \n",
       "3            2              0               2                   0   \n",
       "4            0              0               2                   0   \n",
       "\n",
       "  TechnicalSupport  \n",
       "0                0  \n",
       "1                0  \n",
       "2                0  \n",
       "3                0  \n",
       "4                0  \n",
       "\n",
       "[5 rows x 21 columns]"
      ]
     },
     "execution_count": 66,
     "metadata": {},
     "output_type": "execute_result"
    }
   ],
   "source": [
    "tfinal.head()"
   ]
  },
  {
   "cell_type": "code",
   "execution_count": 67,
   "metadata": {},
   "outputs": [
    {
     "data": {
      "text/plain": [
       "Index(['BaseCharges', 'Age', 'Churn', 'DOC', 'DOE', 'ElectronicBilling',\n",
       "       'ContractType', 'PaymentMethod', 'Retired', 'HasPartner',\n",
       "       'HasDependents', 'Education', 'Gender', 'DeviceProtection',\n",
       "       'HasPhoneService', 'InternetServiceCategory', 'MultipleLines',\n",
       "       'OnlineBackup', 'OnlineSecurity', 'StreamingMovies',\n",
       "       'StreamingTelevision', 'TechnicalSupport'],\n",
       "      dtype='object')"
      ]
     },
     "execution_count": 67,
     "metadata": {},
     "output_type": "execute_result"
    }
   ],
   "source": [
    "final.columns # Columns "
   ]
  },
  {
   "cell_type": "code",
   "execution_count": 68,
   "metadata": {},
   "outputs": [
    {
     "data": {
      "text/plain": [
       "(5269, 22)"
      ]
     },
     "execution_count": 68,
     "metadata": {},
     "output_type": "execute_result"
    }
   ],
   "source": [
    "final.shape #dimensions"
   ]
  },
  {
   "cell_type": "code",
   "execution_count": 69,
   "metadata": {
    "collapsed": true
   },
   "outputs": [],
   "source": [
    "final.to_csv('tab.csv')"
   ]
  },
  {
   "cell_type": "code",
   "execution_count": 70,
   "metadata": {
    "collapsed": true
   },
   "outputs": [],
   "source": [
    "te_x  = tfinal.drop(['DOC','DOE'],1) # derived new column from DOC and DOE, so we drop them"
   ]
  },
  {
   "cell_type": "code",
   "execution_count": 71,
   "metadata": {
    "scrolled": true
   },
   "outputs": [
    {
     "data": {
      "text/html": [
       "<div>\n",
       "<style>\n",
       "    .dataframe thead tr:only-child th {\n",
       "        text-align: right;\n",
       "    }\n",
       "\n",
       "    .dataframe thead th {\n",
       "        text-align: left;\n",
       "    }\n",
       "\n",
       "    .dataframe tbody tr th {\n",
       "        vertical-align: top;\n",
       "    }\n",
       "</style>\n",
       "<table border=\"1\" class=\"dataframe\">\n",
       "  <thead>\n",
       "    <tr style=\"text-align: right;\">\n",
       "      <th></th>\n",
       "      <th>BaseCharges</th>\n",
       "      <th>Age</th>\n",
       "      <th>ElectronicBilling</th>\n",
       "      <th>ContractType</th>\n",
       "      <th>PaymentMethod</th>\n",
       "      <th>Retired</th>\n",
       "      <th>HasPartner</th>\n",
       "      <th>HasDependents</th>\n",
       "      <th>Education</th>\n",
       "      <th>Gender</th>\n",
       "      <th>DeviceProtection</th>\n",
       "      <th>HasPhoneService</th>\n",
       "      <th>InternetServiceCategory</th>\n",
       "      <th>MultipleLines</th>\n",
       "      <th>OnlineBackup</th>\n",
       "      <th>OnlineSecurity</th>\n",
       "      <th>StreamingMovies</th>\n",
       "      <th>StreamingTelevision</th>\n",
       "      <th>TechnicalSupport</th>\n",
       "    </tr>\n",
       "  </thead>\n",
       "  <tbody>\n",
       "    <tr>\n",
       "      <th>0</th>\n",
       "      <td>0.711856</td>\n",
       "      <td>0.333333</td>\n",
       "      <td>1</td>\n",
       "      <td>0</td>\n",
       "      <td>1</td>\n",
       "      <td>0</td>\n",
       "      <td>1</td>\n",
       "      <td>1</td>\n",
       "      <td>1</td>\n",
       "      <td>1</td>\n",
       "      <td>2</td>\n",
       "      <td>1</td>\n",
       "      <td>0</td>\n",
       "      <td>0</td>\n",
       "      <td>0</td>\n",
       "      <td>2</td>\n",
       "      <td>0</td>\n",
       "      <td>0</td>\n",
       "      <td>0</td>\n",
       "    </tr>\n",
       "    <tr>\n",
       "      <th>1</th>\n",
       "      <td>0.323162</td>\n",
       "      <td>0.055556</td>\n",
       "      <td>0</td>\n",
       "      <td>0</td>\n",
       "      <td>1</td>\n",
       "      <td>0</td>\n",
       "      <td>1</td>\n",
       "      <td>1</td>\n",
       "      <td>4</td>\n",
       "      <td>0</td>\n",
       "      <td>0</td>\n",
       "      <td>1</td>\n",
       "      <td>0</td>\n",
       "      <td>0</td>\n",
       "      <td>2</td>\n",
       "      <td>2</td>\n",
       "      <td>0</td>\n",
       "      <td>0</td>\n",
       "      <td>0</td>\n",
       "    </tr>\n",
       "    <tr>\n",
       "      <th>2</th>\n",
       "      <td>0.772386</td>\n",
       "      <td>0.680556</td>\n",
       "      <td>1</td>\n",
       "      <td>0</td>\n",
       "      <td>1</td>\n",
       "      <td>0</td>\n",
       "      <td>0</td>\n",
       "      <td>0</td>\n",
       "      <td>4</td>\n",
       "      <td>0</td>\n",
       "      <td>0</td>\n",
       "      <td>1</td>\n",
       "      <td>0</td>\n",
       "      <td>0</td>\n",
       "      <td>0</td>\n",
       "      <td>2</td>\n",
       "      <td>0</td>\n",
       "      <td>0</td>\n",
       "      <td>0</td>\n",
       "    </tr>\n",
       "    <tr>\n",
       "      <th>3</th>\n",
       "      <td>0.373187</td>\n",
       "      <td>0.069444</td>\n",
       "      <td>1</td>\n",
       "      <td>0</td>\n",
       "      <td>2</td>\n",
       "      <td>0</td>\n",
       "      <td>0</td>\n",
       "      <td>0</td>\n",
       "      <td>4</td>\n",
       "      <td>1</td>\n",
       "      <td>2</td>\n",
       "      <td>1</td>\n",
       "      <td>1</td>\n",
       "      <td>0</td>\n",
       "      <td>2</td>\n",
       "      <td>0</td>\n",
       "      <td>2</td>\n",
       "      <td>0</td>\n",
       "      <td>0</td>\n",
       "    </tr>\n",
       "    <tr>\n",
       "      <th>4</th>\n",
       "      <td>0.668334</td>\n",
       "      <td>0.250000</td>\n",
       "      <td>1</td>\n",
       "      <td>0</td>\n",
       "      <td>1</td>\n",
       "      <td>0</td>\n",
       "      <td>1</td>\n",
       "      <td>1</td>\n",
       "      <td>1</td>\n",
       "      <td>0</td>\n",
       "      <td>2</td>\n",
       "      <td>0</td>\n",
       "      <td>0</td>\n",
       "      <td>1</td>\n",
       "      <td>0</td>\n",
       "      <td>0</td>\n",
       "      <td>2</td>\n",
       "      <td>0</td>\n",
       "      <td>0</td>\n",
       "    </tr>\n",
       "  </tbody>\n",
       "</table>\n",
       "</div>"
      ],
      "text/plain": [
       "   BaseCharges       Age ElectronicBilling ContractType PaymentMethod Retired  \\\n",
       "0     0.711856  0.333333                 1            0             1       0   \n",
       "1     0.323162  0.055556                 0            0             1       0   \n",
       "2     0.772386  0.680556                 1            0             1       0   \n",
       "3     0.373187  0.069444                 1            0             2       0   \n",
       "4     0.668334  0.250000                 1            0             1       0   \n",
       "\n",
       "  HasPartner HasDependents Education Gender DeviceProtection HasPhoneService  \\\n",
       "0          1             1         1      1                2               1   \n",
       "1          1             1         4      0                0               1   \n",
       "2          0             0         4      0                0               1   \n",
       "3          0             0         4      1                2               1   \n",
       "4          1             1         1      0                2               0   \n",
       "\n",
       "  InternetServiceCategory MultipleLines OnlineBackup OnlineSecurity  \\\n",
       "0                       0             0            0              2   \n",
       "1                       0             0            2              2   \n",
       "2                       0             0            0              2   \n",
       "3                       1             0            2              0   \n",
       "4                       0             1            0              0   \n",
       "\n",
       "  StreamingMovies StreamingTelevision TechnicalSupport  \n",
       "0               0                   0                0  \n",
       "1               0                   0                0  \n",
       "2               0                   0                0  \n",
       "3               2                   0                0  \n",
       "4               2                   0                0  "
      ]
     },
     "execution_count": 71,
     "metadata": {},
     "output_type": "execute_result"
    }
   ],
   "source": [
    "te_x.head()"
   ]
  },
  {
   "cell_type": "code",
   "execution_count": 72,
   "metadata": {
    "collapsed": true
   },
   "outputs": [],
   "source": [
    "y = final.Churn # Target\n",
    "x = final.drop(['Churn','DOC','DOE'],1) "
   ]
  },
  {
   "cell_type": "code",
   "execution_count": 73,
   "metadata": {
    "scrolled": true
   },
   "outputs": [
    {
     "data": {
      "text/html": [
       "<div>\n",
       "<style>\n",
       "    .dataframe thead tr:only-child th {\n",
       "        text-align: right;\n",
       "    }\n",
       "\n",
       "    .dataframe thead th {\n",
       "        text-align: left;\n",
       "    }\n",
       "\n",
       "    .dataframe tbody tr th {\n",
       "        vertical-align: top;\n",
       "    }\n",
       "</style>\n",
       "<table border=\"1\" class=\"dataframe\">\n",
       "  <thead>\n",
       "    <tr style=\"text-align: right;\">\n",
       "      <th></th>\n",
       "      <th>BaseCharges</th>\n",
       "      <th>Age</th>\n",
       "      <th>ElectronicBilling</th>\n",
       "      <th>ContractType</th>\n",
       "      <th>PaymentMethod</th>\n",
       "      <th>Retired</th>\n",
       "      <th>HasPartner</th>\n",
       "      <th>HasDependents</th>\n",
       "      <th>Education</th>\n",
       "      <th>Gender</th>\n",
       "      <th>DeviceProtection</th>\n",
       "      <th>HasPhoneService</th>\n",
       "      <th>InternetServiceCategory</th>\n",
       "      <th>MultipleLines</th>\n",
       "      <th>OnlineBackup</th>\n",
       "      <th>OnlineSecurity</th>\n",
       "      <th>StreamingMovies</th>\n",
       "      <th>StreamingTelevision</th>\n",
       "      <th>TechnicalSupport</th>\n",
       "    </tr>\n",
       "  </thead>\n",
       "  <tbody>\n",
       "    <tr>\n",
       "      <th>0</th>\n",
       "      <td>0.770916</td>\n",
       "      <td>0.154930</td>\n",
       "      <td>0</td>\n",
       "      <td>1</td>\n",
       "      <td>2</td>\n",
       "      <td>0</td>\n",
       "      <td>1</td>\n",
       "      <td>1</td>\n",
       "      <td>2</td>\n",
       "      <td>1</td>\n",
       "      <td>2</td>\n",
       "      <td>1</td>\n",
       "      <td>1</td>\n",
       "      <td>0</td>\n",
       "      <td>0</td>\n",
       "      <td>0</td>\n",
       "      <td>2</td>\n",
       "      <td>2</td>\n",
       "      <td>0</td>\n",
       "    </tr>\n",
       "    <tr>\n",
       "      <th>1</th>\n",
       "      <td>0.023904</td>\n",
       "      <td>0.000000</td>\n",
       "      <td>0</td>\n",
       "      <td>0</td>\n",
       "      <td>2</td>\n",
       "      <td>0</td>\n",
       "      <td>1</td>\n",
       "      <td>1</td>\n",
       "      <td>4</td>\n",
       "      <td>1</td>\n",
       "      <td>1</td>\n",
       "      <td>1</td>\n",
       "      <td>2</td>\n",
       "      <td>0</td>\n",
       "      <td>1</td>\n",
       "      <td>1</td>\n",
       "      <td>1</td>\n",
       "      <td>1</td>\n",
       "      <td>1</td>\n",
       "    </tr>\n",
       "    <tr>\n",
       "      <th>2</th>\n",
       "      <td>0.613546</td>\n",
       "      <td>0.154930</td>\n",
       "      <td>1</td>\n",
       "      <td>0</td>\n",
       "      <td>0</td>\n",
       "      <td>0</td>\n",
       "      <td>1</td>\n",
       "      <td>1</td>\n",
       "      <td>4</td>\n",
       "      <td>1</td>\n",
       "      <td>0</td>\n",
       "      <td>1</td>\n",
       "      <td>1</td>\n",
       "      <td>0</td>\n",
       "      <td>0</td>\n",
       "      <td>0</td>\n",
       "      <td>2</td>\n",
       "      <td>0</td>\n",
       "      <td>0</td>\n",
       "    </tr>\n",
       "    <tr>\n",
       "      <th>3</th>\n",
       "      <td>0.464143</td>\n",
       "      <td>0.971831</td>\n",
       "      <td>0</td>\n",
       "      <td>1</td>\n",
       "      <td>0</td>\n",
       "      <td>0</td>\n",
       "      <td>1</td>\n",
       "      <td>0</td>\n",
       "      <td>4</td>\n",
       "      <td>1</td>\n",
       "      <td>0</td>\n",
       "      <td>1</td>\n",
       "      <td>0</td>\n",
       "      <td>2</td>\n",
       "      <td>2</td>\n",
       "      <td>2</td>\n",
       "      <td>0</td>\n",
       "      <td>0</td>\n",
       "      <td>2</td>\n",
       "    </tr>\n",
       "    <tr>\n",
       "      <th>4</th>\n",
       "      <td>0.559761</td>\n",
       "      <td>0.000000</td>\n",
       "      <td>1</td>\n",
       "      <td>0</td>\n",
       "      <td>2</td>\n",
       "      <td>0</td>\n",
       "      <td>1</td>\n",
       "      <td>1</td>\n",
       "      <td>4</td>\n",
       "      <td>0</td>\n",
       "      <td>0</td>\n",
       "      <td>1</td>\n",
       "      <td>1</td>\n",
       "      <td>2</td>\n",
       "      <td>0</td>\n",
       "      <td>0</td>\n",
       "      <td>0</td>\n",
       "      <td>0</td>\n",
       "      <td>0</td>\n",
       "    </tr>\n",
       "  </tbody>\n",
       "</table>\n",
       "</div>"
      ],
      "text/plain": [
       "   BaseCharges       Age ElectronicBilling ContractType PaymentMethod Retired  \\\n",
       "0     0.770916  0.154930                 0            1             2       0   \n",
       "1     0.023904  0.000000                 0            0             2       0   \n",
       "2     0.613546  0.154930                 1            0             0       0   \n",
       "3     0.464143  0.971831                 0            1             0       0   \n",
       "4     0.559761  0.000000                 1            0             2       0   \n",
       "\n",
       "  HasPartner HasDependents Education Gender DeviceProtection HasPhoneService  \\\n",
       "0          1             1         2      1                2               1   \n",
       "1          1             1         4      1                1               1   \n",
       "2          1             1         4      1                0               1   \n",
       "3          1             0         4      1                0               1   \n",
       "4          1             1         4      0                0               1   \n",
       "\n",
       "  InternetServiceCategory MultipleLines OnlineBackup OnlineSecurity  \\\n",
       "0                       1             0            0              0   \n",
       "1                       2             0            1              1   \n",
       "2                       1             0            0              0   \n",
       "3                       0             2            2              2   \n",
       "4                       1             2            0              0   \n",
       "\n",
       "  StreamingMovies StreamingTelevision TechnicalSupport  \n",
       "0               2                   2                0  \n",
       "1               1                   1                1  \n",
       "2               2                   0                0  \n",
       "3               0                   0                2  \n",
       "4               0                   0                0  "
      ]
     },
     "execution_count": 73,
     "metadata": {},
     "output_type": "execute_result"
    }
   ],
   "source": [
    "x.head()"
   ]
  },
  {
   "cell_type": "code",
   "execution_count": 74,
   "metadata": {},
   "outputs": [
    {
     "name": "stdout",
     "output_type": "stream",
     "text": [
      "0 : 74.9478079332\n",
      "1 : 25.0521920668\n"
     ]
    }
   ],
   "source": [
    "# Percentage of target variable \n",
    "print('0 :',(y.value_counts()[0]/y.value_counts().sum())*100)\n",
    "print('1 :',(y.value_counts()[1]/y.value_counts().sum())*100)\n"
   ]
  },
  {
   "cell_type": "markdown",
   "metadata": {},
   "source": [
    "### Train Test Split"
   ]
  },
  {
   "cell_type": "code",
   "execution_count": 75,
   "metadata": {
    "collapsed": true
   },
   "outputs": [],
   "source": [
    "from sklearn.model_selection import train_test_split"
   ]
  },
  {
   "cell_type": "code",
   "execution_count": 76,
   "metadata": {
    "collapsed": true
   },
   "outputs": [],
   "source": [
    "xtrain,xtest,ytrain,ytest = train_test_split(x,y,test_size = 0.2,stratify = y)"
   ]
  },
  {
   "cell_type": "markdown",
   "metadata": {},
   "source": [
    "### Model Building:"
   ]
  },
  {
   "cell_type": "markdown",
   "metadata": {},
   "source": [
    "**Decision tree :**\n",
    "\n",
    "Decision Tree is a type of supervised learning algorithm (having a pre-defined target variable) that is mostly used in classification problems. It works for both categorical and continuous input and output variables. In this technique, we split the population or sample into two or more homogeneous sets using greedy approach."
   ]
  },
  {
   "cell_type": "code",
   "execution_count": 77,
   "metadata": {
    "collapsed": true
   },
   "outputs": [],
   "source": [
    "from sklearn.tree import DecisionTreeClassifier\n",
    "from sklearn import metrics"
   ]
  },
  {
   "cell_type": "code",
   "execution_count": 78,
   "metadata": {
    "collapsed": true
   },
   "outputs": [],
   "source": [
    "# gini index - CART(Classification and Refression Tree)\n",
    "tree = DecisionTreeClassifier(class_weight='balanced') "
   ]
  },
  {
   "cell_type": "code",
   "execution_count": 79,
   "metadata": {},
   "outputs": [
    {
     "data": {
      "text/plain": [
       "DecisionTreeClassifier(class_weight='balanced', criterion='gini',\n",
       "            max_depth=None, max_features=None, max_leaf_nodes=None,\n",
       "            min_impurity_decrease=0.0, min_impurity_split=None,\n",
       "            min_samples_leaf=1, min_samples_split=2,\n",
       "            min_weight_fraction_leaf=0.0, presort=False, random_state=None,\n",
       "            splitter='best')"
      ]
     },
     "execution_count": 79,
     "metadata": {},
     "output_type": "execute_result"
    }
   ],
   "source": [
    "tree.fit(xtrain,ytrain) # Train the model"
   ]
  },
  {
   "cell_type": "code",
   "execution_count": 80,
   "metadata": {},
   "outputs": [
    {
     "data": {
      "text/plain": [
       "0.99762752075919336"
      ]
     },
     "execution_count": 80,
     "metadata": {},
     "output_type": "execute_result"
    }
   ],
   "source": [
    "tree.score(xtrain,ytrain) #Accuracy"
   ]
  },
  {
   "cell_type": "code",
   "execution_count": 81,
   "metadata": {},
   "outputs": [
    {
     "name": "stdout",
     "output_type": "stream",
     "text": [
      "\n",
      " Classification Report:\n",
      "\n",
      "              precision    recall  f1-score   support\n",
      "\n",
      "          0       0.83      0.83      0.83       790\n",
      "          1       0.48      0.48      0.48       264\n",
      "\n",
      "avg / total       0.74      0.74      0.74      1054\n",
      "\n",
      "Accuracy 0.740037950664\n"
     ]
    }
   ],
   "source": [
    "print('\\n Classification Report:\\n\\n',metrics.classification_report(ytest,tree.predict(xtest))) \n",
    "print('Accuracy',metrics.accuracy_score(ytest,tree.predict(xtest))) "
   ]
  },
  {
   "cell_type": "code",
   "execution_count": 82,
   "metadata": {
    "collapsed": true
   },
   "outputs": [],
   "source": [
    "# Entropy - C5.0\n",
    "entropy = DecisionTreeClassifier(criterion='entropy',class_weight='balanced') # entropy"
   ]
  },
  {
   "cell_type": "code",
   "execution_count": 83,
   "metadata": {},
   "outputs": [
    {
     "data": {
      "text/plain": [
       "DecisionTreeClassifier(class_weight='balanced', criterion='entropy',\n",
       "            max_depth=None, max_features=None, max_leaf_nodes=None,\n",
       "            min_impurity_decrease=0.0, min_impurity_split=None,\n",
       "            min_samples_leaf=1, min_samples_split=2,\n",
       "            min_weight_fraction_leaf=0.0, presort=False, random_state=None,\n",
       "            splitter='best')"
      ]
     },
     "execution_count": 83,
     "metadata": {},
     "output_type": "execute_result"
    }
   ],
   "source": [
    "entropy.fit(xtrain,ytrain) #Train the model"
   ]
  },
  {
   "cell_type": "code",
   "execution_count": 84,
   "metadata": {},
   "outputs": [
    {
     "data": {
      "text/plain": [
       "0.74383301707779881"
      ]
     },
     "execution_count": 84,
     "metadata": {},
     "output_type": "execute_result"
    }
   ],
   "source": [
    "entropy.score(xtest,ytest) # accuracy"
   ]
  },
  {
   "cell_type": "code",
   "execution_count": 85,
   "metadata": {},
   "outputs": [
    {
     "name": "stdout",
     "output_type": "stream",
     "text": [
      "\n",
      " Classification Report:\n",
      "\n",
      "              precision    recall  f1-score   support\n",
      "\n",
      "          0       0.83      0.83      0.83       790\n",
      "          1       0.49      0.50      0.49       264\n",
      "\n",
      "avg / total       0.75      0.74      0.74      1054\n",
      "\n",
      "Accuracy : 0.743833017078\n"
     ]
    }
   ],
   "source": [
    "print('\\n Classification Report:\\n\\n',metrics.classification_report(ytest,entropy.predict(xtest))) \n",
    "print('Accuracy :',metrics.accuracy_score(ytest,entropy.predict(xtest))) "
   ]
  },
  {
   "cell_type": "markdown",
   "metadata": {},
   "source": [
    "**Random Forest:**  \n",
    "\n",
    "Random Forests are an ensemble learning method for classification, regression and other tasks, that operate by constructing a multiple decision trees at training time and outputting the class that is the mode of the classes for classification and mean prediction for regression."
   ]
  },
  {
   "cell_type": "code",
   "execution_count": 86,
   "metadata": {
    "collapsed": true
   },
   "outputs": [],
   "source": [
    "from sklearn.ensemble import RandomForestClassifier"
   ]
  },
  {
   "cell_type": "code",
   "execution_count": 87,
   "metadata": {
    "collapsed": true
   },
   "outputs": [],
   "source": [
    "r = RandomForestClassifier(n_estimators=100,n_jobs=-1,oob_score=True,\n",
    "                           class_weight='balanced',max_depth=14,random_state = 20,max_leaf_nodes = 29,min_samples_leaf = 6)"
   ]
  },
  {
   "cell_type": "code",
   "execution_count": 88,
   "metadata": {
    "collapsed": true,
    "scrolled": true
   },
   "outputs": [],
   "source": [
    "rf_exp = r.fit(xtrain,ytrain)"
   ]
  },
  {
   "cell_type": "code",
   "execution_count": 89,
   "metadata": {},
   "outputs": [
    {
     "data": {
      "text/plain": [
       "0.77603795966785294"
      ]
     },
     "execution_count": 89,
     "metadata": {},
     "output_type": "execute_result"
    }
   ],
   "source": [
    "r.score(xtrain,ytrain)"
   ]
  },
  {
   "cell_type": "code",
   "execution_count": 90,
   "metadata": {},
   "outputs": [
    {
     "name": "stdout",
     "output_type": "stream",
     "text": [
      "\n",
      " Classifaction Report : \n",
      "\n",
      "              precision    recall  f1-score   support\n",
      "\n",
      "          0       0.91      0.76      0.83       790\n",
      "          1       0.52      0.77      0.62       264\n",
      "\n",
      "avg / total       0.81      0.76      0.78      1054\n",
      "\n",
      "Accuracy : 0.76375711575\n"
     ]
    }
   ],
   "source": [
    "print('\\n Classifaction Report : \\n\\n',metrics.classification_report(ytest,r.predict(xtest)))\n",
    "print('Accuracy :',metrics.accuracy_score(ytest,r.predict(xtest)))\n"
   ]
  },
  {
   "cell_type": "code",
   "execution_count": 91,
   "metadata": {},
   "outputs": [
    {
     "name": "stderr",
     "output_type": "stream",
     "text": [
      "C:\\Users\\Lenovo\\Anaconda3\\lib\\site-packages\\sklearn\\cross_validation.py:41: DeprecationWarning: This module was deprecated in version 0.18 in favor of the model_selection module into which all the refactored classes and functions are moved. Also note that the interface of the new CV iterators are different from that of this module. This module will be removed in 0.20.\n",
      "  \"This module will be removed in 0.20.\", DeprecationWarning)\n",
      "C:\\Users\\Lenovo\\Anaconda3\\lib\\site-packages\\sklearn\\grid_search.py:42: DeprecationWarning: This module was deprecated in version 0.18 in favor of the model_selection module into which all the refactored classes and functions are moved. This module will be removed in 0.20.\n",
      "  DeprecationWarning)\n"
     ]
    }
   ],
   "source": [
    "# Tuning\n",
    "from sklearn.grid_search import RandomizedSearchCV\n"
   ]
  },
  {
   "cell_type": "code",
   "execution_count": 92,
   "metadata": {
    "collapsed": true
   },
   "outputs": [],
   "source": [
    "param_grid = dict(max_depth=list(range(1, 20)),min_samples_leaf = list(range(1,12)),\n",
    "            max_leaf_nodes=list(range(2,30)))"
   ]
  },
  {
   "cell_type": "code",
   "execution_count": 93,
   "metadata": {
    "collapsed": true
   },
   "outputs": [],
   "source": [
    "grid = RandomizedSearchCV(r, param_grid, cv=10, scoring='accuracy',n_jobs= -1,n_iter=20)"
   ]
  },
  {
   "cell_type": "code",
   "execution_count": 94,
   "metadata": {},
   "outputs": [
    {
     "data": {
      "text/plain": [
       "RandomizedSearchCV(cv=10, error_score='raise',\n",
       "          estimator=RandomForestClassifier(bootstrap=True, class_weight='balanced',\n",
       "            criterion='gini', max_depth=14, max_features='auto',\n",
       "            max_leaf_nodes=29, min_impurity_decrease=0.0,\n",
       "            min_impurity_split=None, min_samples_leaf=6,\n",
       "            min_samples_split=2, min_weight_fraction_leaf=0.0,\n",
       "            n_estimators=100, n_jobs=-1, oob_score=True, random_state=20,\n",
       "            verbose=0, warm_start=False),\n",
       "          fit_params={}, iid=True, n_iter=20, n_jobs=-1,\n",
       "          param_distributions={'max_depth': [1, 2, 3, 4, 5, 6, 7, 8, 9, 10, 11, 12, 13, 14, 15, 16, 17, 18, 19], 'min_samples_leaf': [1, 2, 3, 4, 5, 6, 7, 8, 9, 10, 11], 'max_leaf_nodes': [2, 3, 4, 5, 6, 7, 8, 9, 10, 11, 12, 13, 14, 15, 16, 17, 18, 19, 20, 21, 22, 23, 24, 25, 26, 27, 28, 29]},\n",
       "          pre_dispatch='2*n_jobs', random_state=None, refit=True,\n",
       "          scoring='accuracy', verbose=0)"
      ]
     },
     "execution_count": 94,
     "metadata": {},
     "output_type": "execute_result"
    }
   ],
   "source": [
    "grid.fit(xtrain,ytrain)"
   ]
  },
  {
   "cell_type": "code",
   "execution_count": 95,
   "metadata": {},
   "outputs": [
    {
     "data": {
      "text/plain": [
       "{'max_depth': 7, 'max_leaf_nodes': 28, 'min_samples_leaf': 2}"
      ]
     },
     "execution_count": 95,
     "metadata": {},
     "output_type": "execute_result"
    }
   ],
   "source": [
    "grid.best_params_"
   ]
  },
  {
   "cell_type": "markdown",
   "metadata": {},
   "source": [
    "** Random Forest : Feature Importance **"
   ]
  },
  {
   "cell_type": "code",
   "execution_count": 96,
   "metadata": {},
   "outputs": [
    {
     "data": {
      "text/plain": [
       "[(0.0015039076289942394, 'Gender'),\n",
       " (0.0016690595158167837, 'HasPhoneService'),\n",
       " (0.0036746929419303924, 'Retired'),\n",
       " (0.0063300894118426074, 'HasDependents'),\n",
       " (0.0065102185394287958, 'MultipleLines'),\n",
       " (0.0072466312526113597, 'HasPartner'),\n",
       " (0.0078452350111714482, 'StreamingTelevision'),\n",
       " (0.01143180025668198, 'StreamingMovies'),\n",
       " (0.017840458091029746, 'ElectronicBilling'),\n",
       " (0.025893683523134644, 'PaymentMethod'),\n",
       " (0.026359139914632113, 'DeviceProtection'),\n",
       " (0.043100428875177101, 'Education'),\n",
       " (0.044482167684582546, 'OnlineBackup'),\n",
       " (0.049747803859774037, 'InternetServiceCategory'),\n",
       " (0.08722100176087999, 'BaseCharges'),\n",
       " (0.10137300914034698, 'TechnicalSupport'),\n",
       " (0.10743407407480583, 'OnlineSecurity'),\n",
       " (0.16509214026661723, 'Age'),\n",
       " (0.28524445825054212, 'ContractType')]"
      ]
     },
     "execution_count": 96,
     "metadata": {},
     "output_type": "execute_result"
    }
   ],
   "source": [
    "sorted(list(zip(r.feature_importances_,xtrain.columns)))"
   ]
  },
  {
   "cell_type": "code",
   "execution_count": 97,
   "metadata": {
    "collapsed": true
   },
   "outputs": [],
   "source": [
    "### Drop the columns which are not important \n",
    "rxtrain = xtrain.drop(['Retired', 'HasPartner','Gender',\n",
    "       'HasPhoneService','DeviceProtection','MultipleLines',\n",
    "       'HasDependents','StreamingTelevision'],1)\n",
    "rxtest = xtest.drop(['Retired', 'HasPartner','Gender',\n",
    "       'HasPhoneService','DeviceProtection','MultipleLines',\n",
    "       'HasDependents','StreamingTelevision'],1)"
   ]
  },
  {
   "cell_type": "code",
   "execution_count": 98,
   "metadata": {},
   "outputs": [
    {
     "data": {
      "text/plain": [
       "Index(['BaseCharges', 'Age', 'ElectronicBilling', 'ContractType',\n",
       "       'PaymentMethod', 'Education', 'InternetServiceCategory', 'OnlineBackup',\n",
       "       'OnlineSecurity', 'StreamingMovies', 'TechnicalSupport'],\n",
       "      dtype='object')"
      ]
     },
     "execution_count": 98,
     "metadata": {},
     "output_type": "execute_result"
    }
   ],
   "source": [
    "rxtrain.columns"
   ]
  },
  {
   "cell_type": "code",
   "execution_count": 99,
   "metadata": {
    "collapsed": true
   },
   "outputs": [],
   "source": [
    "rte_x = te_x.drop(['Retired', 'HasPartner','Gender',\n",
    "       'HasPhoneService','DeviceProtection','MultipleLines',\n",
    "       'HasDependents','StreamingTelevision'],1)# Test"
   ]
  },
  {
   "cell_type": "code",
   "execution_count": 100,
   "metadata": {},
   "outputs": [
    {
     "data": {
      "text/plain": [
       "Index(['BaseCharges', 'Age', 'ElectronicBilling', 'ContractType',\n",
       "       'PaymentMethod', 'Education', 'InternetServiceCategory', 'OnlineBackup',\n",
       "       'OnlineSecurity', 'StreamingMovies', 'TechnicalSupport'],\n",
       "      dtype='object')"
      ]
     },
     "execution_count": 100,
     "metadata": {},
     "output_type": "execute_result"
    }
   ],
   "source": [
    "rte_x.columns"
   ]
  },
  {
   "cell_type": "markdown",
   "metadata": {},
   "source": [
    "** Xg Boost: **"
   ]
  },
  {
   "cell_type": "code",
   "execution_count": 101,
   "metadata": {
    "collapsed": true
   },
   "outputs": [],
   "source": [
    "from xgboost import XGBClassifier"
   ]
  },
  {
   "cell_type": "code",
   "execution_count": 102,
   "metadata": {
    "collapsed": true
   },
   "outputs": [],
   "source": [
    "xg = XGBClassifier(n_jobs= -1,n_estimators= 500,booster='gblinear',max_delta_step= 2)"
   ]
  },
  {
   "cell_type": "code",
   "execution_count": 103,
   "metadata": {},
   "outputs": [
    {
     "data": {
      "text/plain": [
       "XGBClassifier(base_score=0.5, booster='gblinear', colsample_bylevel=1,\n",
       "       colsample_bytree=1, gamma=0, learning_rate=0.1, max_delta_step=2,\n",
       "       max_depth=3, min_child_weight=1, missing=None, n_estimators=500,\n",
       "       n_jobs=-1, nthread=None, objective='binary:logistic',\n",
       "       random_state=0, reg_alpha=0, reg_lambda=1, scale_pos_weight=1,\n",
       "       seed=None, silent=True, subsample=1)"
      ]
     },
     "execution_count": 103,
     "metadata": {},
     "output_type": "execute_result"
    }
   ],
   "source": [
    "xg.fit(np.matrix(xtrain),ytrain)"
   ]
  },
  {
   "cell_type": "code",
   "execution_count": 104,
   "metadata": {},
   "outputs": [
    {
     "data": {
      "text/plain": [
       "0.81162514827995258"
      ]
     },
     "execution_count": 104,
     "metadata": {},
     "output_type": "execute_result"
    }
   ],
   "source": [
    "xg.score(np.matrix(xtrain),ytrain) # Predictions"
   ]
  },
  {
   "cell_type": "code",
   "execution_count": 105,
   "metadata": {},
   "outputs": [
    {
     "name": "stdout",
     "output_type": "stream",
     "text": [
      "\n",
      " Classifaction Report : \n",
      "\n",
      "              precision    recall  f1-score   support\n",
      "\n",
      "          0       0.85      0.91      0.88       790\n",
      "          1       0.66      0.51      0.58       264\n",
      "\n",
      "avg / total       0.80      0.81      0.80      1054\n",
      "\n",
      "Accuracy : 0.812144212524\n"
     ]
    }
   ],
   "source": [
    "print('\\n Classifaction Report : \\n\\n',metrics.classification_report(ytest,xg.predict(np.matrix(xtest)))) # Predictions\n",
    "print('Accuracy :',metrics.accuracy_score(ytest,xg.predict(np.matrix(xtest))))"
   ]
  },
  {
   "cell_type": "markdown",
   "metadata": {},
   "source": [
    "** SVM (Support Vector Machine ):**"
   ]
  },
  {
   "cell_type": "code",
   "execution_count": 106,
   "metadata": {
    "collapsed": true
   },
   "outputs": [],
   "source": [
    "from sklearn.svm import LinearSVC\n",
    "s = LinearSVC(class_weight='balanced',C = 10)"
   ]
  },
  {
   "cell_type": "code",
   "execution_count": 107,
   "metadata": {},
   "outputs": [
    {
     "data": {
      "text/plain": [
       "LinearSVC(C=10, class_weight='balanced', dual=True, fit_intercept=True,\n",
       "     intercept_scaling=1, loss='squared_hinge', max_iter=1000,\n",
       "     multi_class='ovr', penalty='l2', random_state=None, tol=0.0001,\n",
       "     verbose=0)"
      ]
     },
     "execution_count": 107,
     "metadata": {},
     "output_type": "execute_result"
    }
   ],
   "source": [
    "s.fit(xtrain,ytrain)"
   ]
  },
  {
   "cell_type": "code",
   "execution_count": 108,
   "metadata": {
    "scrolled": true
   },
   "outputs": [
    {
     "name": "stdout",
     "output_type": "stream",
     "text": [
      "\n",
      " Classifaction Report : \n",
      "\n",
      "              precision    recall  f1-score   support\n",
      "\n",
      "          0       0.89      0.82      0.85       790\n",
      "          1       0.56      0.70      0.63       264\n",
      "\n",
      "avg / total       0.81      0.79      0.80      1054\n",
      "\n",
      "Accuracy : 0.789373814042\n"
     ]
    }
   ],
   "source": [
    "print('\\n Classifaction Report : \\n\\n',metrics.classification_report(ytest,s.predict(xtest))) # Predictions\n",
    "print('Accuracy :',metrics.accuracy_score(ytest,s.predict(xtest)))"
   ]
  },
  {
   "cell_type": "markdown",
   "metadata": {},
   "source": [
    "**Logistic Regression : **"
   ]
  },
  {
   "cell_type": "code",
   "execution_count": 109,
   "metadata": {
    "collapsed": true
   },
   "outputs": [],
   "source": [
    "from sklearn.linear_model import LogisticRegressionCV\n",
    "logreg = LogisticRegressionCV(class_weight='balanced',random_state=20,cv = 10,scoring='accuracy',Cs=100)"
   ]
  },
  {
   "cell_type": "code",
   "execution_count": 110,
   "metadata": {},
   "outputs": [
    {
     "data": {
      "text/plain": [
       "LogisticRegressionCV(Cs=100, class_weight='balanced', cv=10, dual=False,\n",
       "           fit_intercept=True, intercept_scaling=1.0, max_iter=100,\n",
       "           multi_class='ovr', n_jobs=1, penalty='l2', random_state=20,\n",
       "           refit=True, scoring='accuracy', solver='lbfgs', tol=0.0001,\n",
       "           verbose=0)"
      ]
     },
     "execution_count": 110,
     "metadata": {},
     "output_type": "execute_result"
    }
   ],
   "source": [
    "logreg.fit(xtrain,ytrain)"
   ]
  },
  {
   "cell_type": "code",
   "execution_count": 111,
   "metadata": {},
   "outputs": [
    {
     "data": {
      "text/plain": [
       "<matplotlib.axes._subplots.AxesSubplot at 0x1ba591feb00>"
      ]
     },
     "execution_count": 111,
     "metadata": {},
     "output_type": "execute_result"
    },
    {
     "data": {
      "image/png": "[encoded data removed]",
      "text/plain": [
       "<matplotlib.figure.Figure at 0x1ba59909d30>"
      ]
     },
     "metadata": {},
     "output_type": "display_data"
    }
   ],
   "source": [
    "import scikitplot as skplt\n",
    "skplt.metrics.plot_roc_curve(ytrain,logreg.predict_proba(xtrain))"
   ]
  },
  {
   "cell_type": "code",
   "execution_count": 112,
   "metadata": {
    "scrolled": true
   },
   "outputs": [
    {
     "name": "stdout",
     "output_type": "stream",
     "text": [
      "\n",
      " Classifaction Report : \n",
      "\n",
      "              precision    recall  f1-score   support\n",
      "\n",
      "          0       0.90      0.75      0.82       790\n",
      "          1       0.51      0.76      0.61       264\n",
      "\n",
      "avg / total       0.80      0.75      0.77      1054\n",
      "\n",
      "Accuracy : 0.753320683112\n"
     ]
    }
   ],
   "source": [
    "print('\\n Classifaction Report : \\n\\n',metrics.classification_report(ytest,logreg.predict(xtest)))\n",
    "print('Accuracy :',metrics.accuracy_score(ytest,logreg.predict(xtest)))"
   ]
  },
  {
   "cell_type": "markdown",
   "metadata": {
    "collapsed": true
   },
   "source": [
    "#### Stacking"
   ]
  },
  {
   "cell_type": "code",
   "execution_count": 113,
   "metadata": {
    "collapsed": true,
    "scrolled": true
   },
   "outputs": [],
   "source": [
    "# Train Predictions\n",
    "sx = s.predict(np.matrix(xtrain))\n",
    "sl = logreg.predict(xtrain)\n",
    "sr = r.predict(xtrain)"
   ]
  },
  {
   "cell_type": "code",
   "execution_count": 114,
   "metadata": {
    "collapsed": true
   },
   "outputs": [],
   "source": [
    "# val Predictions\n",
    "stx = s.predict(np.matrix(xtest))\n",
    "strr = r.predict(xtest)\n",
    "stl = logreg.predict(xtest)"
   ]
  },
  {
   "cell_type": "code",
   "execution_count": 115,
   "metadata": {
    "collapsed": true
   },
   "outputs": [],
   "source": [
    "# test Predictions\n",
    "stxt = s.predict(np.matrix(te_x))\n",
    "strrt = r.predict(te_x)\n",
    "stlt = logreg.predict(te_x)"
   ]
  },
  {
   "cell_type": "code",
   "execution_count": 116,
   "metadata": {
    "collapsed": true
   },
   "outputs": [],
   "source": [
    "# Train\n",
    "stack_train = pd.concat([pd.DataFrame(sx),pd.DataFrame(sr),pd.DataFrame(sl)],1)"
   ]
  },
  {
   "cell_type": "code",
   "execution_count": 117,
   "metadata": {
    "collapsed": true
   },
   "outputs": [],
   "source": [
    "# val\n",
    "stack_test = pd.concat([pd.DataFrame(stx),pd.DataFrame(strr),pd.DataFrame(stl)],1)"
   ]
  },
  {
   "cell_type": "code",
   "execution_count": 118,
   "metadata": {
    "collapsed": true
   },
   "outputs": [],
   "source": [
    "# test\n",
    "stack_t = pd.concat([pd.DataFrame(stxt),pd.DataFrame(strrt),pd.DataFrame(stlt)],1)"
   ]
  },
  {
   "cell_type": "code",
   "execution_count": 119,
   "metadata": {},
   "outputs": [
    {
     "data": {
      "text/plain": [
       "(4215, 3)"
      ]
     },
     "execution_count": 119,
     "metadata": {},
     "output_type": "execute_result"
    }
   ],
   "source": [
    "stack_train.shape"
   ]
  },
  {
   "cell_type": "code",
   "execution_count": 120,
   "metadata": {
    "collapsed": true
   },
   "outputs": [],
   "source": [
    "stack = RandomForestClassifier(max_depth=13)"
   ]
  },
  {
   "cell_type": "code",
   "execution_count": 121,
   "metadata": {},
   "outputs": [
    {
     "data": {
      "text/plain": [
       "RandomForestClassifier(bootstrap=True, class_weight=None, criterion='gini',\n",
       "            max_depth=13, max_features='auto', max_leaf_nodes=None,\n",
       "            min_impurity_decrease=0.0, min_impurity_split=None,\n",
       "            min_samples_leaf=1, min_samples_split=2,\n",
       "            min_weight_fraction_leaf=0.0, n_estimators=10, n_jobs=1,\n",
       "            oob_score=False, random_state=None, verbose=0,\n",
       "            warm_start=False)"
      ]
     },
     "execution_count": 121,
     "metadata": {},
     "output_type": "execute_result"
    }
   ],
   "source": [
    "stack.fit(stack_train,ytrain)"
   ]
  },
  {
   "cell_type": "code",
   "execution_count": 122,
   "metadata": {},
   "outputs": [
    {
     "name": "stdout",
     "output_type": "stream",
     "text": [
      "\n",
      " Classifaction Report : \n",
      "\n",
      "              precision    recall  f1-score   support\n",
      "\n",
      "          0       0.88      0.84      0.86       790\n",
      "          1       0.59      0.67      0.63       264\n",
      "\n",
      "avg / total       0.81      0.80      0.80      1054\n",
      "\n",
      "\n",
      " Accuracy :  0.799810246679\n"
     ]
    }
   ],
   "source": [
    "print('\\n Classifaction Report : \\n\\n',metrics.classification_report(ytest,stack.predict(stack_test)))\n",
    "print('\\n Accuracy : ',metrics.accuracy_score(ytest,stack.predict(stack_test)))"
   ]
  },
  {
   "cell_type": "markdown",
   "metadata": {},
   "source": [
    "#### MLP"
   ]
  },
  {
   "cell_type": "code",
   "execution_count": 123,
   "metadata": {
    "collapsed": true
   },
   "outputs": [],
   "source": [
    "from sklearn.neural_network import MLPClassifier"
   ]
  },
  {
   "cell_type": "code",
   "execution_count": 124,
   "metadata": {
    "collapsed": true
   },
   "outputs": [],
   "source": [
    "m = MLPClassifier(learning_rate='adaptive',hidden_layer_sizes=(75,75))"
   ]
  },
  {
   "cell_type": "code",
   "execution_count": 125,
   "metadata": {},
   "outputs": [
    {
     "data": {
      "text/plain": [
       "MLPClassifier(activation='relu', alpha=0.0001, batch_size='auto', beta_1=0.9,\n",
       "       beta_2=0.999, early_stopping=False, epsilon=1e-08,\n",
       "       hidden_layer_sizes=(75, 75), learning_rate='adaptive',\n",
       "       learning_rate_init=0.001, max_iter=200, momentum=0.9,\n",
       "       nesterovs_momentum=True, power_t=0.5, random_state=None,\n",
       "       shuffle=True, solver='adam', tol=0.0001, validation_fraction=0.1,\n",
       "       verbose=False, warm_start=False)"
      ]
     },
     "execution_count": 125,
     "metadata": {},
     "output_type": "execute_result"
    }
   ],
   "source": [
    "m.fit(xtrain,ytrain)"
   ]
  },
  {
   "cell_type": "code",
   "execution_count": 126,
   "metadata": {},
   "outputs": [
    {
     "name": "stdout",
     "output_type": "stream",
     "text": [
      "\n",
      " Classifaction Report : \n",
      "\n",
      "              precision    recall  f1-score   support\n",
      "\n",
      "          0       0.84      0.87      0.86       790\n",
      "          1       0.57      0.52      0.54       264\n",
      "\n",
      "avg / total       0.78      0.78      0.78      1054\n",
      "\n",
      "Accuracy : 0.781783681214\n"
     ]
    }
   ],
   "source": [
    "# Classification report and accuracy\n",
    "print('\\n Classifaction Report : \\n\\n',metrics.classification_report(ytest,m.predict(np.matrix(xtest))))\n",
    "print('Accuracy :',metrics.accuracy_score(ytest,m.predict(np.matrix(xtest))))"
   ]
  },
  {
   "cell_type": "markdown",
   "metadata": {},
   "source": [
    "** Predictions On Test **"
   ]
  },
  {
   "cell_type": "code",
   "execution_count": 127,
   "metadata": {},
   "outputs": [
    {
     "data": {
      "text/plain": [
       "LogisticRegressionCV(Cs=100, class_weight='balanced', cv=10, dual=False,\n",
       "           fit_intercept=True, intercept_scaling=1.0, max_iter=100,\n",
       "           multi_class='ovr', n_jobs=1, penalty='l2', random_state=20,\n",
       "           refit=True, scoring='accuracy', solver='lbfgs', tol=0.0001,\n",
       "           verbose=0)"
      ]
     },
     "execution_count": 127,
     "metadata": {},
     "output_type": "execute_result"
    }
   ],
   "source": [
    "logreg.fit(x,y)"
   ]
  },
  {
   "cell_type": "code",
   "execution_count": 128,
   "metadata": {
    "collapsed": true
   },
   "outputs": [],
   "source": [
    "p = logreg.predict(te_x)"
   ]
  },
  {
   "cell_type": "code",
   "execution_count": 129,
   "metadata": {
    "collapsed": true
   },
   "outputs": [],
   "source": [
    "labels = ['No','Yes']\n",
    "churn=[]\n",
    "for i in p:\n",
    "    churn.append(labels[i])"
   ]
  },
  {
   "cell_type": "code",
   "execution_count": 130,
   "metadata": {
    "collapsed": true
   },
   "outputs": [],
   "source": [
    "churn = pd.DataFrame(churn,columns=['Churn']) "
   ]
  },
  {
   "cell_type": "code",
   "execution_count": 131,
   "metadata": {
    "collapsed": true
   },
   "outputs": [],
   "source": [
    "preds = pd.concat([test,churn],1) # CustomerID and Churn"
   ]
  },
  {
   "cell_type": "code",
   "execution_count": 132,
   "metadata": {
    "collapsed": true
   },
   "outputs": [],
   "source": [
    "preds.to_csv('predictions.csv',index=False) # write to predictions.csv"
   ]
  },
  {
   "cell_type": "markdown",
   "metadata": {},
   "source": [
    "** Patterns **"
   ]
  },
  {
   "cell_type": "code",
   "execution_count": 133,
   "metadata": {
    "collapsed": true
   },
   "outputs": [],
   "source": [
    "exp = tree.fit(xtrain,ytrain)  # gini\n",
    "exp1 = entropy.fit(xtrain,ytrain) # Entropy"
   ]
  },
  {
   "cell_type": "code",
   "execution_count": 134,
   "metadata": {
    "collapsed": true
   },
   "outputs": [],
   "source": [
    "from sklearn.tree import export_graphviz\n",
    "export_graphviz(exp,'patern.dot',class_names=['No','Yes'],feature_names=xtrain.columns)\n",
    "export_graphviz(exp1,'entropy.dot',class_names=['No','Yes'],feature_names=xtrain.columns)"
   ]
  }
 ],
 "metadata": {
  "kernelspec": {
   "display_name": "Python 3 (ipykernel)",
   "language": "python",
   "name": "python3"
  },
  "language_info": {
   "codemirror_mode": {
    "name": "ipython",
    "version": 3
   },
   "file_extension": ".py",
   "mimetype": "text/x-python",
   "name": "python",
   "nbconvert_exporter": "python",
   "pygments_lexer": "ipython3",
   "version": "3.8.10"
  }
 },
 "nbformat": 4,
 "nbformat_minor": 2
}
